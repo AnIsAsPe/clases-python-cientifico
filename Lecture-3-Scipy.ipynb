{
 "metadata": {
  "name": ""
 },
 "nbformat": 3,
 "nbformat_minor": 0,
 "worksheets": [
  {
   "cells": [
    {
     "cell_type": "markdown",
     "metadata": {},
     "source": [
      "# SciPy - Librer\u00eda de algor\u00edtmos cient\u00edficos para Python\n",
      "\n",
      "Versi\u00f3n original en ingl\u00e9s de J.R. Johansson (robert@riken.jp) http://dml.riken.jp/~rob/\n",
      "\n",
      "Traducido/Adaptado por [G.F. Rubilar](http://google.com/+GuillermoRubilar).\n",
      "\n",
      "La \u00faltima versi\u00f3n de estos [notebooks de IPython](http://ipython.org/notebook.html) est\u00e1 disponible en [http://github.com/gfrubi/clases-python-cientifico](http://github.com/gfrubi/clases-python-cientifico).\n",
      "\n",
      "La \u00faltima versi\u00f3n del original (en ingl\u00e9s) de estos [notebooks de IPython](http://ipython.org/notebook.html) est\u00e1 disponible en [http://github.com/jrjohansson/scientific-python-lectures](http://github.com/jrjohansson/scientific-python-lectures).\n",
      "\n",
      "Los otros notebooks de esta serie est\u00e1n listados en [http://jrjohansson.github.com](http://jrjohansson.github.com)."
     ]
    },
    {
     "cell_type": "code",
     "collapsed": false,
     "input": [
      "# \u00bfqu\u00e9 hace esta l\u00ednea?. La respuesta en la clase 4\n",
      "%matplotlib inline\n",
      "from matplotlib.pyplot import *\n",
      "from IPython.display import Image"
     ],
     "language": "python",
     "metadata": {},
     "outputs": [],
     "prompt_number": 146
    },
    {
     "cell_type": "markdown",
     "metadata": {},
     "source": [
      "## Introducci\u00f3n\n",
      "\n",
      "El paquete SciPy agrega caracter\u00edsticas a los algor\u00edtmos de bajo nivel de NumPy para arreglos multidimensionales, y provee un gran n\u00famero de algor\u00edtmos de alto nivel de uso cient\u00edfico. Algunos de los t\u00f3picos que cubre SciPy son:\n",
      "\n",
      "* Funciones especiales ([scipy.special](http://docs.scipy.org/doc/scipy/reference/special.html))\n",
      "* Integraci\u00f3n ([scipy.integrate](http://docs.scipy.org/doc/scipy/reference/integrate.html))\n",
      "* Optimizaci\u00f3n ([scipy.optimize](http://docs.scipy.org/doc/scipy/reference/optimize.html))\n",
      "* Interpolaci\u00f3n ([scipy.interpolate](http://docs.scipy.org/doc/scipy/reference/interpolate.html))\n",
      "* Transformada de Fourier ([scipy.fftpack](http://docs.scipy.org/doc/scipy/reference/fftpack.html))\n",
      "* Procesamiento de se\u00f1ales ([scipy.signal](http://docs.scipy.org/doc/scipy/reference/signal.html))\n",
      "* \u00c1lgebra lineal ([scipy.linalg](http://docs.scipy.org/doc/scipy/reference/linalg.html))\n",
      "* Problemas de Eigenvalores de matrices dispersas ([scipy.sparse](http://docs.scipy.org/doc/scipy/reference/sparse.html))\n",
      "* Estad\u00edstica ([scipy.stats](http://docs.scipy.org/doc/scipy/reference/stats.html))\n",
      "* Procesamiento de im\u00e1genes multi-dimensional ([scipy.ndimage](http://docs.scipy.org/doc/scipy/reference/ndimage.html))\n",
      "* Entrada/Salida desde/hacia archivos ([scipy.io](http://docs.scipy.org/doc/scipy/reference/io.html))\n",
      "\n",
      "Cada uno de estos subm\u00f3dulos provee un muchas funciones y clases que pueden ser usadas para resolver problemas en sus respectivos t\u00f3picos.\n",
      "\n",
      "En esta clases veremos c\u00f3mo usar algunos de estos subpaquetes.\n",
      "\n",
      "Para acceder al paquete SciPy en un programa Python, comenzamos importando todo desde el m\u00f3dulo `scipy`."
     ]
    },
    {
     "cell_type": "code",
     "collapsed": false,
     "input": [
      "from scipy import *"
     ],
     "language": "python",
     "metadata": {},
     "outputs": [],
     "prompt_number": 147
    },
    {
     "cell_type": "markdown",
     "metadata": {},
     "source": [
      "Si s\u00f3lo necesitamos usar una parte de las rutinas de SciPy podemos incluir selectivamente s\u00f3lo aquellos m\u00f3dulos en los que estamos interesados. Por ejemplo, para incluir el paquete de \u00e1lgebra lineal bajo el nombre `la`, podemos incluir:"
     ]
    },
    {
     "cell_type": "code",
     "collapsed": false,
     "input": [
      "import scipy.linalg as la"
     ],
     "language": "python",
     "metadata": {},
     "outputs": [],
     "prompt_number": 148
    },
    {
     "cell_type": "markdown",
     "metadata": {},
     "source": [
      "## Funciones Especiales\n",
      "\n",
      "En muchos problemas de f\u00edsica computacional son importantes varias funciones matem\u00e1ticas especiales. SciPy provee implementaciones de muchas de estas funciones especiales. Para m\u00e1s detalles, ver la lista de funciones en la documentaci\u00f3n http://docs.scipy.org/doc/scipy/reference/special.html#module-scipy.special. \n",
      "\n",
      "Para demostrar el uso t\u00edpico de estas funciones especiales nos concentraremos en las funciones de Bessel:"
     ]
    },
    {
     "cell_type": "code",
     "collapsed": false,
     "input": [
      "#\n",
      "# El m\u00f3dulo scipy.special incluye muchas funciones de Bessel \n",
      "# Aqu\u00ed usaremos las funciones jn e yn, que son las funciones de Bessel \n",
      "# de primera y segunda especie, y de orden real. Incluimos tambi\u00e9n las  \n",
      "# funciones jn_zeros e yn_zeros que entregan los ceros de las\n",
      "# funciones jn e yn.\n",
      "#\n",
      "from scipy.special import jn, yn, jn_zeros, yn_zeros"
     ],
     "language": "python",
     "metadata": {},
     "outputs": [],
     "prompt_number": 149
    },
    {
     "cell_type": "code",
     "collapsed": false,
     "input": [
      "n = 0    # orden de la funci\u00f3n\n",
      "x = 0.0\n",
      "\n",
      "# Funci\u00f3n de Bessel de primera especie\n",
      "print \"J_%d(%f) = %f\" % (n, x, jn(n, x))\n",
      "\n",
      "x = 1.0\n",
      "# Funci\u00f3n de Bessel de segunda especie\n",
      "print \"Y_%d(%f) = %f\" % (n, x, yn(n, x))"
     ],
     "language": "python",
     "metadata": {},
     "outputs": [
      {
       "output_type": "stream",
       "stream": "stdout",
       "text": [
        "J_0(0.000000) = 1.000000\n",
        "Y_0(1.000000) = 0.088257\n"
       ]
      }
     ],
     "prompt_number": 150
    },
    {
     "cell_type": "code",
     "collapsed": false,
     "input": [
      "x = linspace(0, 10, 100)\n",
      "\n",
      "fig, ax = subplots()\n",
      "for n in range(4):\n",
      "    ax.plot(x, jn(n, x), label=r\"$J_%d(x)$\" % n)\n",
      "ax.legend();"
     ],
     "language": "python",
     "metadata": {},
     "outputs": [
      {
       "metadata": {},
       "output_type": "display_data",
       "png": "[encoded data removed]",
       "text": [
        "<matplotlib.figure.Figure at 0x3d94c10>"
       ]
      }
     ],
     "prompt_number": 151
    },
    {
     "cell_type": "code",
     "collapsed": false,
     "input": [
      "# ceros de las funciones de Bessel\n",
      "n = 0 # orden\n",
      "m = 4 # n\u00famero de raices a calcular\n",
      "jn_zeros(n, m)"
     ],
     "language": "python",
     "metadata": {},
     "outputs": [
      {
       "metadata": {},
       "output_type": "pyout",
       "prompt_number": 152,
       "text": [
        "array([  2.40482556,   5.52007811,   8.65372791,  11.79153444])"
       ]
      }
     ],
     "prompt_number": 152
    },
    {
     "cell_type": "markdown",
     "metadata": {},
     "source": [
      "## Integraci\u00f3n\n",
      "\n",
      "### Integraci\u00f3n num\u00e9rica: cuadraturas\n",
      "\n",
      "La evaluaci\u00f3n num\u00e9rica de una funci\u00f3n, del tipo\n",
      "\n",
      "$\\displaystyle \\int_a^b f(x) dx$\n",
      "\n",
      "es llamada *cuadratura num\u00e9rica*, o simplemente *cuadratura*. SciPy suministra funciones para diferentes tipos de cuadraturas, por ejemplo las funciones `quad`, `dblquad` y `tplquad` para calcular integrales simples, dobles o triples, respectivamente."
     ]
    },
    {
     "cell_type": "code",
     "collapsed": false,
     "input": [
      "from scipy.integrate import quad, dblquad, tplquad"
     ],
     "language": "python",
     "metadata": {},
     "outputs": [],
     "prompt_number": 153
    },
    {
     "cell_type": "markdown",
     "metadata": {},
     "source": [
      "Las funci\u00f3n `quad` acepta una gran cantidad de argumentos opcionales, que pueden ser usados para ajustar detalles del comportamiento de la funci\u00f3n (ingrese `help(quad)` para m\u00e1s detalles).\n",
      "\n",
      "El uso b\u00e1sico es el siguiente:"
     ]
    },
    {
     "cell_type": "code",
     "collapsed": false,
     "input": [
      "# define una funci\u00f3n simple para ser integrada\n",
      "def f(x):\n",
      "    return x"
     ],
     "language": "python",
     "metadata": {},
     "outputs": [],
     "prompt_number": 154
    },
    {
     "cell_type": "code",
     "collapsed": false,
     "input": [
      "x_inf = 0 # el l\u00edmite inferior de x\n",
      "x_sup = 1 # el l\u00edmite superior de x\n",
      "\n",
      "val, errabs = quad(f, x_inf, x_sup)\n",
      "\n",
      "print \"valor de la integral =\", val, \", error absoluto =\", errabs "
     ],
     "language": "python",
     "metadata": {},
     "outputs": [
      {
       "output_type": "stream",
       "stream": "stdout",
       "text": [
        "valor de la integral = 0.5 , error absoluto = 5.55111512313e-15\n"
       ]
      }
     ],
     "prompt_number": 155
    },
    {
     "cell_type": "markdown",
     "metadata": {},
     "source": [
      "Si necesitamos incluir argumento extras en la funci\u00f3n integrando podemos usar el argumento `args`:"
     ]
    },
    {
     "cell_type": "code",
     "collapsed": false,
     "input": [
      "def integrando(x, n):\n",
      "    \"\"\"\n",
      "    funci\u00f3n de Bessel de primera especie y orden n. \n",
      "    \"\"\"\n",
      "    return jn(n, x)\n",
      "\n",
      "\n",
      "x_inf = 0 # el l\u00edmite inferior de x\n",
      "x_sup = 10 # el l\u00edmite superior de x\n",
      "\n",
      "val, errabs = quad(integrando, x_inf, x_sup, args=(3,)) # evalua la integral con n=3\n",
      "\n",
      "print val, errabs "
     ],
     "language": "python",
     "metadata": {},
     "outputs": [
      {
       "output_type": "stream",
       "stream": "stdout",
       "text": [
        "0.736675137081 9.38925687719e-13\n"
       ]
      }
     ],
     "prompt_number": 156
    },
    {
     "cell_type": "markdown",
     "metadata": {},
     "source": [
      "Para funciones simples podemos usar la funci\u00f3n lambda function (funci\u00f3n an\u00f3nima) en lugar de definir expl\u00edcitamente una funci\u00f3n para el integrando:"
     ]
    },
    {
     "cell_type": "code",
     "collapsed": false,
     "input": [
      "val, errabs = quad(lambda x: exp(-x ** 2), -Inf, Inf) # Inf = infinito!\n",
      "\n",
      "print \"resultado num\u00e9rico  =\", val, errabs\n",
      "\n",
      "analitico = sqrt(pi)\n",
      "print \"analitico =\", analitico"
     ],
     "language": "python",
     "metadata": {},
     "outputs": [
      {
       "output_type": "stream",
       "stream": "stdout",
       "text": [
        "resultado num\u00e9rico  = 1.77245385091 1.42026367809e-08\n",
        "analitico = 1.77245385091\n"
       ]
      }
     ],
     "prompt_number": 157
    },
    {
     "cell_type": "markdown",
     "metadata": {},
     "source": [
      "Como se muestra en este ejemplo, podemos usar 'Inf' y '-Inf' como l\u00edmites de la integral.\n",
      "\n",
      "Integrales de dimensi\u00f3n mayor se eval\u00faan de forma similar:"
     ]
    },
    {
     "cell_type": "code",
     "collapsed": false,
     "input": [
      "def integrando(x, y):\n",
      "    return exp(-x**2-y**2)\n",
      "\n",
      "x_inf = 0  \n",
      "x_sup = 10\n",
      "y_inf = 0\n",
      "y_sup = 10\n",
      "\n",
      "val, errabs = dblquad(integrando, x_inf, x_sup, lambda x : y_inf, lambda x: y_sup)\n",
      "\n",
      "print val, errabs"
     ],
     "language": "python",
     "metadata": {},
     "outputs": [
      {
       "output_type": "stream",
       "stream": "stdout",
       "text": [
        "0.785398163397 1.63822994214e-13\n"
       ]
      }
     ],
     "prompt_number": 158
    },
    {
     "cell_type": "markdown",
     "metadata": {},
     "source": [
      "Note como requerimos incorporar funciones lambda para los l\u00edmites de la integraci\u00f3n en y, ya que estos l\u00edmites pueden en general ser funciones de x."
     ]
    },
    {
     "cell_type": "markdown",
     "metadata": {},
     "source": [
      "### Ecuaciones diferenencias ordinarias (EDOs)\n",
      "\n",
      "SciPy provee dos formas diferentes para resolver EDOs: Una API (Interfaz de programaci\u00f3n de aplicaciones, del ingl\u00e9s \"Application programming interface\") basada en la funci\u00f3n `odeint`, y una API orientada al objeto basada en la clases `ode`. Usualmentey `odeint` es m\u00e1s simplea de usar, pero la clase `ode` ofrece niveles de control m\u00e1s finos.\n",
      "\n",
      "Aqu\u00ed usaremos las funciones `odeint`. Para mayor informaci\u00f3n sobre las clases `ode`, use `help(ode)`. Hace casi todo lo que hace `odeint`, pero de una forma m\u00e1s orientada al objeto.\n",
      "\n",
      "Para usar `odeint`, primero importelo desde el m\u00f3dulo `scipy.integrate`:"
     ]
    },
    {
     "cell_type": "code",
     "collapsed": false,
     "input": [
      "from scipy.integrate import odeint, ode"
     ],
     "language": "python",
     "metadata": {},
     "outputs": [],
     "prompt_number": 159
    },
    {
     "cell_type": "markdown",
     "metadata": {},
     "source": [
      "Un sistema de EDOs es usualmente formulado en forma est\u00e1ndar antes de ser resuelto num\u00e9ricamente. La forma est\u00e1nder es:\n",
      "\n",
      "$y' = f(y, t)$\n",
      "\n",
      "donde \n",
      "\n",
      "$y = [y_1(t), y_2(t), ..., y_n(t)]$ \n",
      "\n",
      "y $f$ es una funci\u00f3n que determina las derivadas de la funci\u00f3n $y_i(t)$. Para resolver la EDO necesitamos conocer la funci\u00f3n $f$ y una condici\u00f3n inicial, $y(0)$.\n",
      "\n",
      "Note que EDOs de orden superior siempre pueden ser escritas en esta forma introduciendo nuevas variables para las derivadas intermedias.\n",
      "\n",
      "Una vez definida la funci\u00f3n `f` y el arreglo `y_0`, podemos usar la funci\u00f3n `odeint`:\n",
      "\n",
      "    y_t = odeint(f, y_0, t)\n",
      "\n",
      "donde `t` es un arreglo con las coordenadas temporales para las que se resolver\u00e1 el sistema de EDOs. El resultado `y_t` es un arreglo con una linea para cada punto de tiempo `t`, y donde cada columna corresponde a una soluci\u00f3n `y_i(t)` para ese tiempo. \n",
      "\n",
      "Veremos c\u00f3mo implementar `f` e `y_0` en c\u00f3digo Python en los siguientes ejemplos."
     ]
    },
    {
     "cell_type": "markdown",
     "metadata": {},
     "source": [
      "#### Ejemplo: p\u00e9ndulo doble"
     ]
    },
    {
     "cell_type": "markdown",
     "metadata": {},
     "source": [
      "Consideremos un problema f\u00edsico: El p\u00e9ndulo doble compuesto, descrito en m\u00e1s detalle aqu\u00ed (en ingl\u00e9s): http://en.wikipedia.org/wiki/Double_pendulum."
     ]
    },
    {
     "cell_type": "code",
     "collapsed": false,
     "input": [
      "Image(url='http://upload.wikimedia.org/wikipedia/commons/c/c9/Double-compound-pendulum-dimensioned.svg')"
     ],
     "language": "python",
     "metadata": {},
     "outputs": [
      {
       "html": [
        "<img src=\"http://upload.wikimedia.org/wikipedia/commons/c/c9/Double-compound-pendulum-dimensioned.svg\"/>"
       ],
       "metadata": {},
       "output_type": "pyout",
       "prompt_number": 160,
       "text": [
        "<IPython.core.display.Image at 0x3621bd0>"
       ]
      }
     ],
     "prompt_number": 160
    },
    {
     "cell_type": "markdown",
     "metadata": {},
     "source": [
      "Las ecuaciones hamiltonianas de movimiento para el p\u00e9ndulo son dadas (ver p\u00e1gina de wikipedia):\n",
      "\n",
      "${\\dot \\theta_1} = \\frac{6}{m\\ell^2} \\frac{ 2 p_{\\theta_1} - 3 \\cos(\\theta_1-\\theta_2) p_{\\theta_2}}{16 - 9 \\cos^2(\\theta_1-\\theta_2)}$\n",
      "\n",
      "${\\dot \\theta_2} = \\frac{6}{m\\ell^2} \\frac{ 8 p_{\\theta_2} - 3 \\cos(\\theta_1-\\theta_2) p_{\\theta_1}}{16 - 9 \\cos^2(\\theta_1-\\theta_2)}.$\n",
      "\n",
      "${\\dot p_{\\theta_1}} = -\\frac{1}{2} m \\ell^2 \\left [ {\\dot \\theta_1} {\\dot \\theta_2} \\sin (\\theta_1-\\theta_2) + 3 \\frac{g}{\\ell} \\sin \\theta_1 \\right ]$\n",
      "\n",
      "${\\dot p_{\\theta_2}} = -\\frac{1}{2} m \\ell^2 \\left [ -{\\dot \\theta_1} {\\dot \\theta_2} \\sin (\\theta_1-\\theta_2) +  \\frac{g}{\\ell} \\sin \\theta_2 \\right]$\n",
      "\n",
      "Para que el c\u00f3digo Python sea simple de leer, introduzcamos nuevos nombres de variables y la notaci\u00f3n vectorial: $x = [\\theta_1, \\theta_2, p_{\\theta_1}, p_{\\theta_2}]$\n",
      "\n",
      "${\\dot x_1} = \\frac{6}{m\\ell^2} \\frac{ 2 x_3 - 3 \\cos(x_1-x_2) x_4}{16 - 9 \\cos^2(x_1-x_2)}$\n",
      "\n",
      "${\\dot x_2} = \\frac{6}{m\\ell^2} \\frac{ 8 x_4 - 3 \\cos(x_1-x_2) x_3}{16 - 9 \\cos^2(x_1-x_2)}$\n",
      "\n",
      "${\\dot x_3} = -\\frac{1}{2} m \\ell^2 \\left [ {\\dot x_1} {\\dot x_2} \\sin (x_1-x_2) + 3 \\frac{g}{\\ell} \\sin x_1 \\right ]$\n",
      "\n",
      "${\\dot x_4} = -\\frac{1}{2} m \\ell^2 \\left [ -{\\dot x_1} {\\dot x_2} \\sin (x_1-x_2) +  \\frac{g}{\\ell} \\sin x_2 \\right]$"
     ]
    },
    {
     "cell_type": "code",
     "collapsed": false,
     "input": [
      "g = 9.82\n",
      "L = 0.5\n",
      "m = 0.1\n",
      "\n",
      "def dx(x, t):\n",
      "    \"\"\"\n",
      "    El lado derecho de la EDO del p\u00e9ndulo\n",
      "    \"\"\"\n",
      "    x1, x2, x3, x4 = x[0], x[1], x[2], x[3]\n",
      "    \n",
      "    dx1 = 6.0/(m*L**2) * (2 * x3 - 3 * cos(x1-x2) * x4)/(16 - 9 * cos(x1-x2)**2)\n",
      "    dx2 = 6.0/(m*L**2) * (8 * x4 - 3 * cos(x1-x2) * x3)/(16 - 9 * cos(x1-x2)**2)\n",
      "    dx3 = -0.5 * m * L**2 * ( dx1 * dx2 * sin(x1-x2) + 3 * (g/L) * sin(x1))\n",
      "    dx4 = -0.5 * m * L**2 * (-dx1 * dx2 * sin(x1-x2) + (g/L) * sin(x2))\n",
      "    \n",
      "    return [dx1, dx2, dx3, dx4]"
     ],
     "language": "python",
     "metadata": {},
     "outputs": [],
     "prompt_number": 161
    },
    {
     "cell_type": "code",
     "collapsed": false,
     "input": [
      "# define la condici\u00f3n inicial\n",
      "x0 = [pi/4, pi/2, 0, 0]"
     ],
     "language": "python",
     "metadata": {},
     "outputs": [],
     "prompt_number": 162
    },
    {
     "cell_type": "code",
     "collapsed": false,
     "input": [
      "# tiempos en los que se resolver\u00e1 la EDO: desde 0 hasta 10 segundos\n",
      "t = linspace(0, 10, 250)"
     ],
     "language": "python",
     "metadata": {},
     "outputs": [],
     "prompt_number": 163
    },
    {
     "cell_type": "code",
     "collapsed": false,
     "input": [
      "# resuelve el sistema de EDOs\n",
      "x = odeint(dx, x0, t)"
     ],
     "language": "python",
     "metadata": {},
     "outputs": [],
     "prompt_number": 164
    },
    {
     "cell_type": "code",
     "collapsed": false,
     "input": [
      "# grafica los \u00e1ngulos como funciones del tiempo\n",
      "\n",
      "fig, axes = subplots(1,2, figsize=(12,4))\n",
      "axes[0].plot(t, x[:, 0], 'r', label=\"theta1\")\n",
      "axes[0].plot(t, x[:, 1], 'b', label=\"theta2\")\n",
      "\n",
      "\n",
      "x1 = + L * sin(x[:, 0])\n",
      "y1 = - L * cos(x[:, 0])\n",
      "\n",
      "x2 = x1 + L * sin(x[:, 1])\n",
      "y2 = y1 - L * cos(x[:, 1])\n",
      "    \n",
      "axes[1].plot(x1, y1, 'r', label=\"pendulo1\")\n",
      "axes[1].plot(x2, y2, 'b', label=\"pendulo2\")\n",
      "axes[1].set_ylim([-1, 0])\n",
      "axes[1].set_xlim([1, -1]);"
     ],
     "language": "python",
     "metadata": {},
     "outputs": [
      {
       "metadata": {},
       "output_type": "display_data",
       "png": "[encoded data removed]",
       "text": [
        "<matplotlib.figure.Figure at 0x362f650>"
       ]
      }
     ],
     "prompt_number": 165
    },
    {
     "cell_type": "markdown",
     "metadata": {},
     "source": [
      "Animaci\u00f3n simple del movimiento del p\u00e9ndulo. Veremos c\u00f3mo crear mejores animaciones en la clase 4."
     ]
    },
    {
     "cell_type": "code",
     "collapsed": false,
     "input": [
      "from IPython.display import clear_output\n",
      "import time"
     ],
     "language": "python",
     "metadata": {},
     "outputs": [],
     "prompt_number": 166
    },
    {
     "cell_type": "code",
     "collapsed": false,
     "input": [
      "fig, ax = subplots(figsize=(4,4))\n",
      "\n",
      "for t_idx, tt in enumerate(t[:200]):\n",
      "\n",
      "    x1 = + L * sin(x[t_idx, 0])\n",
      "    y1 = - L * cos(x[t_idx, 0])\n",
      "\n",
      "    x2 = x1 + L * sin(x[t_idx, 1])\n",
      "    y2 = y1 - L * cos(x[t_idx, 1])\n",
      "    \n",
      "    ax.cla()    \n",
      "    ax.plot([0, x1], [0, y1], 'r.-')\n",
      "    ax.plot([x1, x2], [y1, y2], 'b.-')\n",
      "    ax.set_ylim([-1.5, 0.5])\n",
      "    ax.set_xlim([1, -1])\n",
      "\n",
      "    display(fig)\n",
      "    clear_output()\n",
      "    \n",
      "    time.sleep(0.1)"
     ],
     "language": "python",
     "metadata": {},
     "outputs": [
      {
       "ename": "NameError",
       "evalue": "name 'display' is not defined",
       "output_type": "pyerr",
       "traceback": [
        "\u001b[1;31m---------------------------------------------------------------------------\u001b[0m\n\u001b[1;31mNameError\u001b[0m                                 Traceback (most recent call last)",
        "\u001b[1;32m<ipython-input-167-61699d1dda36>\u001b[0m in \u001b[0;36m<module>\u001b[1;34m()\u001b[0m\n\u001b[0;32m     15\u001b[0m     \u001b[0max\u001b[0m\u001b[1;33m.\u001b[0m\u001b[0mset_xlim\u001b[0m\u001b[1;33m(\u001b[0m\u001b[1;33m[\u001b[0m\u001b[1;36m1\u001b[0m\u001b[1;33m,\u001b[0m \u001b[1;33m-\u001b[0m\u001b[1;36m1\u001b[0m\u001b[1;33m]\u001b[0m\u001b[1;33m)\u001b[0m\u001b[1;33m\u001b[0m\u001b[0m\n\u001b[0;32m     16\u001b[0m \u001b[1;33m\u001b[0m\u001b[0m\n\u001b[1;32m---> 17\u001b[1;33m     \u001b[0mdisplay\u001b[0m\u001b[1;33m(\u001b[0m\u001b[0mfig\u001b[0m\u001b[1;33m)\u001b[0m\u001b[1;33m\u001b[0m\u001b[0m\n\u001b[0m\u001b[0;32m     18\u001b[0m     \u001b[0mclear_output\u001b[0m\u001b[1;33m(\u001b[0m\u001b[1;33m)\u001b[0m\u001b[1;33m\u001b[0m\u001b[0m\n\u001b[0;32m     19\u001b[0m \u001b[1;33m\u001b[0m\u001b[0m\n",
        "\u001b[1;31mNameError\u001b[0m: name 'display' is not defined"
       ]
      },
      {
       "metadata": {},
       "output_type": "display_data",
       "png": "[encoded data removed]",
       "text": [
        "<matplotlib.figure.Figure at 0x3db8290>"
       ]
      }
     ],
     "prompt_number": 167
    },
    {
     "cell_type": "markdown",
     "metadata": {},
     "source": [
      "#### Ejemplo: Oscilador arm\u00f3nico amortiguado"
     ]
    },
    {
     "cell_type": "markdown",
     "metadata": {},
     "source": [
      "Problemas de EDO son importantes en F\u00edsica Computacional, de modo que veremos un ejemplo adicional: el oscilador arm\u00f3nico amortiguado. Este problema est\u00e1 bastante bien descrito en wikipedia (en ingl\u00e9s): http://en.wikipedia.org/wiki/Damping.\n",
      "\n",
      "La ecuaci\u00f3n de movimiento para el oscilador amortiguado es:\n",
      "\n",
      "$\\displaystyle \\frac{\\mathrm{d}^2x}{\\mathrm{d}t^2} + 2\\zeta\\omega_0\\frac{\\mathrm{d}x}{\\mathrm{d}t} + \\omega^2_0 x = 0$\n",
      "\n",
      "donde $x$ es la posici\u00f3n del oscilador, $\\omega_0$ la frecuencia, y $\\zeta$ es el factor de amortiguamiento. Para escribir esta EDO de segundo orden en la forma est\u00e1ndar, introducimos $p = \\frac{\\mathrm{d}x}{\\mathrm{d}t}$:\n",
      "\n",
      "$\\displaystyle \\frac{\\mathrm{d}p}{\\mathrm{d}t} = - 2\\zeta\\omega_0 p - \\omega^2_0 x$\n",
      "\n",
      "$\\displaystyle \\frac{\\mathrm{d}x}{\\mathrm{d}t} = p$\n",
      "\n",
      "En la implementaci\u00f3n de este ejemplo agregaremos algunos argumentos extras a la funci\u00f3n del lado derecho de la EDO, en lugar de usar variables glovales como en el ejemplo anterior. Como consecuencia de los argumentos extra, necesitamos pasar un argumento clave `args` a la funci\u00f3n `odeint`:"
     ]
    },
    {
     "cell_type": "code",
     "collapsed": false,
     "input": [
      "def dy(y, t, zeta, w0):\n",
      "    \"\"\"\n",
      "    El lado derecho de la EDO del oscilador amortiguado\n",
      "    \"\"\"\n",
      "    x, p = y[0], y[1]\n",
      "    \n",
      "    dx = p\n",
      "    dp = -2 * zeta * w0 * p - w0**2 * x\n",
      "\n",
      "    return [dx, dp]"
     ],
     "language": "python",
     "metadata": {},
     "outputs": [],
     "prompt_number": 168
    },
    {
     "cell_type": "code",
     "collapsed": false,
     "input": [
      "# condici\u00f3n inicial: \n",
      "y0 = [1.0, 0.0]"
     ],
     "language": "python",
     "metadata": {},
     "outputs": [],
     "prompt_number": 169
    },
    {
     "cell_type": "code",
     "collapsed": false,
     "input": [
      "# tiempos en los que se resolvera la EDO\n",
      "t = linspace(0, 10, 1000)\n",
      "w0 = 2*pi*1.0"
     ],
     "language": "python",
     "metadata": {},
     "outputs": [],
     "prompt_number": 170
    },
    {
     "cell_type": "code",
     "collapsed": false,
     "input": [
      "# resuelve el sistema de EDOs para tres valores diferentes del factor de amortiguamiento\n",
      "\n",
      "y1 = odeint(dy, y0, t, args=(0.0, w0)) # no amortiguado\n",
      "y2 = odeint(dy, y0, t, args=(0.2, w0)) # subamortiguado\n",
      "y3 = odeint(dy, y0, t, args=(1.0, w0)) # amortiguado cr\u00edtico\n",
      "y4 = odeint(dy, y0, t, args=(5.0, w0)) # sobreamortiguado"
     ],
     "language": "python",
     "metadata": {},
     "outputs": [],
     "prompt_number": 171
    },
    {
     "cell_type": "code",
     "collapsed": false,
     "input": [
      "fig, ax = subplots()\n",
      "ax.plot(t, y1[:,0], 'k', label=\"no amortiguado\", linewidth=0.25)\n",
      "ax.plot(t, y2[:,0], 'r', label=\"subamortiguado\")\n",
      "ax.plot(t, y3[:,0], 'b', label=u\"amortiguado cr\u00edtico\")\n",
      "ax.plot(t, y4[:,0], 'g', label=\"sobreamortiguado\")\n",
      "ax.legend();"
     ],
     "language": "python",
     "metadata": {},
     "outputs": [
      {
       "metadata": {},
       "output_type": "display_data",
       "png": "[encoded data removed]",
       "text": [
        "<matplotlib.figure.Figure at 0x4082350>"
       ]
      }
     ],
     "prompt_number": 172
    },
    {
     "cell_type": "markdown",
     "metadata": {},
     "source": [
      "## Transformada de Fourier\n",
      "\n",
      "Las transformadas de Fourier son unas de las herramientas universales de la Computaci\u00f3n Cient\u00edfica,  que aparece una y otra vez en distintos contextos. SciPy suministra funciones para acceder ala cl\u00e1sica librer\u00eda [FFTPACK](http://www.netlib.org/fftpack/) de NetLib, que es una librer\u00eda eficiente y muy bien testeada para FFT, escrita en FORTRAN. La API de SciPy contiene algunas funciones adicionales, pero en general la API est\u00e1 \u00edntimamente relacionada con la librer\u00eda original en FORTRAN.\n",
      "\n",
      "Para usar el m\u00f3dulo `fftpack` en un programa Python, debe incluir"
     ]
    },
    {
     "cell_type": "code",
     "collapsed": false,
     "input": [
      "from scipy.fftpack import *\n",
      "from numpy.fft import *"
     ],
     "language": "python",
     "metadata": {},
     "outputs": [],
     "prompt_number": 173
    },
    {
     "cell_type": "markdown",
     "metadata": {},
     "source": [
      "Para demostrar c\u00f3mo calcular una transformada r\u00e1pida de Fourier con SciPy, consideremos la FFT de la soluci\u00f3n del oscilador arm\u00f3nico amortiguado del ejemplo anterior:"
     ]
    },
    {
     "cell_type": "code",
     "collapsed": false,
     "input": [
      "N = len(t)\n",
      "dt = t[1]-t[0]\n",
      "\n",
      "# calcula la transformada r\u00e1pida de Fourier\n",
      "# y2 es la soluci\u00f3n del oscilador subamortiguado del ejemplo anterior\n",
      "F = fft(y2[:,0]) \n",
      "\n",
      "# calcula las frecuencias para las componentes en F\n",
      "w = fftfreq(N, dt)"
     ],
     "language": "python",
     "metadata": {},
     "outputs": [],
     "prompt_number": 174
    },
    {
     "cell_type": "code",
     "collapsed": false,
     "input": [
      "fig, ax = subplots(figsize=(9,3))\n",
      "ax.plot(w, abs(F));"
     ],
     "language": "python",
     "metadata": {},
     "outputs": [
      {
       "metadata": {},
       "output_type": "display_data",
       "png": "[encoded data removed]",
       "text": [
        "<matplotlib.figure.Figure at 0x43fe310>"
       ]
      }
     ],
     "prompt_number": 175
    },
    {
     "cell_type": "markdown",
     "metadata": {},
     "source": [
      "Como la se\u00f1al es real, el espectro es sim\u00e9trico. Por eso, s\u00f3lo necesitamos graficar la parte que corresponde a las frecuencias positivas. Para extraer esa parte de `w` y `F` podemos usar algunos de los trucos con \u00edndices para arreglos NumPy que vimos en la clase 2:"
     ]
    },
    {
     "cell_type": "code",
     "collapsed": false,
     "input": [
      "indices = where(w > 0) # selecciona s\u00f3lo los \u00edndices de elementos que corresponden a frecuencias positivas\n",
      "w_pos = w[indices]\n",
      "F_pos = F[indices]"
     ],
     "language": "python",
     "metadata": {},
     "outputs": [],
     "prompt_number": 176
    },
    {
     "cell_type": "code",
     "collapsed": false,
     "input": [
      "fig, ax = subplots(figsize=(9,3))\n",
      "ax.plot(w_pos, abs(F_pos))\n",
      "ax.set_xlim(0, 5);"
     ],
     "language": "python",
     "metadata": {},
     "outputs": [
      {
       "metadata": {},
       "output_type": "display_data",
       "png": "[encoded data removed]",
       "text": [
        "<matplotlib.figure.Figure at 0x4073090>"
       ]
      }
     ],
     "prompt_number": 177
    },
    {
     "cell_type": "markdown",
     "metadata": {},
     "source": [
      "Como era de esperar, vemos un peak en el espectro centrado alrededor de 1, que es la frecuencia que usamos para el oscilador."
     ]
    },
    {
     "cell_type": "markdown",
     "metadata": {},
     "source": [
      "## \u00c1lgebra lineal\n",
      "\n",
      "El m\u00f3dulo de \u00e1lgebra lineal contiene muchas funciones relacionadas con matrices, incluyendo resoluci\u00f3n de ecuaciones lineales, c\u00e1lculo de valores propios, funciones de matrices (por ejemplo, para exponenciaci\u00f3n matricial), varias decomposiciones diferentes (SVD, LU, cholesky), etc. \n",
      "\n",
      "Una documentaci\u00f3n detallada est\u00e1 disponible aqu\u00ed: http://docs.scipy.org/doc/scipy/reference/linalg.html\n",
      "\n",
      "Veremos c\u00f3mo usar algunas de estas funciones:"
     ]
    },
    {
     "cell_type": "markdown",
     "metadata": {},
     "source": [
      "#### Sistemas de ecuaciones lineales\n",
      "\n",
      "Los sistemas de ecuaciones lineales de la forma\n",
      "\n",
      "$A x = b$\n",
      "\n",
      "donde $A$ es una matriz y $x,b$ son vectores, pueden ser resueltos del modo siguiente:"
     ]
    },
    {
     "cell_type": "code",
     "collapsed": false,
     "input": [
      "A = array([[1,2,3], [4,5,6], [7,8,9]])\n",
      "b = array([1,2,3])"
     ],
     "language": "python",
     "metadata": {},
     "outputs": [],
     "prompt_number": 178
    },
    {
     "cell_type": "code",
     "collapsed": false,
     "input": [
      "x = linalg.solve(A, b)\n",
      "\n",
      "x"
     ],
     "language": "python",
     "metadata": {},
     "outputs": [
      {
       "metadata": {},
       "output_type": "pyout",
       "prompt_number": 179,
       "text": [
        "array([-0.33333333,  0.66666667,  0.        ])"
       ]
      }
     ],
     "prompt_number": 179
    },
    {
     "cell_type": "code",
     "collapsed": false,
     "input": [
      "# verificamos la soluci\u00f3n\n",
      "dot(A, x) - b"
     ],
     "language": "python",
     "metadata": {},
     "outputs": [
      {
       "metadata": {},
       "output_type": "pyout",
       "prompt_number": 180,
       "text": [
        "array([  0.00000000e+00,  -2.22044605e-16,   0.00000000e+00])"
       ]
      }
     ],
     "prompt_number": 180
    },
    {
     "cell_type": "markdown",
     "metadata": {},
     "source": [
      "Podemos tambi\u00e9n hacer lo mismo con\n",
      "\n",
      "$A X = B$,\n",
      "\n",
      "donde ahora $A, B$ y $X$ son matrices:"
     ]
    },
    {
     "cell_type": "code",
     "collapsed": false,
     "input": [
      "A = random.rand(3,3)\n",
      "B = random.rand(3,3)"
     ],
     "language": "python",
     "metadata": {},
     "outputs": [],
     "prompt_number": 181
    },
    {
     "cell_type": "code",
     "collapsed": false,
     "input": [
      "X = linalg.solve(A, B)"
     ],
     "language": "python",
     "metadata": {},
     "outputs": [],
     "prompt_number": 182
    },
    {
     "cell_type": "code",
     "collapsed": false,
     "input": [
      "X"
     ],
     "language": "python",
     "metadata": {},
     "outputs": [
      {
       "metadata": {},
       "output_type": "pyout",
       "prompt_number": 183,
       "text": [
        "array([[ 0.12837899, -0.47704366,  0.40411016],\n",
        "       [ 1.44421912,  0.06978477, -0.31218295],\n",
        "       [-0.26432144,  1.00153049,  0.80501519]])"
       ]
      }
     ],
     "prompt_number": 183
    },
    {
     "cell_type": "code",
     "collapsed": false,
     "input": [
      "# verificamos la soluci\u00f3n\n",
      "dot(A, X) - B"
     ],
     "language": "python",
     "metadata": {},
     "outputs": [
      {
       "metadata": {},
       "output_type": "pyout",
       "prompt_number": 184,
       "text": [
        "array([[  2.77555756e-17,   1.11022302e-16,   1.11022302e-16],\n",
        "       [  0.00000000e+00,   1.11022302e-16,   1.11022302e-16],\n",
        "       [  0.00000000e+00,   0.00000000e+00,   0.00000000e+00]])"
       ]
      }
     ],
     "prompt_number": 184
    },
    {
     "cell_type": "markdown",
     "metadata": {},
     "source": [
      "#### Valores y vectores propios"
     ]
    },
    {
     "cell_type": "markdown",
     "metadata": {},
     "source": [
      "El problema de valores propios para la matriz $A$:\n",
      "\n",
      "$\\displaystyle A v_n = \\lambda_n v_n$,\n",
      "\n",
      "donde $v_n$ es el $n$-\u00e9simo vector propio y $\\lambda_n$ es el $n$-\u00e9simo valor propio.\n",
      "\n",
      "Para calcular los vectores propios de una matriz usamos `eigvals` y para calcular tanto los valores como los vectores propios, podemos usar la funci\u00f3n `eig`:"
     ]
    },
    {
     "cell_type": "code",
     "collapsed": false,
     "input": [
      "evals = linalg.eigvals(A)"
     ],
     "language": "python",
     "metadata": {},
     "outputs": [],
     "prompt_number": 185
    },
    {
     "cell_type": "code",
     "collapsed": false,
     "input": [
      "evals"
     ],
     "language": "python",
     "metadata": {},
     "outputs": [
      {
       "metadata": {},
       "output_type": "pyout",
       "prompt_number": 186,
       "text": [
        "array([ 1.64074609, -0.53529187,  0.40958826])"
       ]
      }
     ],
     "prompt_number": 186
    },
    {
     "cell_type": "code",
     "collapsed": false,
     "input": [
      "evals, evecs = linalg.eig(A)"
     ],
     "language": "python",
     "metadata": {},
     "outputs": [],
     "prompt_number": 187
    },
    {
     "cell_type": "code",
     "collapsed": false,
     "input": [
      "evals"
     ],
     "language": "python",
     "metadata": {},
     "outputs": [
      {
       "metadata": {},
       "output_type": "pyout",
       "prompt_number": 188,
       "text": [
        "array([ 1.64074609, -0.53529187,  0.40958826])"
       ]
      }
     ],
     "prompt_number": 188
    },
    {
     "cell_type": "code",
     "collapsed": false,
     "input": [
      "evecs"
     ],
     "language": "python",
     "metadata": {},
     "outputs": [
      {
       "metadata": {},
       "output_type": "pyout",
       "prompt_number": 189,
       "text": [
        "array([[ 0.50880334,  0.51059886,  0.41603077],\n",
        "       [ 0.57853411,  0.45860487, -0.88909153],\n",
        "       [ 0.63750878, -0.72730349,  0.19087862]])"
       ]
      }
     ],
     "prompt_number": 189
    },
    {
     "cell_type": "markdown",
     "metadata": {},
     "source": [
      "Los vectores propios correspondientes al $n$-\u00e9simo valor propio (guardado en `evals[n]`) es la $n$-\u00e9sima *columna* en `evecs`, es decir, `evecs[:,n]`. Para verificar esto, intentemos multiplicar los vectores propios con la matriz y comparar el resultado con el producto del vector propio y el valor propio:"
     ]
    },
    {
     "cell_type": "code",
     "collapsed": false,
     "input": [
      "n = 1\n",
      "\n",
      "dot(A, evecs[:,n]) - evals[n] * evecs[:,n]"
     ],
     "language": "python",
     "metadata": {},
     "outputs": [
      {
       "metadata": {},
       "output_type": "pyout",
       "prompt_number": 190,
       "text": [
        "array([  3.33066907e-16,   1.94289029e-16,  -5.55111512e-17])"
       ]
      }
     ],
     "prompt_number": 190
    },
    {
     "cell_type": "markdown",
     "metadata": {},
     "source": [
      "Existen tambi\u00e9n formas m\u00e1s especializadas para resolver proplemas de valores propios, como por ejemplo `eigh` para matrices herm\u00edticas."
     ]
    },
    {
     "cell_type": "markdown",
     "metadata": {},
     "source": [
      "#### Operaciones matriciales"
     ]
    },
    {
     "cell_type": "code",
     "collapsed": false,
     "input": [
      "# matriz inversa\n",
      "linalg.inv(A)"
     ],
     "language": "python",
     "metadata": {},
     "outputs": [
      {
       "metadata": {},
       "output_type": "pyout",
       "prompt_number": 191,
       "text": [
        "array([[ 0.27157679, -0.80133503,  0.99688876],\n",
        "       [-2.08324224,  1.62564592,  0.7404969 ],\n",
        "       [ 1.58555672,  0.06439121, -0.71440735]])"
       ]
      }
     ],
     "prompt_number": 191
    },
    {
     "cell_type": "code",
     "collapsed": false,
     "input": [
      "# determinante\n",
      "linalg.det(A)"
     ],
     "language": "python",
     "metadata": {},
     "outputs": [
      {
       "metadata": {},
       "output_type": "pyout",
       "prompt_number": 192,
       "text": [
        "-0.35973236776860951"
       ]
      }
     ],
     "prompt_number": 192
    },
    {
     "cell_type": "code",
     "collapsed": false,
     "input": [
      "# norma de distintos \u00f3rdenes\n",
      "linalg.norm(A, ord=2), linalg.norm(A, ord=Inf)"
     ],
     "language": "python",
     "metadata": {},
     "outputs": [
      {
       "metadata": {},
       "output_type": "pyout",
       "prompt_number": 193,
       "text": [
        "(1.6582465648355951, 1.8805487607654572)"
       ]
      }
     ],
     "prompt_number": 193
    },
    {
     "cell_type": "markdown",
     "metadata": {},
     "source": [
      "## Matrices dispersas\n",
      "\n",
      "Las matrices dispersas (sparse matrices) son a menudo \u00fatiles en simulaciones num\u00e9ricas que involucran sistemas grandes, si es que el problema puede ser descrito en forma matricial donde las matrices o vectores contienen mayoritariamente ceros. Scipy tiene buen soporte para las matrices dispersas, con operaciones b\u00e1sicas de \u00e1lgebra lineal (tales como resoluci\u00f3n de ecuaciones, c\u00e1lculos de valores propios, etc).\n",
      "\n",
      "Existen muchas estrategias posibles para almacenar matrices dispersas de manera eficiente. Algunas de las m\u00e1s comunes son las as\u00ed llamadas \"formas coordenadas\" (CCO), \"forma de lista de listas\" (LIL), y \"compressed-sparse column\" CSC (tambi\u00e9n  \"compressed-sparse row\", CSR). Cada formato tiene sus ventajas y desventajas. La mayor\u00eda de los algor\u00edtmos computacionales (resoluci\u00f3n de ecuaciones, multiplicaci\u00f3n de matrices, etc) pueden ser implementados eficientemente usando los formatos CSR o CSC, pero ellos no son tan intuitivos ni f\u00e1ciles de inicializar. Por esto, a menudo una matriz dispersa es inicialmente creada en formato COO o LIL (donde podemos agregar elementos a la matriz dispersa eficientemente), y luego convertirlos a CSC o CSR antes de ser usadas en c\u00e1lculos reales.\n",
      "\n",
      "Para m\u00e1s informaci\u00f3n sobre los formatos para matrices dispersas, vea por ejemplo (en ingl\u00e9s): http://en.wikipedia.org/wiki/Sparse_matrix\n",
      "\n",
      "Cuando creamos una matriz dispersa debemos elegir en qu\u00e9 formato la almacenaremos. Por ejemplo, "
     ]
    },
    {
     "cell_type": "code",
     "collapsed": false,
     "input": [
      "from scipy.sparse import *"
     ],
     "language": "python",
     "metadata": {},
     "outputs": [],
     "prompt_number": 194
    },
    {
     "cell_type": "code",
     "collapsed": false,
     "input": [
      "# matriz densa\n",
      "M = array([[1,0,0,0], [0,3,0,0], [0,1,1,0], [1,0,0,1]]); M"
     ],
     "language": "python",
     "metadata": {},
     "outputs": [
      {
       "metadata": {},
       "output_type": "pyout",
       "prompt_number": 195,
       "text": [
        "array([[1, 0, 0, 0],\n",
        "       [0, 3, 0, 0],\n",
        "       [0, 1, 1, 0],\n",
        "       [1, 0, 0, 1]])"
       ]
      }
     ],
     "prompt_number": 195
    },
    {
     "cell_type": "code",
     "collapsed": false,
     "input": [
      "# convierte de densa a dispersa\n",
      "A = csr_matrix(M); A"
     ],
     "language": "python",
     "metadata": {},
     "outputs": [
      {
       "metadata": {},
       "output_type": "pyout",
       "prompt_number": 196,
       "text": [
        "<4x4 sparse matrix of type '<type 'numpy.int64'>'\n",
        "\twith 6 stored elements in Compressed Sparse Row format>"
       ]
      }
     ],
     "prompt_number": 196
    },
    {
     "cell_type": "code",
     "collapsed": false,
     "input": [
      "# convierte de dispersa a densa\n",
      "A.todense()"
     ],
     "language": "python",
     "metadata": {},
     "outputs": [
      {
       "metadata": {},
       "output_type": "pyout",
       "prompt_number": 197,
       "text": [
        "matrix([[1, 0, 0, 0],\n",
        "        [0, 3, 0, 0],\n",
        "        [0, 1, 1, 0],\n",
        "        [1, 0, 0, 1]])"
       ]
      }
     ],
     "prompt_number": 197
    },
    {
     "cell_type": "markdown",
     "metadata": {},
     "source": [
      "Una forma m\u00e1s eficiente de crear matrices dispersas: crear una matriz vac\u00eda y llenarla usando indexado de matrices (evita crear una matriz densa potencialmente muy grande)"
     ]
    },
    {
     "cell_type": "code",
     "collapsed": false,
     "input": [
      "A = lil_matrix((4,4)) # matriz dispersa vac\u00eda de 4x4\n",
      "A[0,0] = 1\n",
      "A[1,1] = 3\n",
      "A[2,2] = A[2,1] = 1\n",
      "A[3,3] = A[3,0] = 1\n",
      "A"
     ],
     "language": "python",
     "metadata": {},
     "outputs": [
      {
       "metadata": {},
       "output_type": "pyout",
       "prompt_number": 198,
       "text": [
        "<4x4 sparse matrix of type '<type 'numpy.float64'>'\n",
        "\twith 6 stored elements in LInked List format>"
       ]
      }
     ],
     "prompt_number": 198
    },
    {
     "cell_type": "code",
     "collapsed": false,
     "input": [
      "A.todense()"
     ],
     "language": "python",
     "metadata": {},
     "outputs": [
      {
       "metadata": {},
       "output_type": "pyout",
       "prompt_number": 199,
       "text": [
        "matrix([[ 1.,  0.,  0.,  0.],\n",
        "        [ 0.,  3.,  0.,  0.],\n",
        "        [ 0.,  1.,  1.,  0.],\n",
        "        [ 1.,  0.,  0.,  1.]])"
       ]
      }
     ],
     "prompt_number": 199
    },
    {
     "cell_type": "markdown",
     "metadata": {},
     "source": [
      "Conviertiendo entre distintos formatos de matriz dispersa:"
     ]
    },
    {
     "cell_type": "code",
     "collapsed": false,
     "input": [
      "A"
     ],
     "language": "python",
     "metadata": {},
     "outputs": [
      {
       "metadata": {},
       "output_type": "pyout",
       "prompt_number": 200,
       "text": [
        "<4x4 sparse matrix of type '<type 'numpy.float64'>'\n",
        "\twith 6 stored elements in LInked List format>"
       ]
      }
     ],
     "prompt_number": 200
    },
    {
     "cell_type": "code",
     "collapsed": false,
     "input": [
      "A = csr_matrix(A); A"
     ],
     "language": "python",
     "metadata": {},
     "outputs": [
      {
       "metadata": {},
       "output_type": "pyout",
       "prompt_number": 201,
       "text": [
        "<4x4 sparse matrix of type '<type 'numpy.float64'>'\n",
        "\twith 6 stored elements in Compressed Sparse Row format>"
       ]
      }
     ],
     "prompt_number": 201
    },
    {
     "cell_type": "code",
     "collapsed": false,
     "input": [
      "A = csc_matrix(A); A"
     ],
     "language": "python",
     "metadata": {},
     "outputs": [
      {
       "metadata": {},
       "output_type": "pyout",
       "prompt_number": 202,
       "text": [
        "<4x4 sparse matrix of type '<type 'numpy.float64'>'\n",
        "\twith 6 stored elements in Compressed Sparse Column format>"
       ]
      }
     ],
     "prompt_number": 202
    },
    {
     "cell_type": "markdown",
     "metadata": {},
     "source": [
      "Podemos calcular usando matrices dispersas como lo hacemos con matrices densas:"
     ]
    },
    {
     "cell_type": "code",
     "collapsed": false,
     "input": [
      "A.todense()"
     ],
     "language": "python",
     "metadata": {},
     "outputs": [
      {
       "metadata": {},
       "output_type": "pyout",
       "prompt_number": 203,
       "text": [
        "matrix([[ 1.,  0.,  0.,  0.],\n",
        "        [ 0.,  3.,  0.,  0.],\n",
        "        [ 0.,  1.,  1.,  0.],\n",
        "        [ 1.,  0.,  0.,  1.]])"
       ]
      }
     ],
     "prompt_number": 203
    },
    {
     "cell_type": "code",
     "collapsed": false,
     "input": [
      "(A * A).todense()"
     ],
     "language": "python",
     "metadata": {},
     "outputs": [
      {
       "metadata": {},
       "output_type": "pyout",
       "prompt_number": 204,
       "text": [
        "matrix([[ 1.,  0.,  0.,  0.],\n",
        "        [ 0.,  9.,  0.,  0.],\n",
        "        [ 0.,  4.,  1.,  0.],\n",
        "        [ 2.,  0.,  0.,  1.]])"
       ]
      }
     ],
     "prompt_number": 204
    },
    {
     "cell_type": "code",
     "collapsed": false,
     "input": [
      "dot(A, A).todense()"
     ],
     "language": "python",
     "metadata": {},
     "outputs": [
      {
       "ename": "ValueError",
       "evalue": "Cannot find a common data type.",
       "output_type": "pyerr",
       "traceback": [
        "\u001b[1;31m---------------------------------------------------------------------------\u001b[0m\n\u001b[1;31mValueError\u001b[0m                                Traceback (most recent call last)",
        "\u001b[1;32m<ipython-input-205-bc2bcac86379>\u001b[0m in \u001b[0;36m<module>\u001b[1;34m()\u001b[0m\n\u001b[1;32m----> 1\u001b[1;33m \u001b[0mdot\u001b[0m\u001b[1;33m(\u001b[0m\u001b[0mA\u001b[0m\u001b[1;33m,\u001b[0m \u001b[0mA\u001b[0m\u001b[1;33m)\u001b[0m\u001b[1;33m.\u001b[0m\u001b[0mtodense\u001b[0m\u001b[1;33m(\u001b[0m\u001b[1;33m)\u001b[0m\u001b[1;33m\u001b[0m\u001b[0m\n\u001b[0m",
        "\u001b[1;31mValueError\u001b[0m: Cannot find a common data type."
       ]
      }
     ],
     "prompt_number": 205
    },
    {
     "cell_type": "code",
     "collapsed": false,
     "input": [
      "v = array([1,2,3,4])[:,newaxis]; v"
     ],
     "language": "python",
     "metadata": {},
     "outputs": [
      {
       "metadata": {},
       "output_type": "pyout",
       "prompt_number": 206,
       "text": [
        "array([[1],\n",
        "       [2],\n",
        "       [3],\n",
        "       [4]])"
       ]
      }
     ],
     "prompt_number": 206
    },
    {
     "cell_type": "code",
     "collapsed": false,
     "input": [
      "# Multiplicaci\u00f3n de matriz dispersa - vector denso\n",
      "A * v"
     ],
     "language": "python",
     "metadata": {},
     "outputs": [
      {
       "metadata": {},
       "output_type": "pyout",
       "prompt_number": 207,
       "text": [
        "array([[ 1.],\n",
        "       [ 6.],\n",
        "       [ 5.],\n",
        "       [ 5.]])"
       ]
      }
     ],
     "prompt_number": 207
    },
    {
     "cell_type": "code",
     "collapsed": false,
     "input": [
      "# el mismo resultado con matriz densa y vector denso\n",
      "A.todense() * v"
     ],
     "language": "python",
     "metadata": {},
     "outputs": [
      {
       "metadata": {},
       "output_type": "pyout",
       "prompt_number": 208,
       "text": [
        "matrix([[ 1.],\n",
        "        [ 6.],\n",
        "        [ 5.],\n",
        "        [ 5.]])"
       ]
      }
     ],
     "prompt_number": 208
    },
    {
     "cell_type": "markdown",
     "metadata": {},
     "source": [
      "## Optimizaci\u00f3n\n",
      "\n",
      "La optimizaci\u00f3n (encontrar el m\u00e1ximo o el m\u00ednimo de una funci\u00f3nn) constituye un campo amplio en matem\u00e1ticas, y la optimizaci\u00f3n de funciones complicadas o de muchas variables puede ser complicada. Aqu\u00ed s\u00f3lo revisaremos algunos casos muy simples. Para una introducci\u00f3n detallada a la optimizaci\u00f3n con SciPy, ver (en ingl\u00e9s): http://scipy-lectures.github.com/advanced/mathematical_optimization/index.html\n",
      "\n",
      "Para usar el m\u00f3dulo de optimizaci\u00f3n de Scipy hay que importar el m\u00f3dulo `optimize`:"
     ]
    },
    {
     "cell_type": "code",
     "collapsed": false,
     "input": [
      "from scipy import optimize"
     ],
     "language": "python",
     "metadata": {},
     "outputs": [],
     "prompt_number": 209
    },
    {
     "cell_type": "markdown",
     "metadata": {},
     "source": [
      "### Encontrando m\u00e1ximos\n",
      "\n",
      "Veamos primero c\u00f3mo encontrar el m\u00ednimo de una funci\u00f3n simple de una variable:"
     ]
    },
    {
     "cell_type": "code",
     "collapsed": false,
     "input": [
      "def f(x):\n",
      "    return 4*x**3 + (x-2)**2 + x**4"
     ],
     "language": "python",
     "metadata": {},
     "outputs": [],
     "prompt_number": 210
    },
    {
     "cell_type": "code",
     "collapsed": false,
     "input": [
      "fig, ax  = subplots()\n",
      "x = linspace(-5, 3, 100)\n",
      "ax.plot(x, f(x));"
     ],
     "language": "python",
     "metadata": {},
     "outputs": [
      {
       "metadata": {},
       "output_type": "display_data",
       "png": "[encoded data removed]",
       "text": [
        "<matplotlib.figure.Figure at 0x43fe450>"
       ]
      }
     ],
     "prompt_number": 211
    },
    {
     "cell_type": "markdown",
     "metadata": {},
     "source": [
      "Podemos usar la funci\u00f3n `fmin_bfgs` para encontrar el m\u00ednimo de la funci\u00f3n:"
     ]
    },
    {
     "cell_type": "code",
     "collapsed": false,
     "input": [
      "x_min = optimize.fmin_bfgs(f, -2) # busca un m\u00ednimo local cerca -2\n",
      "x_min "
     ],
     "language": "python",
     "metadata": {},
     "outputs": [
      {
       "output_type": "stream",
       "stream": "stdout",
       "text": [
        "Optimization terminated successfully.\n",
        "         Current function value: -3.506641\n",
        "         Iterations: 6\n",
        "         Function evaluations: 30\n",
        "         Gradient evaluations: 10\n"
       ]
      },
      {
       "metadata": {},
       "output_type": "pyout",
       "prompt_number": 212,
       "text": [
        "array([-2.67298167])"
       ]
      }
     ],
     "prompt_number": 212
    },
    {
     "cell_type": "code",
     "collapsed": false,
     "input": [
      "optimize.fmin_bfgs(f, 0.5)  # busca un m\u00ednimo local cerca 0.5"
     ],
     "language": "python",
     "metadata": {},
     "outputs": [
      {
       "output_type": "stream",
       "stream": "stdout",
       "text": [
        "Optimization terminated successfully.\n",
        "         Current function value: 2.804988\n",
        "         Iterations: 3\n",
        "         Function evaluations: 15\n",
        "         Gradient evaluations: 5\n"
       ]
      },
      {
       "metadata": {},
       "output_type": "pyout",
       "prompt_number": 213,
       "text": [
        "array([ 0.46961745])"
       ]
      }
     ],
     "prompt_number": 213
    },
    {
     "cell_type": "markdown",
     "metadata": {},
     "source": [
      "Podemos tambi\u00e9n usar las funciones `brent` o `fminbound`. Estas funciones tienen una sintaxis algo distinta y usan algoritmos diferentes."
     ]
    },
    {
     "cell_type": "code",
     "collapsed": false,
     "input": [
      "optimize.brent(f)"
     ],
     "language": "python",
     "metadata": {},
     "outputs": [
      {
       "metadata": {},
       "output_type": "pyout",
       "prompt_number": 214,
       "text": [
        "0.46961743402759754"
       ]
      }
     ],
     "prompt_number": 214
    },
    {
     "cell_type": "code",
     "collapsed": false,
     "input": [
      "optimize.fminbound(f, -4, 2)  # busca el m\u00ednimo en el intervalo (-4,2)"
     ],
     "language": "python",
     "metadata": {},
     "outputs": [
      {
       "metadata": {},
       "output_type": "pyout",
       "prompt_number": 215,
       "text": [
        "-2.6729822917513886"
       ]
      }
     ],
     "prompt_number": 215
    },
    {
     "cell_type": "markdown",
     "metadata": {},
     "source": [
      "### Encontrando las ra\u00edces de una funci\u00f3n\n",
      "\n",
      "Para encontrar las soluciones a una ecuaci\u00f3n de la forma $f(x) = 0$ podemos usar la funci\u00f3n `fsolve`. Ella requiere especificar un punto inicial: "
     ]
    },
    {
     "cell_type": "code",
     "collapsed": false,
     "input": [
      "omega_c = 3.0\n",
      "def f(omega):\n",
      "    return tan(2*pi*omega) - omega_c/omega"
     ],
     "language": "python",
     "metadata": {},
     "outputs": [],
     "prompt_number": 216
    },
    {
     "cell_type": "code",
     "collapsed": false,
     "input": [
      "fig, ax  = subplots(figsize=(10,4))\n",
      "x = linspace(0, 3, 1000)\n",
      "y = f(x)\n",
      "mask = where(abs(y) > 50)\n",
      "x[mask] = y[mask] = NaN # elimina l\u00edneas verticales cuando la funci\u00f3n cambia de signo\n",
      "ax.plot(x, y)\n",
      "ax.plot([0, 3], [0, 0], 'k')\n",
      "ax.set_ylim(-5,5);"
     ],
     "language": "python",
     "metadata": {},
     "outputs": [
      {
       "metadata": {},
       "output_type": "display_data",
       "png": "[encoded data removed]",
       "text": [
        "<matplotlib.figure.Figure at 0x43e0550>"
       ]
      }
     ],
     "prompt_number": 217
    },
    {
     "cell_type": "code",
     "collapsed": false,
     "input": [
      "optimize.fsolve(f, 0.1)"
     ],
     "language": "python",
     "metadata": {},
     "outputs": [
      {
       "metadata": {},
       "output_type": "pyout",
       "prompt_number": 218,
       "text": [
        "array([ 0.23743014])"
       ]
      }
     ],
     "prompt_number": 218
    },
    {
     "cell_type": "code",
     "collapsed": false,
     "input": [
      "optimize.fsolve(f, 0.6)"
     ],
     "language": "python",
     "metadata": {},
     "outputs": [
      {
       "metadata": {},
       "output_type": "pyout",
       "prompt_number": 219,
       "text": [
        "array([ 0.71286972])"
       ]
      }
     ],
     "prompt_number": 219
    },
    {
     "cell_type": "code",
     "collapsed": false,
     "input": [
      "optimize.fsolve(f, 1.1)"
     ],
     "language": "python",
     "metadata": {},
     "outputs": [
      {
       "metadata": {},
       "output_type": "pyout",
       "prompt_number": 220,
       "text": [
        "array([ 1.18990285])"
       ]
      }
     ],
     "prompt_number": 220
    },
    {
     "cell_type": "markdown",
     "metadata": {},
     "source": [
      "## Interpolaci\u00f3n\n",
      "\n",
      "La interpolaci\u00f3n es simple y conveniente en Scipy: La funci\u00f3n `interp1d`, cuando se le suministran arreglos describiendo datos X e Y, retorna un objeto que se comporta como una funci\u00f3n que puede ser llamada para un valor de x arbitrary (en el rango cubierto por X), y que retorna el correspondiente valor interpolado de y:"
     ]
    },
    {
     "cell_type": "code",
     "collapsed": false,
     "input": [
      "from scipy.interpolate import *"
     ],
     "language": "python",
     "metadata": {},
     "outputs": [],
     "prompt_number": 221
    },
    {
     "cell_type": "code",
     "collapsed": false,
     "input": [
      "def f(x):\n",
      "    return sin(x)"
     ],
     "language": "python",
     "metadata": {},
     "outputs": [],
     "prompt_number": 222
    },
    {
     "cell_type": "code",
     "collapsed": false,
     "input": [
      "n = arange(0, 10)  \n",
      "x = linspace(0, 9, 100)\n",
      "\n",
      "y_meas = f(n) + 0.1 * randn(len(n)) # simula medidas con error\n",
      "y_real = f(x)\n",
      "\n",
      "linear_interpolation = interp1d(n, y_meas)\n",
      "y_interp1 = linear_interpolation(x)\n",
      "\n",
      "cubic_interpolation = interp1d(n, y_meas, kind='cubic')\n",
      "y_interp2 = cubic_interpolation(x)"
     ],
     "language": "python",
     "metadata": {},
     "outputs": [],
     "prompt_number": 223
    },
    {
     "cell_type": "code",
     "collapsed": false,
     "input": [
      "fig, ax = subplots(figsize=(10,4))\n",
      "ax.plot(n, y_meas, 'bs', label='datos con ruido')\n",
      "ax.plot(x, y_real, 'k', lw=2, label=u'funci\u00f3n exacta')\n",
      "ax.plot(x, y_interp1, 'r', label=u'interpolaci\u00f3n lineal')\n",
      "ax.plot(x, y_interp2, 'g', label=u'interpolaci\u00f3n c\u00fabica')\n",
      "ax.legend(loc=3);"
     ],
     "language": "python",
     "metadata": {},
     "outputs": [
      {
       "metadata": {},
       "output_type": "display_data",
       "png": "[encoded data removed]",
       "text": [
        "<matplotlib.figure.Figure at 0x406d790>"
       ]
      }
     ],
     "prompt_number": 224
    },
    {
     "cell_type": "markdown",
     "metadata": {},
     "source": [
      "## Estad\u00edstica\n",
      "\n",
      "El m\u00f3dulo `scipy.stats` contiene varias distribuciones estad\u00edsticas, funciones estad\u00edsticas y testss. Para una documentaci\u00f3n completa de estas las caracter\u00edsticas, ver (en ingl\u00e9s) [http://docs.scipy.org/doc/scipy/reference/stats.html](http://docs.scipy.org/doc/scipy/reference/stats.html).\n",
      "\n",
      "Tambi\u00e9n existe un paquete Python muy poderoso para modelamiento estad\u00edstoco llamado statsmodels. Ver [http://statsmodels.sourceforge.net](http://statsmodels.sourceforge.net) para m\u00e1s detalles."
     ]
    },
    {
     "cell_type": "code",
     "collapsed": false,
     "input": [
      "from scipy import stats"
     ],
     "language": "python",
     "metadata": {},
     "outputs": [],
     "prompt_number": 225
    },
    {
     "cell_type": "code",
     "collapsed": false,
     "input": [
      "# crea una variable aleatoria (discreta) con distribuci\u00f3n poissoniana\n",
      "\n",
      "X = stats.poisson(3.5) # distribuci\u00f3n de fotonoes en un estado coherente n=3.5 fotones"
     ],
     "language": "python",
     "metadata": {},
     "outputs": [],
     "prompt_number": 226
    },
    {
     "cell_type": "code",
     "collapsed": false,
     "input": [
      "n = arange(0,15)\n",
      "\n",
      "fig, axes = subplots(3,1, sharex=True)\n",
      "\n",
      "# grafica la \"probability mass function\" (PMF)\n",
      "axes[0].step(n, X.pmf(n))\n",
      "\n",
      "# grafica la \"commulative distribution function\" (CDF)\n",
      "axes[1].step(n, X.cdf(n))\n",
      "\n",
      "# grafica histograma de 1000 realizaciones de la variable estoc\u00e1stica X\n",
      "axes[2].hist(X.rvs(size=1000));"
     ],
     "language": "python",
     "metadata": {},
     "outputs": [
      {
       "metadata": {},
       "output_type": "display_data",
       "png": "[encoded data removed]",
       "text": [
        "<matplotlib.figure.Figure at 0x4080750>"
       ]
      }
     ],
     "prompt_number": 227
    },
    {
     "cell_type": "code",
     "collapsed": false,
     "input": [
      "# crea una variable aleatoria (cont\u00ednua) con distribuci\u00f3n normal\n",
      "Y = stats.norm()"
     ],
     "language": "python",
     "metadata": {},
     "outputs": [],
     "prompt_number": 228
    },
    {
     "cell_type": "code",
     "collapsed": false,
     "input": [
      "x = linspace(-5,5,100)\n",
      "\n",
      "fig, axes = subplots(3,1, sharex=True)\n",
      "\n",
      "# grafica la funci\u00f3n distribuci\u00f3n de probabilidad (\"probability distribution function\", PDF)\n",
      "axes[0].plot(x, Y.pdf(x))\n",
      "\n",
      "# grafica funci\u00f3n de distribuci\u00f3n acumulada (\"commulative distributin function\", CDF)\n",
      "axes[1].plot(x, Y.cdf(x));\n",
      "\n",
      "# grafica histograma de 1000 realizaciones aleatorias de la variable estoc\u00e1stica Y\n",
      "axes[2].hist(Y.rvs(size=1000), bins=50);"
     ],
     "language": "python",
     "metadata": {},
     "outputs": [
      {
       "metadata": {},
       "output_type": "display_data",
       "png": "[encoded data removed]",
       "text": [
        "<matplotlib.figure.Figure at 0x4767150>"
       ]
      }
     ],
     "prompt_number": 229
    },
    {
     "cell_type": "markdown",
     "metadata": {},
     "source": [
      "Estad\u00edstica:"
     ]
    },
    {
     "cell_type": "code",
     "collapsed": false,
     "input": [
      "X.mean(), X.std(), X.var() # distribuci\u00f3n de Poission"
     ],
     "language": "python",
     "metadata": {},
     "outputs": [
      {
       "metadata": {},
       "output_type": "pyout",
       "prompt_number": 230,
       "text": [
        "(3.5, 1.8708286933869707, 3.5)"
       ]
      }
     ],
     "prompt_number": 230
    },
    {
     "cell_type": "code",
     "collapsed": false,
     "input": [
      "Y.mean(), Y.std(), Y.var() # distribucu\u00f3n normal"
     ],
     "language": "python",
     "metadata": {},
     "outputs": [
      {
       "metadata": {},
       "output_type": "pyout",
       "prompt_number": 231,
       "text": [
        "(0.0, 1.0, 1.0)"
       ]
      }
     ],
     "prompt_number": 231
    },
    {
     "cell_type": "markdown",
     "metadata": {},
     "source": [
      "### Test estad\u00edsticos"
     ]
    },
    {
     "cell_type": "markdown",
     "metadata": {},
     "source": [
      "Test si dos conjuntos de datos aleatorios (independientes) vienen de la misma distribuci\u00f3n:"
     ]
    },
    {
     "cell_type": "code",
     "collapsed": false,
     "input": [
      "t_statistic, p_value = stats.ttest_ind(X.rvs(size=1000), X.rvs(size=1000))\n",
      "\n",
      "print \"t-statistic =\", t_statistic\n",
      "print \"valor p =\", p_value"
     ],
     "language": "python",
     "metadata": {},
     "outputs": [
      {
       "output_type": "stream",
       "stream": "stdout",
       "text": [
        "t-statistic = -0.475424634168\n",
        "valor p = 0.634536309516\n"
       ]
      }
     ],
     "prompt_number": 232
    },
    {
     "cell_type": "markdown",
     "metadata": {},
     "source": [
      "Como el valor p es muy grande, no podemos descartar la hiop\u00f3tesis que los dos conjuntos de datos aleatorios tienen medias *diferentes*."
     ]
    },
    {
     "cell_type": "markdown",
     "metadata": {},
     "source": [
      "Para testear si la media de una \u00fanica muestra de datos tiene media 0.1 (la media verdadera es 0.0):"
     ]
    },
    {
     "cell_type": "code",
     "collapsed": false,
     "input": [
      "stats.ttest_1samp(Y.rvs(size=1000), 0.1)"
     ],
     "language": "python",
     "metadata": {},
     "outputs": [
      {
       "metadata": {},
       "output_type": "pyout",
       "prompt_number": 233,
       "text": [
        "(array(-1.887859333208507), 0.059334450537282708)"
       ]
      }
     ],
     "prompt_number": 233
    },
    {
     "cell_type": "markdown",
     "metadata": {},
     "source": [
      "Un valor de p bajo significa que podemos descartar la hip\u00f3tesis que la media de Y es 0.1."
     ]
    },
    {
     "cell_type": "code",
     "collapsed": false,
     "input": [
      "Y.mean()"
     ],
     "language": "python",
     "metadata": {},
     "outputs": [
      {
       "metadata": {},
       "output_type": "pyout",
       "prompt_number": 234,
       "text": [
        "0.0"
       ]
      }
     ],
     "prompt_number": 234
    },
    {
     "cell_type": "code",
     "collapsed": false,
     "input": [
      "stats.ttest_1samp(Y.rvs(size=1000), Y.mean())"
     ],
     "language": "python",
     "metadata": {},
     "outputs": [
      {
       "metadata": {},
       "output_type": "pyout",
       "prompt_number": 235,
       "text": [
        "(array(-0.8838286901485671), 0.37700134346803815)"
       ]
      }
     ],
     "prompt_number": 235
    },
    {
     "cell_type": "markdown",
     "metadata": {},
     "source": [
      "## Lectura adicional\n",
      "\n",
      "* http://www.scipy.org - La p\u00e1gina oficial del proyecto SciPy.\n",
      "* http://docs.scipy.org/doc/scipy/reference/tutorial/index.html - Un tutorial sobre c\u00f3mo comenzar a usar SciPy. \n",
      "* https://github.com/scipy/scipy/ - El c\u00f3difo fuente de SciPy. \n"
     ]
    }
   ],
   "metadata": {}
  }
 ]
}