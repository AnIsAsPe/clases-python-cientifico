{
 "metadata": {
  "name": "",
  "signature": "sha256:f73afb711d1e7d0c59e2d7283aaed89ee5d95cbe7456d04fbd035064246fa3a8"
 },
 "nbformat": 3,
 "nbformat_minor": 0,
 "worksheets": [
  {
   "cells": [
    {
     "cell_type": "heading",
     "level": 1,
     "metadata": {},
     "source": [
      "Introducci\u00f3n a la Computaci\u00f3n Cient\u00edfica con Python"
     ]
    },
    {
     "cell_type": "markdown",
     "metadata": {},
     "source": [
      "Versi\u00f3n original en ingl\u00e9s de J.R. Johansson (robert@riken.jp) http://dml.riken.jp/~rob/\n",
      "\n",
      "Tambi\u00e9n se han incluido elementos del tutorial de Dami\u00e1n Avila https://github.com/damianavila/Python-Cientifico-HCC\n",
      "\n",
      "Traducido/Adaptado por [G.F. Rubilar](http://google.com/+GuillermoRubilar).\n",
      "\n",
      "La \u00faltima versi\u00f3n de estos [notebooks de IPython](http://ipython.org/notebook.html) est\u00e1 disponible en [http://github.com/gfrubi/clases-python-cientifico](http://github.com/gfrubi/clases-python-cientifico).\n",
      "\n",
      "La \u00faltima versi\u00f3n del original (en ingl\u00e9s) de estos [notebooks de IPython](http://ipython.org/notebook.html) est\u00e1 disponible en [http://github.com/jrjohansson/scientific-python-lectures](http://github.com/jrjohansson/scientific-python-lectures).\n",
      "\n",
      "Los otros notebooks de esta serie est\u00e1n listados en [http://jrjohansson.github.com](http://jrjohansson.github.com)."
     ]
    },
    {
     "cell_type": "heading",
     "level": 2,
     "metadata": {},
     "source": [
      "El rol de la computaci\u00f3n en las Ciencias"
     ]
    },
    {
     "cell_type": "markdown",
     "metadata": {},
     "source": [
      "La Ciencia es dividida tradicionalmente en una rama experimental y una te\u00f3rica, pero durante las \u00faltimas d\u00e9cadas la computaci\u00f3n ha emergido como una parte muy importante de la Ciencia. La computaci\u00f3n cient\u00edfica est\u00e1 a menudo muy relacionada con la teor\u00eda, pero posee tambi\u00e9n muchas caracter\u00edsticas comunes con el trabajo experimental. Es por esto que a menudo es vista como una tercera rama de las ciencias. En muchos campos de la ciencia, el trabajo computacional es un complemento importante tanto para el experimento como para la teor\u00eda, y actualmente una gran mayor\u00eda de las publicaciones experimentales y te\u00f3ricas involucran c\u00e1lculos num\u00e9ricos, simulaciones o modelamiento computacional.\n",
      "\n",
      "<center>\n",
      "<!-- offline version <img src=\"files/images/teoria-experimento-computacion.png\" width=\"300\"> -->\n",
      "<img src=\"https://raw.github.com/gfrubi/clases-python-cientifico/master/images/teoria-experimento-computacion.png\" width=\"300\">   \n",
      "</center>\n",
      "\n",
      "En las \u00e1reas experimentales y te\u00f3ricas existen c\u00f3digos de conducta bien establecidos referentes a c\u00f3mo los resultados y m\u00e9todos son publicados y puestos a disposici\u00f3n de otr@s cient\u00edf@s. Por ejemplo, en las \u00e1reas te\u00f3ricas, las derivaciones, demostraciones y otros resultados son publicados en detalle, o disponibles bajo solicitud. Similarmente, en el trabajo experimental, los m\u00e9todos usados y los resultados son publicados, y todos los datos experimentales debiesen estar disponibles al ser solicitados. Se considera una pr\u00e1ctica anticient\u00edfica el ocultar detalles cruciales de una prueba te\u00f3rica o de un m\u00e9todo experimental, que pudiesen impedir que otr@s cient\u00edfic@s reproduzcan los resultados.\n",
      "\n",
      "En las ciencias computacionales no existen a\u00fan gu\u00edas bien establecidas de c\u00f3mo debiesen ser manejados el c\u00f3digo fuente y los datos generados. Por ejemplo, es relativamente raro que el c\u00f3digo fuente usado en simulaciones en art\u00edculos publicados sea puesto a disposici\u00f3n de los lectores, en contraste con la naturaleza abierta del trabajo experimental y te\u00f3rico. Adem\u00e1s, no es poco com\u00fan que el c\u00f3digo fuente del software de simulaci\u00f3n sea reservado y considerado como una ventaja competitiva (o no necesario de ser publicado). \n",
      "\n",
      "Sin embargo, este punto a comenzado a atraer cada vez mayor atenci\u00f3n, y algunas editoriales de revistas de alto nivel han hecho llamados a una mayor transparencia en las ciencias computacionales. Algunas revistas prestigiosas, incluyendo [Science](http://www.sciencemag.org/), han comenzado a requerir que los autores suministren a los lectores, luego de solicitarlo, el c\u00f3digo fuente del software de simulaci\u00f3n usado en las publicaciones. \n",
      "\n",
      "Tambi\u00e9n se est\u00e1 discutiendo c\u00f3mo facilitar la distribuci\u00f3n de software cient\u00edfico, por ejemplo como material suplementario a los art\u00edculos cient\u00edficos."
     ]
    },
    {
     "cell_type": "heading",
     "level": 3,
     "metadata": {},
     "source": [
      " Referencias"
     ]
    },
    {
     "cell_type": "markdown",
     "metadata": {},
     "source": [
      " * [Reproducible Research in Computational Science](http://dx.doi.org/10.1126/science.1213847), Roger D. Peng, Science 334, 1226 (2011).\n",
      "\n",
      " * [Shining Light into Black Boxes](http://dx.doi.org/10.1126/science.1218263), A. Morin et al., Science 336, 159-160 (2012).\n",
      " \n",
      " * [The case for open computer programs](http://dx.doi.org/doi:10.1038/nature10836), D.C. Ince, Nature 482, 485 (2012)."
     ]
    },
    {
     "cell_type": "heading",
     "level": 2,
     "metadata": {},
     "source": [
      "Requisitos para la Computaci\u00f3n Cient\u00edfica"
     ]
    },
    {
     "cell_type": "markdown",
     "metadata": {},
     "source": [
      "**Replicaci\u00f3n** y **reproducibilidad** son dos pilares del m\u00e9todo cient\u00edfico. Respecto al trabajo num\u00e9rico, el satisfacer estos requerimientos implica las siguientes consideraciones pr\u00e1cticas:\n",
      "\n",
      "* **Replicaci\u00f3n**: Un autor de un art\u00edculo cient\u00edfico que involucra c\u00e1lculos num\u00e9ricos deber\u00eda ser capaz de reproducir los resultados. \n",
      "\n",
      "* **Reproducibilidad**: Otr@s cient\u00edfic@s deber\u00edan ser capaces de realizar las mismas simulaciones num\u00e9ricas y obtener los mismos resultados, dada la informaci\u00f3n acerca de los m\u00e9todos usados en una publicaci\u00f3n.\n",
      "\n",
      "\n",
      "Para alcanzar estos objetivos, necesitamos:\n",
      "\n",
      "* Mantener y documentar *exactamente* qu\u00e9 c\u00f3digo fuente y qu\u00e9 versi\u00f3n fue usada para producir los datos y figuras en art\u00edculos publicados.\n",
      "\n",
      "* Registrar informaci\u00f3n sobre qu\u00e9 versi\u00f3n de software externos ha sido usada. Mantener acceso al entorno que fue usado.\n",
      "\n",
      "* Asegurarse de que los c\u00f3digos antiguos son respaldados y mantenidos para futura referencia. \n",
      "\n",
      "* Estar preparado para suministrar informaci\u00f3n adicional sobre los m\u00e9todos usados, y tal vez adicionalmente los c\u00f3digos de simulaci\u00f3n, a un lector interesado que lo solicite (incluso a\u00f1os despu\u00e9s que el art\u00edculo fue publicado!).\n",
      "\n",
      "* Idealmente, los c\u00f3digos deber\u00edan ser publicados en la red, para facilitar que otr@s cient\u00edfic@s interesados en el c\u00f3digo puedan tener acceso a \u00e9l."
     ]
    },
    {
     "cell_type": "heading",
     "level": 3,
     "metadata": {},
     "source": [
      "Herramientas para manejar c\u00f3digo fuente"
     ]
    },
    {
     "cell_type": "markdown",
     "metadata": {},
     "source": [
      "Asegurar la replicabilidad y la reproducibilidad de simulaciones cient\u00edficas es un *problema complicado*, pero existen buenas herramientas que ayudan en esta tarea:\n",
      "\n",
      "* Sistemas de Control de Revisi\u00f3n (Revision Control System, RCS). \n",
      "    * Algunas buenas opciones son:\n",
      "        * git - http://git-scm.com.\n",
      "        * mercurial - http://mercurial.selenic.com. Tambi\u00e9n conocido como `hg`.\n",
      "        * subversion - http://subversion.apache.org. Tambi\u00e9n conocido como `svn`.\n",
      "\n",
      "* Repositorios Online para c\u00f3difo fuente. Disponibles tanto como repositorios p\u00fablicos como privados. \n",
      "    * Algunas buenas alternativas son:\n",
      "        * Github - http://www.github.com.\n",
      "        * Bitbucket - http://www.bitbucket.com.\n",
      "        * Repositorios privados alojados en servidores de la Universidad."
     ]
    },
    {
     "cell_type": "heading",
     "level": 4,
     "metadata": {},
     "source": [
      "Notas"
     ]
    },
    {
     "cell_type": "markdown",
     "metadata": {},
     "source": [
      "Los repositorios son adem\u00e1s excelentes para controlar versiones de manuscritos, figuras, archivos de tesis, archivos de datos, vit\u00e1coras de laboratorio, etc. B\u00e1sicamente para todo contenido digital que deba ser preservado y que es frecuentemente actualizado. Nuevamente, existen tanto repositorios p\u00fablicos como privados. \u00a1Estas herramientas constituyen adem\u00e1s muy buenas herramientas de colaboraci\u00f3n!"
     ]
    },
    {
     "cell_type": "heading",
     "level": 2,
     "metadata": {},
     "source": [
      "\u00bfQu\u00e9 es Python?"
     ]
    },
    {
     "cell_type": "markdown",
     "metadata": {},
     "source": [
      "[Python](http://www.python.org/) es un lenguaje de programaci\u00f3n moderno, de prop\u00f3sito general, orientado al objeto y de alto nivel. Fue creado por [Guido van Rossum](http://en.wikipedia.org/wiki/Guido_van_Rossum), conocido como el BDFL (\"Benevolent Dictator for Life\", es decir \"Dictador Benevolente Vitalicio\"). La primera versi\u00f3n (0.9.0) de Python fue lanzada en 1991, y la versi\u00f3n 1.0 en 1994.\n",
      "\n",
      "<img src=\"http://upload.wikimedia.org/wikipedia/commons/thumb/6/66/Guido_van_Rossum_OSCON_2006.jpg/400px-Guido_van_Rossum_OSCON_2006.jpg\" width=\"150\">\n",
      "\n",
      "**Algunos de los principios bajo los que est\u00e1 concebido el lenguage (Tim Peters, \"El Zen de Python\") son:**\n",
      "\n",
      "* Bello es mejor que feo.\n",
      "* Expl\u00edcito es mejor que impl\u00edcito.\n",
      "* Simple es mejor que complejo.\n",
      "* Complejo es mejor que complicado.\n",
      "* La legibilidad cuenta.\n",
      "* Los casos especiales no son tan especiales como para quebrantar las reglas.\n",
      "\n",
      "**Caracter\u00edsticas generales de Python:**\n",
      "\n",
      "* Lenguaje **f\u00e1cil de aprender**.\n",
      "* Lenguaje **vers\u00e1til** en su utilizaci\u00f3n.\n",
      "* **Lenguaje limpio y simple:** C\u00f3digo f\u00e1cil de leer e intuitivo, sintaxis minimalista y f\u00e1cil de aprender, su mantenci\u00f3n escala bien con el tama\u00f1o de los proyectos.\n",
      "* Una colecci\u00f3n de **herramienta b\u00e1sicas** para el tratamiento y visualizaci\u00f3n de datos.\n",
      "* Un \"entorno\" **unificado** e **interactivo**.\n",
      "* Un tiempo de desarrollo **reducido** y un tiempo de ejecuci\u00f3n **r\u00e1pido** (ja ja, s\u00ed, claro).\n",
      "\n",
      "**Detalles t\u00e9cnicos:**\n",
      "\n",
      "* **Tipado din\u00e1mico:** No se necesita definir el tipo de las variables, argumentos de funciones, ni tipos de retorno.\n",
      "* **Manejo de memoria autom\u00e1tico:** No se necesita reservar expl\u00edcitamente memoria para las variables y los arreglos de datos. Sin bugs de fuga de memoria. \n",
      "* **Interpretado:** No se requiere compilar el c\u00f3digo. El int\u00e9rprete Python lee y ejecuta el c\u00f3digo python directamente.\n",
      "\n",
      "**Ventajas de Python:**\n",
      "\n",
      "* La principal ventaja es la facilidad de programar, minimizando el tiempo requerido para desarrollar, depurar y mantener el c\u00f3digo.\n",
      "* Lenguaje bien dise\u00f1ado que fomenta muchas buenas pr\u00e1cticas de programaci\u00f3n:\n",
      " * Programaci\u00f3n modular y orientada al objeto, buen sistema para empaquetar y reusar c\u00f3digo. Esto a menudo resulta en c\u00f3digo m\u00e1s transparente, mantenible, y libre de bugs.\n",
      " * Documentaci\u00f3n estr\u00e9chamente integrada al c\u00f3digo.\n",
      "* Un gran librer\u00eda estandar, y una gran colecci\u00f3n de paquetes externos.\n",
      "\n",
      "**Desventajas de Python:**\n",
      "\n",
      "* Como Python es un lenguaje interpretado y de tipado din\u00e1mico, la ejecuci\u00f3n de c\u00f3digo python puede ser lenta comparada con lenguajes compilados y de tipado est\u00e1tico, tales como C y Fortran. \n",
      "* Algo decentralizado, con diferentes ambientes, paquetes y documentaci\u00f3n diseminada en distintos lugares. Esto puede hacer dif\u00edcil el comienzo."
     ]
    },
    {
     "cell_type": "heading",
     "level": 3,
     "metadata": {},
     "source": [
      "Python versus Matlab"
     ]
    },
    {
     "cell_type": "markdown",
     "metadata": {},
     "source": [
      "**Ventajas de Matlab**:\n",
      "\n",
      "* M\u00faltiples bibliotecas con numerosos algoritmos para la resoluci\u00f3n de diferentes problemas.\n",
      "* Una r\u00e1pida ejecuci\u00f3n debido a que las bibliotecas est\u00e1n, normalmente, escritas en un lenguaje compilado.\n",
      "* Un entorno de desarrollo *agradable* y funcional.\n",
      "* Soporte comercial disponible.\n",
      "\n",
      "**Desventajas de Matlab**:\n",
      "\n",
      "* El lenguaje de base puede ser *restrictivo* para usuarios avanzados. No hay acceso al c\u00f3digo fuente.\n",
      "* \"Show me the money...\""
     ]
    },
    {
     "cell_type": "heading",
     "level": 3,
     "metadata": {},
     "source": [
      "Python versus lenguajes compilados (Fortran, C, C++)"
     ]
    },
    {
     "cell_type": "markdown",
     "metadata": {},
     "source": [
      "**Ventajas de Fortran, C, C++**:\n",
      "\n",
      "* R\u00e1pidos.\n",
      "* Compiladores **super** optimizados.\n",
      "* Bibliotecas cient\u00edficas **super** optimizadas (desde anta\u00f1o).\n",
      "\n",
      "**Desventajas de Fortan, C, C++**:\n",
      "\n",
      "* No hay interactividad durante el desarrollo (necesariamente, hay un paso de compilaci\u00f3n).\n",
      "* Sintaxis compleja.\n",
      "* Manejo manual de la memoria."
     ]
    },
    {
     "cell_type": "heading",
     "level": 2,
     "metadata": {},
     "source": [
      "\u00bfQu\u00e9 hace a Python adecuado para la Computaci\u00f3n Cient\u00edfica?"
     ]
    },
    {
     "cell_type": "markdown",
     "metadata": {},
     "source": [
      "<!-- offline version <img src=\"files/images/optimizing-what.png\" width=\"300\"> -->\n",
      "<img src=\"https://raw.github.com/gfrubi/clases-python-cientifico/master/images/optimizing-what.png\" width=\"600\">\n",
      "\n",
      "* Python tiene una posici\u00f3n fuerte en la computaci\u00f3n cient\u00edfica: \n",
      "    * Gran comunidad de usuarios. Es f\u00e1cil encontrar ayuda y documentaci\u00f3n.\n",
      "\n",
      "* Extenso ecosistema de librer\u00edas cient\u00edficas y entornos\n",
      "    * Numpy: http://numpy.scipy.org - Python Num\u00e9rico.\n",
      "    * Scipy: http://www.scipy.org -  Python Cient\u00edfico.\n",
      "    * Matplotlib: http://www.matplotlib.org - Librer\u00edas Gr\u00e1ficas.\n",
      "\n",
      "* Gran desempe\u00f1o debido a la gran integraci\u00f3n con c\u00f3digos altamente testeados y optimizados escritos en C y Fortran:\n",
      "    * blas, atlas blas, lapack, arpack, Intel MKL, ...\n",
      "\n",
      "* Buen soporte para\n",
      "    * Procesamiento en paralelo.\n",
      "    * Comunicaci\u00f3n entre procesos (Interprocess communication, MPI).\n",
      "    * C\u00e1lculo con GPU (OpenCL y CUDA).\n",
      "* Disponible y apropiado para uso con cluster de c\u00e1lculo de alto desempe\u00f1o (high-performance computing clusters). \n",
      "* \u00a1Sin costos de licencia y de c\u00f3digo abierto!.\n",
      "* Creciente y pujante comunidad apoyando el desarrollo y evoluci\u00f3n del lenguaje.\n",
      "\n",
      "**Desventajas**:\n",
      "\n",
      "* Un entorno de desarrollo menos *agradable* comparado con Matlab (**totalmente discutible...**. **Esto est\u00e1 cambiando r\u00e1pidamente gracias a los [IPython Notebooks](http://ipython.org/notebook.html)**). \n",
      "* Algunos algoritmos especializados todav\u00eda no se han desarrollado (**pero no falta mucho...**).\n",
      "* Relativamente lento... (**varias soluciones disponible y en desarrollo**)."
     ]
    },
    {
     "cell_type": "heading",
     "level": 3,
     "metadata": {},
     "source": [
      "La estructura de datos (pila) de Python Cient\u00edfico"
     ]
    },
    {
     "cell_type": "markdown",
     "metadata": {},
     "source": [
      "<!-- <img src=\"files/images/scientific-python-stack.png\" width=\"300\"> -->\n",
      "<img src=\"https://raw.github.com/gfrubi/clases-python-cientifico/master/images/scientific-python-stack.png\" width=\"300\">\n"
     ]
    },
    {
     "cell_type": "heading",
     "level": 2,
     "metadata": {},
     "source": [
      "Entornos Python"
     ]
    },
    {
     "cell_type": "markdown",
     "metadata": {},
     "source": [
      "Python no es s\u00f3lo un lenguaje de programaci\u00f3n, sino que tambi\u00e9n la implementaci\u00f3n est\u00e1ndar del int\u00e9rprete (t\u00e9cnicamente llamado [CPython](http://es.wikipedia.org/wiki/CPython)) que realmente corre el c\u00f3digo Python en un computador.\n",
      "\n",
      "Existen tambi\u00e9n muchos entornos distintos a trav\u00e9s de los cuales se puede usar el int\u00e9rprete Python. Cada entorno tiene distintas ventajas y es adecuado para diferentes rutinas de trabajo. Una fortaleza de Python es que es vers\u00e1til y puede ser usado de formas complementarias, pero esto puede ser confuso para principiantes, por lo que comenzaremos con un breve vistazo de los entornos Python \u00fatiles en computaci\u00f3n cient\u00edfica."
     ]
    },
    {
     "cell_type": "heading",
     "level": 3,
     "metadata": {},
     "source": [
      "Int\u00e9rprete Python"
     ]
    },
    {
     "cell_type": "markdown",
     "metadata": {},
     "source": [
      "La forma est\u00e1ndar de usar el lenguaje de programaci\u00f3n Python es usar el int\u00e9rprete Python para ejecutar c\u00f3digo Python. El int\u00e9rprete Python es un programa que lee y ejecuta el c\u00f3digo Python en archivos, que son pasados como argumentos. En la consola de comandos, el comando ``python`` se usa para invocar al int\u00e9rprete Python.\n",
      "\n",
      "Por ejemplo, para ejecutar un archivo ``mi-programa.py``, que contiene c\u00f3digo Python, desde la consola de comandos, use:\n",
      "\n",
      "    $ python mi-programa.py\n",
      "\n",
      "Podemos tambi\u00e9n iniciar el int\u00e9rprete simplemente escribiendo ``python`` en la consola, y escribiendo interactivamente c\u00f3digo en el int\u00e9rprete. \n",
      "\n",
      "<!-- <img src=\"files/images/python-screenshot.jpg\" width=\"600\"> -->\n",
      "<img src=\"https://raw.github.com/gfrubi/clases-python-cientifico/master/images/python-screenshot.png\" width=\"600\">\n",
      "\n",
      "\n",
      "\u00c9sta es la forma en que a menudo deseamos trabajar desarrollando aplicaciones cient\u00edficas, o cuando se realizan peque\u00f1os c\u00e1lculos. Sin embargo, el int\u00e9rprete Python est\u00e1ndar no es muy conveniente para este tipo de trabajo, debido a m\u00faltiples limitaciones."
     ]
    },
    {
     "cell_type": "heading",
     "level": 3,
     "metadata": {},
     "source": [
      "IPython"
     ]
    },
    {
     "cell_type": "markdown",
     "metadata": {},
     "source": [
      "[IPython](http://ipython.org/) es una shell (int\u00e9rprete de comandos) interactiva que resuelve muchas de las limitaciones del int\u00e9rprete de Python est\u00e1ndar, y es una poderosa heramienta para uso cient\u00edfico de Python. IPython suministra una prompt interactiva, y mucho m\u00e1s amigable al usuario, del int\u00e9rprete Python. IPython fue creado por [Fernando Perez](http://fperez.org/) en 2001.\n",
      "\n",
      "<img src=\"http://fperez.org/_static/fperez_headshot_lg.jpg\" width=\"150\">\n",
      "\n",
      "Una instancia de IPython corriendo en una consola luce as\u00ed:\n",
      "\n",
      "<!-- <img src=\"files/images/ipython-screenshot.png\" width=\"600\"> -->\n",
      "<img src=\"https://raw.github.com/gfrubi/clases-python-cientifico/master/images/ipython-screenshot.png\" width=\"600\">\n",
      "\n",
      "Algunas de las caracter\u00edsticas m\u00e1s \u00fatiles de IPython son:\n",
      "\n",
      "* Historial de comandos, que pueden ser navegadas con las teclas de flechas hacia arriba y abajo.\n",
      "* Autocompletaci\u00f3n de tabs.\n",
      "* Edici\u00f3n de c\u00f3digo en l\u00ednea.\n",
      "* Instrospecci\u00f3n de objetos, y extracci\u00f3n autom\u00e1tica de cadenas de documentaci\u00f3n a partir de objetos Python como clases y funciones.\n",
      "* Buena interacci\u00f3n con la l\u00ednea de comandos del sistema operativo.\n",
      "* Soporte de m\u00faltiples procesos paralelos back-end, que pueden ejecutarse en cluster computacionales o en servicios en la nube como Amazon EE2."
     ]
    },
    {
     "cell_type": "heading",
     "level": 2,
     "metadata": {},
     "source": [
      "IPython notebook"
     ]
    },
    {
     "cell_type": "markdown",
     "metadata": {},
     "source": [
      "[IPython notebook](http://ipython.org/notebook.html) es un entorno \"de cuaderno'' basado en HTML para Python, similar a Mathematica o Maple. Est\u00e1 basado en la shell IPython, pero suministra un ambiente basado en celdas con gran interactividad, donde los c\u00e1lculos pueden ser organizados y documentados en una forma estructurada.\n",
      "\n",
      "<!-- <img src=\"files/images/ipython-notebook-screenshot.png\" width=\"800\"> -->\n",
      "<img src=\"https://raw.github.com/gfrubi/clases-python-cientifico/master/images/ipython-notebook-screenshot.png\" width=\"800\">\n",
      "\n",
      "Aunque se usa el navegador web con interface gr\u00e1fica, los notebooks IPython usualmente se ejecutan localmente, en el mismo computador que ejecuta el navegador. Para iniciar una nueva sesi\u00f3n de IPython notebook, ejecute el siguiente comando:\n",
      "\n",
      "    $ ipython notebook\n",
      "\n",
      "desde una carpeta en que que desea almacenar los cuadernos. Esto abrir\u00e1 una nueva ventana del navegador (o una nueva pesta\u00f1a en una ventana existente) con una p\u00e1gina \u00edndice donde se muestran los cuadernos existentes y desde donde nuevos cuadernos pueden ser creados."
     ]
    },
    {
     "cell_type": "heading",
     "level": 2,
     "metadata": {},
     "source": [
      "Spyder"
     ]
    },
    {
     "cell_type": "markdown",
     "metadata": {},
     "source": [
      "[Spyder](http://code.google.com/p/spyderlib/) es un IDE (entorno de desarrollo interactivo, por su sigla en ingl\u00e9s) similar a MATLAB para computaci\u00f3n cient\u00edfica con Python. Tiene muchas de las ventajas de un IDE, como por ejemplo que todo, desde la edici\u00f3n del c\u00f3digo, su ejecuci\u00f3n y depuraci\u00f3n, es realizado en un mismo entorno, y el trabajo en diferentes c\u00e1lculos puede ser organizado como proyectos en el IDE.\n",
      "\n",
      "<!-- <img src=\"files/images/spyder-screenshot.jpg\" width=\"800\"> -->\n",
      "<img src=\"https://raw.github.com/gfrubi/clases-python-cientifico/master/images/spyder-screenshot.jpg\" width=\"800\">\n",
      "\n",
      "Algunas ventajas de Spyder:\n",
      "\n",
      "* Poderoso editor de c\u00f3digo, con coloreado de sintaxis, instrospecci\u00f3n din\u00e1mica de c\u00f3digo, e integraci\u00f3n con el depurador de Python.\n",
      "* Explorador de variables, prompt de comando IPython.\n",
      "* Documentaci\u00f3n y ayuda integrada."
     ]
    },
    {
     "cell_type": "heading",
     "level": 2,
     "metadata": {},
     "source": [
      "Versiones de Python"
     ]
    },
    {
     "cell_type": "markdown",
     "metadata": {},
     "source": [
      "Existen actualmente dos versiones de Python: Python 2 y Python 3. Python 3 eventualmente reemplazar\u00e1 a Python 2, pero no es 100% compatible con Python 2. Mucho del c\u00f3digo Python existente ha sido escrito para Python 2, y a\u00fan es la versi\u00f3n m\u00e1s popular. En estas clases cualquiera de las dos versiones puede usarse, pero es probablemente m\u00e1s simple quedarse con Python 2 por ahora, ya que est\u00e1 m\u00e1s com\u00fanmente disponible en paquetes precompilados e instaladores binarios.\n",
      "\n",
      "Para ver qu\u00e9 versi\u00f3n de Python tiene, ejecute\n",
      "    \n",
      "    $ python --version\n",
      "    Python 2.7.3\n",
      "    \n",
      "    $ python3 --version\n",
      "    Python 3.2.3\n",
      "\n",
      "Varias versiones de Python pueden ser instaladas en paralelo, como se muestra arriba."
     ]
    },
    {
     "cell_type": "heading",
     "level": 2,
     "metadata": {},
     "source": [
      "Instalaci\u00f3n"
     ]
    },
    {
     "cell_type": "heading",
     "level": 3,
     "metadata": {},
     "source": [
      "Linux"
     ]
    },
    {
     "cell_type": "markdown",
     "metadata": {},
     "source": [
      "En Linux Mint (tambi\u00e9n en Ubuntu, o en cualquier distribuci\u00f3n derivada de Ubuntu), para instalar Python y todas sus dependencias, ejecute:\n",
      "\n",
      "    $ sudo apt-get install python ipython ipython-notebook\n",
      "    \n",
      "    $ sudo apt-get install python-numpy python-scipy python-matplotlib python-sympy\n",
      "    \n",
      "    $ sudo apt-get install spyder"
     ]
    },
    {
     "cell_type": "heading",
     "level": 3,
     "metadata": {},
     "source": [
      "MacOS"
     ]
    },
    {
     "cell_type": "markdown",
     "metadata": {},
     "source": [
      "*Macports*\n",
      "\n",
      "Python est\u00e1 incluido por defecto en Mac OS X, pero para nuestros prop\u00f3sitos es \u00fatil instalar un nuevo entorno Python usando [Macports](http://www.macports.org/), ya que hace mucho m\u00e1s f\u00e1cil instalar todos los paquetes adicionales requeridos. Usando Macports, podemos instalar lo que necesitamos con:\n",
      "\n",
      "    > sudo port install py27-ipython +pyside+notebook+parallel+scientific\n",
      "    > sudo port install py27-scipy py27-matplotlib py27-sympy\n",
      "    > sudo port install py27-spyder\n",
      "\n",
      "Esto asociar\u00e1 los comandos `python` y `ipython` con las versiones instaladas con macports (en lugar de las que vienen con Mac OS X), ejecute los siguientes comandos:\n",
      "\n",
      "    > sudo port select python python27\n",
      "    > sudo port select ipython ipython27\n",
      "\n",
      "*Fink*\n",
      "\n",
      "Alternativamente, puede usar el administrador de paquetes [Fink](http://www.finkproject.org/). Luego de instalar Fink, use los siguientes comandos para instalar Python y los paquetes que necesitamos:\n",
      "\n",
      "    > sudo fink install python27 ipython-py27 numpy-py27 matplotlib-py27 scipy-py27 sympy-py27\n",
      "    > sudo fink install spyder-mac-py27"
     ]
    },
    {
     "cell_type": "heading",
     "level": 3,
     "metadata": {},
     "source": [
      "Windows"
     ]
    },
    {
     "cell_type": "markdown",
     "metadata": {},
     "source": [
      "Windows carece de un buen sistema de empaquetado, de modo que la forma m\u00e1s f\u00e1cil para configurar un entorno Python es instalar una distribuci\u00f3n pre-empaquetada. Algunas buenas alternativas son:\n",
      "\n",
      " * [Enthought Python Distribution](http://www.enthought.com/products/epd.php). EPD es un producto comercial, pero disponible gratuitamente para uso acad\u00e9mico.\n",
      " * [Anaconda CE](http://continuum.io/downloads.html). Anaconda Pro es un producto comercial, pero la versi\u00f3n Anaconda Community Edition es gratuita.\n",
      " * [Python(x,y)](http://code.google.com/p/pythonxy/). Completamente de c\u00f3digo abierto (gratuita)."
     ]
    },
    {
     "cell_type": "heading",
     "level": 4,
     "metadata": {},
     "source": [
      "Nota"
     ]
    },
    {
     "cell_type": "markdown",
     "metadata": {},
     "source": [
      "EPD y Anaconda CE tambi\u00e9n est\u00e1n disponibles para Linux y Max OS X."
     ]
    },
    {
     "cell_type": "heading",
     "level": 2,
     "metadata": {},
     "source": [
      "Presente y Futuro"
     ]
    },
    {
     "cell_type": "markdown",
     "metadata": {},
     "source": [
      "* Python se ha convertido en el lenguaje de \"elecci\u00f3n\" para uso cient\u00edfico (salvo en ciertos *nichos*) debido a la multiplicidad de herramientas que brinda, a la potencialidad en el perfeccionamiento de las mismas y la continua generaci\u00f3n de nuevos m\u00f3dulos cada vez m\u00e1s especializados.\n",
      "\n",
      "* Existen problemas que resolver y algunas cuestiones t\u00e9cnicas que desarrollar (no todo es color de rosa...).\n",
      "\n",
      "* Sin embargo, las perspectivas son muy buenas, lo cual se ve reflejado no s\u00f3lo en la proliferaci\u00f3n de cient\u00edficos que usan Python en su trabajo diario, sino tambi\u00e9n en la organizaci\u00f3n de conferencias espec\u00edficas a nivel internacional ([SciPy](http://conference.scipy.org/scipy2014/), [EuroSciPy](https://www.euroscipy.org/), [SciPyCon Argentina](http://scipycon.com.ar/), etc.) y en el aumento del n\u00famero de publicaciones con c\u00f3digo escrito en Python.\n",
      "\n",
      "* Muchas empresas e industrias se valen de estas mismas herramientas para el desarrollo o an\u00e1lisis de sus procesos productivos."
     ]
    },
    {
     "cell_type": "markdown",
     "metadata": {},
     "source": [
      "## Lectura adicional\n",
      "\n",
      " * [Python](http://www.python.org>). El sitio oficial de Python.\n",
      " * [Tutorial de Python](http://docs.python.org.ar/tutorial/index.html). Traducci\u00f3n del tutorial oficial de Python, por Python Argentina.\n",
      " * [Think Python](http://www.greenteapress.com/thinkpython/). Un libro gratuito sobre Python (en ingl\u00e9s).\n",
      " * [Pyvideo](http://pyvideo.org/). Colecci\u00f3n de videos sobre Python (tutoriales, conferencias, etc.)."
     ]
    }
   ],
   "metadata": {}
  }
 ]
}