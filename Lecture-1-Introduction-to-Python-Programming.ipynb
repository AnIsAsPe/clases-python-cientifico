{
 "metadata": {
  "name": "",
  "signature": "sha256:982098c460810fd53f62e86ef756518b5ff69b2b74b2b2c36e80074b677e2faf"
 },
 "nbformat": 3,
 "nbformat_minor": 0,
 "worksheets": [
  {
   "cells": [
    {
     "cell_type": "heading",
     "level": 1,
     "metadata": {},
     "source": [
      "Introducci\u00f3n a la programaci\u00f3n en Python"
     ]
    },
    {
     "cell_type": "markdown",
     "metadata": {},
     "source": [
      "Versi\u00f3n original en ingl\u00e9s de J.R. Johansson (robert@riken.jp) http://dml.riken.jp/~rob/\n",
      "\n",
      "Traducido/Adaptado por [G.F. Rubilar](http://google.com/+GuillermoRubilar).\n",
      "\n",
      "La \u00faltima versi\u00f3n de estos [notebooks de IPython](http://ipython.org/notebook.html) est\u00e1 disponible en [http://github.com/gfrubi/clases-python-cientifico](http://github.com/gfrubi/clases-python-cientifico).\n",
      "\n",
      "La \u00faltima versi\u00f3n del original (en ingl\u00e9s) de estos [notebooks de IPython](http://ipython.org/notebook.html) est\u00e1 disponible en [http://github.com/jrjohansson/scientific-python-lectures](http://github.com/jrjohansson/scientific-python-lectures).\n",
      "\n",
      "Los otros notebooks de esta serie est\u00e1n listados en [http://jrjohansson.github.com](http://jrjohansson.github.com)."
     ]
    },
    {
     "cell_type": "heading",
     "level": 2,
     "metadata": {},
     "source": [
      "Archivos de programa en Python"
     ]
    },
    {
     "cell_type": "markdown",
     "metadata": {},
     "source": [
      "* El c\u00f3digo Python es usualmente almacenado en archivos de texto con entensi\u00f3n \"`.py`\":\n",
      "\n",
      "        miprograma.py\n",
      "\n",
      "* Se asume que cada l\u00ednea de un archivo de programa en Python es una sentencia Python, o parte de una sentencia. \n",
      "\n",
      "    * La \u00fanica excepci\u00f3n son las l\u00edneas de comentarios, que comienzan con el caracter `#` (opcionalmente precedida por un n\u00famero arbitrario de caracteres de espacio en blanco, es decir, tabs y espacios. Las l\u00edneas de comentarios son usualmente ignoradas por el int\u00e9rprete Python.\n",
      "\n",
      "\n",
      "* Para ejecutar nuestro programa Python desde la l\u00ednea de comando usamos:\n",
      "\n",
      "        $ python miprograma.py\n",
      "\n",
      "* En sistemas UNIX es com\u00fan definir la ruta al int\u00e9rprete en la primera l\u00ednea del programa (note que \u00e9sta es una l\u00ednea de comentarios en lo que respecta al int\u00e9rprete Python):\n",
      "\n",
      "        #!/usr/bin/env python\n",
      "\n",
      "  Si hacemos esto, y adicionalmente configuramos el archivo para que sea ejecutable, podemos correr el programa usando:\n",
      "\n",
      "        $ miprograma.py"
     ]
    },
    {
     "cell_type": "heading",
     "level": 3,
     "metadata": {},
     "source": [
      "Ejemplo"
     ]
    },
    {
     "cell_type": "code",
     "collapsed": false,
     "input": [
      "ls scripts/hola-mundo*.py"
     ],
     "language": "python",
     "metadata": {},
     "outputs": [
      {
       "output_type": "stream",
       "stream": "stdout",
       "text": [
        "scripts/hola-mundo-en-sueco.py  scripts/hola-mundo.py\r\n"
       ]
      }
     ],
     "prompt_number": 1
    },
    {
     "cell_type": "code",
     "collapsed": false,
     "input": [
      "cat scripts/hola-mundo.py"
     ],
     "language": "python",
     "metadata": {},
     "outputs": [
      {
       "output_type": "stream",
       "stream": "stdout",
       "text": [
        "#!/usr/bin/env python\r\n",
        "\r\n",
        "print(\"Hola mundo!\")\r\n"
       ]
      }
     ],
     "prompt_number": 2
    },
    {
     "cell_type": "code",
     "collapsed": false,
     "input": [
      "!python scripts/hola-mundo.py"
     ],
     "language": "python",
     "metadata": {},
     "outputs": [
      {
       "output_type": "stream",
       "stream": "stdout",
       "text": [
        "Hola mundo!\r\n"
       ]
      }
     ],
     "prompt_number": 3
    },
    {
     "cell_type": "heading",
     "level": 3,
     "metadata": {},
     "source": [
      "Codificaci\u00f3n de caracteres"
     ]
    },
    {
     "cell_type": "markdown",
     "metadata": {},
     "source": [
      "La codificaci\u00f3n est\u00e1ndar de caracteres es la ASCII, pero podemos usar cualquier otra codificaci\u00f3n, por ejemplo UTF-8. Para especificar que usamos UTF-8 incluimos la l\u00ednea especial\n",
      "\n",
      "    # -*- coding: UTF-8 -*-\n",
      "\n",
      "al comienzo del archivo."
     ]
    },
    {
     "cell_type": "code",
     "collapsed": false,
     "input": [
      "cat scripts/hola-mundo-en-sueco.py"
     ],
     "language": "python",
     "metadata": {},
     "outputs": [
      {
       "output_type": "stream",
       "stream": "stdout",
       "text": [
        "#!/usr/bin/env python\r\n",
        "# -*- coding: UTF-8 -*-\r\n",
        "\r\n",
        "print(\"Hej v\u00e4rlden!\")\r\n"
       ]
      }
     ],
     "prompt_number": 4
    },
    {
     "cell_type": "code",
     "collapsed": false,
     "input": [
      "!python scripts/hola-mundo-en-sueco.py"
     ],
     "language": "python",
     "metadata": {},
     "outputs": [
      {
       "output_type": "stream",
       "stream": "stdout",
       "text": [
        "Hej v\u00e4rlden!\r\n"
       ]
      }
     ],
     "prompt_number": 5
    },
    {
     "cell_type": "markdown",
     "metadata": {},
     "source": [
      "Aparte de estas dos l\u00edneas *opcionales* al comienzo de un archivo Python, no se requiere de otro c\u00f3digo adicional para inicializar un programa. "
     ]
    },
    {
     "cell_type": "heading",
     "level": 2,
     "metadata": {},
     "source": [
      "Notebooks de IPython"
     ]
    },
    {
     "cell_type": "markdown",
     "metadata": {},
     "source": [
      "Este archivo - un notebook IPython -  no sigue el patr\u00f3n est\u00e1ndar de c\u00f3digo Python en un archivo de texto. En su lugar, un notebook IPython es almacenado como un archivo en el formato [JSON](http://es.wikipedia.org/wiki/JSON). La ventaja es que podemos mezclar texto formateado, c\u00f3digo Python, y c\u00f3digo de salida. Esto requiere estar ejecutando un servidor de notebook IPython, y por eso este tipo de archivo no es un programa Python independiente como se describi\u00f3 antes. Aparte de eso, no hay diferencia entre el c\u00f3digo Python en un archivo de programa o en un notebook IPython."
     ]
    },
    {
     "cell_type": "heading",
     "level": 2,
     "metadata": {},
     "source": [
      "Variables y tipos"
     ]
    },
    {
     "cell_type": "heading",
     "level": 3,
     "metadata": {},
     "source": [
      "Nombres de s\u00edmbolos"
     ]
    },
    {
     "cell_type": "markdown",
     "metadata": {},
     "source": [
      "Los nombres de las variables en Python pueden contener los caracteres `a-z`, `A-Z`, `0-9` y algunos caracteres especiales como `_`. Los nombres de variables normales deben comenzar con una letra. \n",
      "\n",
      "Por convenci\u00f3n, los nombres de las variables comienzan con letra min\u00fascula, mientras que los nombres de las clases comienzan con una letra may\u00fascula. \n",
      "\n",
      "Adem\u00e1s, existen algunos palabras claves Python que no pueden ser usados como nombres de variables. \u00c9stas son:\n",
      "\n",
      "    and, as, assert, break, class, continue, def, del, elif, else, except, \n",
      "    exec, finally, for, from, global, if, import, in, is, lambda, not, or,\n",
      "    pass, print, raise, return, try, while, with, yield\n",
      "\n",
      "Nota: Atenci\u00f3n con la palabra `lambda`, que podr\u00eda f\u00e1cilmente ser un nombre de variable natural en un programa cient\u00edfico. Sin embargo, como es una palabra clave, no puede ser usado como nombre de una variable."
     ]
    },
    {
     "cell_type": "heading",
     "level": 3,
     "metadata": {},
     "source": [
      "Asignaciones"
     ]
    },
    {
     "cell_type": "markdown",
     "metadata": {},
     "source": [
      "El operador para asignar valores en Python es `=`. Python es un lenguage de escritura din\u00e1mica, de modo que no necesitamos especificar el tipo de una variable cuando la creamos.\n",
      "\n",
      "Al asignar un valor a una variable nueva se crea esa variable:"
     ]
    },
    {
     "cell_type": "code",
     "collapsed": false,
     "input": [
      "# asignaciones de variables\n",
      "x = 1.0\n",
      "mi_variable = 12.2"
     ],
     "language": "python",
     "metadata": {},
     "outputs": [],
     "prompt_number": 14
    },
    {
     "cell_type": "markdown",
     "metadata": {},
     "source": [
      "Aunque no se especifique expl\u00edcitamente, cada variable s\u00ed tiene un tipo asociada a ella. El tipo es extraido del valor que le fue asignado."
     ]
    },
    {
     "cell_type": "code",
     "collapsed": false,
     "input": [
      "type(x)"
     ],
     "language": "python",
     "metadata": {},
     "outputs": [
      {
       "metadata": {},
       "output_type": "pyout",
       "prompt_number": 15,
       "text": [
        "float"
       ]
      }
     ],
     "prompt_number": 15
    },
    {
     "cell_type": "markdown",
     "metadata": {},
     "source": [
      "Si asignamos un nuevo valor a una variable, su tipo puede cambiar."
     ]
    },
    {
     "cell_type": "code",
     "collapsed": false,
     "input": [
      "x = 1"
     ],
     "language": "python",
     "metadata": {},
     "outputs": [],
     "prompt_number": 16
    },
    {
     "cell_type": "code",
     "collapsed": false,
     "input": [
      "type(x)"
     ],
     "language": "python",
     "metadata": {},
     "outputs": [
      {
       "metadata": {},
       "output_type": "pyout",
       "prompt_number": 17,
       "text": [
        "int"
       ]
      }
     ],
     "prompt_number": 17
    },
    {
     "cell_type": "markdown",
     "metadata": {},
     "source": [
      "Si tratamos de unsar una variable que no ha sido definida obtenemo un mensaje de error (`NameError`):"
     ]
    },
    {
     "cell_type": "code",
     "collapsed": false,
     "input": [
      "print(y)"
     ],
     "language": "python",
     "metadata": {},
     "outputs": [
      {
       "ename": "NameError",
       "evalue": "name 'y' is not defined",
       "output_type": "pyerr",
       "traceback": [
        "\u001b[1;31m---------------------------------------------------------------------------\u001b[0m\n\u001b[1;31mNameError\u001b[0m                                 Traceback (most recent call last)",
        "\u001b[1;32m<ipython-input-18-36b2093251cd>\u001b[0m in \u001b[0;36m<module>\u001b[1;34m()\u001b[0m\n\u001b[1;32m----> 1\u001b[1;33m \u001b[1;32mprint\u001b[0m\u001b[1;33m(\u001b[0m\u001b[0my\u001b[0m\u001b[1;33m)\u001b[0m\u001b[1;33m\u001b[0m\u001b[0m\n\u001b[0m",
        "\u001b[1;31mNameError\u001b[0m: name 'y' is not defined"
       ]
      }
     ],
     "prompt_number": 18
    },
    {
     "cell_type": "markdown",
     "metadata": {},
     "source": [
      "### Tipos Fundamentales"
     ]
    },
    {
     "cell_type": "code",
     "collapsed": false,
     "input": [
      "# enteros\n",
      "x = 1\n",
      "type(x)"
     ],
     "language": "python",
     "metadata": {},
     "outputs": [
      {
       "metadata": {},
       "output_type": "pyout",
       "prompt_number": 20,
       "text": [
        "int"
       ]
      }
     ],
     "prompt_number": 20
    },
    {
     "cell_type": "code",
     "collapsed": false,
     "input": [
      "# flotantes\n",
      "x = 1.0\n",
      "type(x)"
     ],
     "language": "python",
     "metadata": {},
     "outputs": [
      {
       "metadata": {},
       "output_type": "pyout",
       "prompt_number": 21,
       "text": [
        "float"
       ]
      }
     ],
     "prompt_number": 21
    },
    {
     "cell_type": "code",
     "collapsed": false,
     "input": [
      "# booleanos\n",
      "b1 = True\n",
      "b2 = False\n",
      "\n",
      "type(b1)"
     ],
     "language": "python",
     "metadata": {},
     "outputs": [
      {
       "metadata": {},
       "output_type": "pyout",
       "prompt_number": 22,
       "text": [
        "bool"
       ]
      }
     ],
     "prompt_number": 22
    },
    {
     "cell_type": "code",
     "collapsed": false,
     "input": [
      "# n\u00fameros complejos: note que se usa `j` para especificar la parte imaginaria\n",
      "x = 1.0 - 1.0j\n",
      "type(x)"
     ],
     "language": "python",
     "metadata": {},
     "outputs": [
      {
       "metadata": {},
       "output_type": "pyout",
       "prompt_number": 23,
       "text": [
        "complex"
       ]
      }
     ],
     "prompt_number": 23
    },
    {
     "cell_type": "code",
     "collapsed": false,
     "input": [
      "print(x)"
     ],
     "language": "python",
     "metadata": {},
     "outputs": [
      {
       "output_type": "stream",
       "stream": "stdout",
       "text": [
        "(1-1j)\n"
       ]
      }
     ],
     "prompt_number": 24
    },
    {
     "cell_type": "code",
     "collapsed": false,
     "input": [
      "print(x.real, x.imag)"
     ],
     "language": "python",
     "metadata": {},
     "outputs": [
      {
       "output_type": "stream",
       "stream": "stdout",
       "text": [
        "(1.0, -1.0)\n"
       ]
      }
     ],
     "prompt_number": 25
    },
    {
     "cell_type": "markdown",
     "metadata": {},
     "source": [
      "### Funciones de relacionadas con Tipos\n",
      "\n",
      "El m\u00f3dulo `types` contiene definiciones de nombres de tipo que pueden ser usadas para testear si las variables son de un cierto tipo:"
     ]
    },
    {
     "cell_type": "code",
     "collapsed": false,
     "input": [
      "import types\n",
      "\n",
      "# imprime todos los tipos definidos en el m\u00f3dulo `types`\n",
      "print(dir(types))"
     ],
     "language": "python",
     "metadata": {},
     "outputs": [
      {
       "output_type": "stream",
       "stream": "stdout",
       "text": [
        "['BooleanType', 'BufferType', 'BuiltinFunctionType', 'BuiltinMethodType', 'ClassType', 'CodeType', 'ComplexType', 'DictProxyType', 'DictType', 'DictionaryType', 'EllipsisType', 'FileType', 'FloatType', 'FrameType', 'FunctionType', 'GeneratorType', 'GetSetDescriptorType', 'InstanceType', 'IntType', 'LambdaType', 'ListType', 'LongType', 'MemberDescriptorType', 'MethodType', 'ModuleType', 'NoneType', 'NotImplementedType', 'ObjectType', 'SliceType', 'StringType', 'StringTypes', 'TracebackType', 'TupleType', 'TypeType', 'UnboundMethodType', 'UnicodeType', 'XRangeType', '__builtins__', '__doc__', '__file__', '__name__', '__package__']\n"
       ]
      }
     ],
     "prompt_number": 26
    },
    {
     "cell_type": "code",
     "collapsed": false,
     "input": [
      "x = 1.0\n",
      "\n",
      "# verifica si la variable x es flotante\n",
      "type(x) is float"
     ],
     "language": "python",
     "metadata": {},
     "outputs": [
      {
       "metadata": {},
       "output_type": "pyout",
       "prompt_number": 27,
       "text": [
        "True"
       ]
      }
     ],
     "prompt_number": 27
    },
    {
     "cell_type": "code",
     "collapsed": false,
     "input": [
      "# verifica si la variable x es un entero\n",
      "type(x) is int"
     ],
     "language": "python",
     "metadata": {},
     "outputs": [
      {
       "metadata": {},
       "output_type": "pyout",
       "prompt_number": 28,
       "text": [
        "False"
       ]
      }
     ],
     "prompt_number": 28
    },
    {
     "cell_type": "markdown",
     "metadata": {},
     "source": [
      "Podemos tambi\u00e9n usar el m\u00e9todo `isinstance` para testear tipos de variables:"
     ]
    },
    {
     "cell_type": "code",
     "collapsed": false,
     "input": [
      "isinstance(x, float)"
     ],
     "language": "python",
     "metadata": {},
     "outputs": [
      {
       "metadata": {},
       "output_type": "pyout",
       "prompt_number": 29,
       "text": [
        "True"
       ]
      }
     ],
     "prompt_number": 29
    },
    {
     "cell_type": "markdown",
     "metadata": {},
     "source": [
      "### Conversi\u00f3n de Tipo"
     ]
    },
    {
     "cell_type": "code",
     "collapsed": false,
     "input": [
      "x = 1.5\n",
      "\n",
      "print(x, type(x))"
     ],
     "language": "python",
     "metadata": {},
     "outputs": [
      {
       "output_type": "stream",
       "stream": "stdout",
       "text": [
        "(1.5, <type 'float'>)\n"
       ]
      }
     ],
     "prompt_number": 30
    },
    {
     "cell_type": "code",
     "collapsed": false,
     "input": [
      "x = int(x)\n",
      "\n",
      "print(x, type(x))"
     ],
     "language": "python",
     "metadata": {},
     "outputs": [
      {
       "output_type": "stream",
       "stream": "stdout",
       "text": [
        "(1, <type 'int'>)\n"
       ]
      }
     ],
     "prompt_number": 31
    },
    {
     "cell_type": "code",
     "collapsed": false,
     "input": [
      "z = complex(x)\n",
      "\n",
      "print(z, type(z))"
     ],
     "language": "python",
     "metadata": {},
     "outputs": [
      {
       "output_type": "stream",
       "stream": "stdout",
       "text": [
        "((1+0j), <type 'complex'>)\n"
       ]
      }
     ],
     "prompt_number": 32
    },
    {
     "cell_type": "code",
     "collapsed": false,
     "input": [
      "x = float(z)"
     ],
     "language": "python",
     "metadata": {},
     "outputs": [
      {
       "ename": "TypeError",
       "evalue": "can't convert complex to float",
       "output_type": "pyerr",
       "traceback": [
        "\u001b[1;31m---------------------------------------------------------------------------\u001b[0m\n\u001b[1;31mTypeError\u001b[0m                                 Traceback (most recent call last)",
        "\u001b[1;32m<ipython-input-33-e719cc7b3e96>\u001b[0m in \u001b[0;36m<module>\u001b[1;34m()\u001b[0m\n\u001b[1;32m----> 1\u001b[1;33m \u001b[0mx\u001b[0m \u001b[1;33m=\u001b[0m \u001b[0mfloat\u001b[0m\u001b[1;33m(\u001b[0m\u001b[0mz\u001b[0m\u001b[1;33m)\u001b[0m\u001b[1;33m\u001b[0m\u001b[0m\n\u001b[0m",
        "\u001b[1;31mTypeError\u001b[0m: can't convert complex to float"
       ]
      }
     ],
     "prompt_number": 33
    },
    {
     "cell_type": "markdown",
     "metadata": {},
     "source": [
      "Un n\u00famero complejo no puede ser convertido a un n\u00famero flotante o a un entero. Necesitamos usar `z.real`, o bien `z.imag`, para extraer la parte que deseamos del n\u00famero complejo z:"
     ]
    },
    {
     "cell_type": "code",
     "collapsed": false,
     "input": [
      "y = bool(z.real)\n",
      "\n",
      "print(z.real, \" -> \", y, type(y))\n",
      "\n",
      "y = bool(z.imag)\n",
      "\n",
      "print(z.imag, \" -> \", y, type(y))"
     ],
     "language": "python",
     "metadata": {},
     "outputs": [
      {
       "output_type": "stream",
       "stream": "stdout",
       "text": [
        "(1.0, ' -> ', True, <type 'bool'>)\n",
        "(0.0, ' -> ', False, <type 'bool'>)\n"
       ]
      }
     ],
     "prompt_number": 34
    },
    {
     "cell_type": "markdown",
     "metadata": {},
     "source": [
      "## Operadores y comparaciones\n",
      "\n",
      "La mayor\u00eda de los operadores y las comparaciones en Python funcionan como one esperar\u00eda:\n",
      "\n",
      "* Operadores aritm\u00e9ticos `+`, `-`, `*`, `/`, `//` (divisi\u00f3n entera), '**' potencia\n"
     ]
    },
    {
     "cell_type": "code",
     "collapsed": false,
     "input": [
      "1 + 2, 1 - 2, 1 * 2, 1 / 2"
     ],
     "language": "python",
     "metadata": {},
     "outputs": [
      {
       "metadata": {},
       "output_type": "pyout",
       "prompt_number": 35,
       "text": [
        "(3, -1, 2, 0)"
       ]
      }
     ],
     "prompt_number": 35
    },
    {
     "cell_type": "code",
     "collapsed": false,
     "input": [
      "1.0 + 2.0, 1.0 - 2.0, 1.0 * 2.0, 1.0 / 2.0"
     ],
     "language": "python",
     "metadata": {},
     "outputs": [
      {
       "metadata": {},
       "output_type": "pyout",
       "prompt_number": 36,
       "text": [
        "(3.0, -1.0, 2.0, 0.5)"
       ]
      }
     ],
     "prompt_number": 36
    },
    {
     "cell_type": "code",
     "collapsed": false,
     "input": [
      "# Divisi\u00f3n entera de dos n\u00famenos flotantes\n",
      "3.0 // 2.0"
     ],
     "language": "python",
     "metadata": {},
     "outputs": [
      {
       "metadata": {},
       "output_type": "pyout",
       "prompt_number": 37,
       "text": [
        "1.0"
       ]
      }
     ],
     "prompt_number": 37
    },
    {
     "cell_type": "code",
     "collapsed": false,
     "input": [
      "# Atenci\u00f3n! El operador de potencia en Python no es ^, sino **\n",
      "2 ** 2"
     ],
     "language": "python",
     "metadata": {},
     "outputs": [
      {
       "metadata": {},
       "output_type": "pyout",
       "prompt_number": 38,
       "text": [
        "4"
       ]
      }
     ],
     "prompt_number": 38
    },
    {
     "cell_type": "markdown",
     "metadata": {},
     "source": [
      "* Los operadores booleanos se escriben como palabras: `and`, `not`, `or`. "
     ]
    },
    {
     "cell_type": "code",
     "collapsed": false,
     "input": [
      "True and False"
     ],
     "language": "python",
     "metadata": {},
     "outputs": [
      {
       "metadata": {},
       "output_type": "pyout",
       "prompt_number": 39,
       "text": [
        "False"
       ]
      }
     ],
     "prompt_number": 39
    },
    {
     "cell_type": "code",
     "collapsed": false,
     "input": [
      "not False"
     ],
     "language": "python",
     "metadata": {},
     "outputs": [
      {
       "metadata": {},
       "output_type": "pyout",
       "prompt_number": 40,
       "text": [
        "True"
       ]
      }
     ],
     "prompt_number": 40
    },
    {
     "cell_type": "code",
     "collapsed": false,
     "input": [
      "True or False"
     ],
     "language": "python",
     "metadata": {},
     "outputs": [
      {
       "metadata": {},
       "output_type": "pyout",
       "prompt_number": 41,
       "text": [
        "True"
       ]
      }
     ],
     "prompt_number": 41
    },
    {
     "cell_type": "markdown",
     "metadata": {},
     "source": [
      "* Operadores de comparaci\u00f3n `>`, `<`, `>=` (mayor o igual), `<=` (menor o igual), `==` igualdad, `es` identico."
     ]
    },
    {
     "cell_type": "code",
     "collapsed": false,
     "input": [
      "2 > 1, 2 < 1"
     ],
     "language": "python",
     "metadata": {},
     "outputs": [
      {
       "metadata": {},
       "output_type": "pyout",
       "prompt_number": 42,
       "text": [
        "(True, False)"
       ]
      }
     ],
     "prompt_number": 42
    },
    {
     "cell_type": "code",
     "collapsed": false,
     "input": [
      "2 > 2, 2 < 2"
     ],
     "language": "python",
     "metadata": {},
     "outputs": [
      {
       "metadata": {},
       "output_type": "pyout",
       "prompt_number": 43,
       "text": [
        "(False, False)"
       ]
      }
     ],
     "prompt_number": 43
    },
    {
     "cell_type": "code",
     "collapsed": false,
     "input": [
      "2 >= 2, 2 <= 2"
     ],
     "language": "python",
     "metadata": {},
     "outputs": [
      {
       "metadata": {},
       "output_type": "pyout",
       "prompt_number": 44,
       "text": [
        "(True, True)"
       ]
      }
     ],
     "prompt_number": 44
    },
    {
     "cell_type": "code",
     "collapsed": false,
     "input": [
      "# igualdad\n",
      "[1,2] == [1,2]"
     ],
     "language": "python",
     "metadata": {},
     "outputs": [
      {
       "metadata": {},
       "output_type": "pyout",
       "prompt_number": 45,
       "text": [
        "True"
       ]
      }
     ],
     "prompt_number": 45
    },
    {
     "cell_type": "code",
     "collapsed": false,
     "input": [
      "# \u00bfobjetos identicos?\n",
      "l1 = l2 = [1,2]\n",
      "\n",
      "l1 is l2"
     ],
     "language": "python",
     "metadata": {},
     "outputs": [
      {
       "metadata": {},
       "output_type": "pyout",
       "prompt_number": 46,
       "text": [
        "True"
       ]
      }
     ],
     "prompt_number": 46
    },
    {
     "cell_type": "markdown",
     "metadata": {},
     "source": [
      "## Tipos compuestos: Cadenas, listas y diccionarios\n",
      "\n",
      "### Cadenas\n",
      "\n",
      "Las cadenas son el tipo de variables que es usado para almacenar mensajes de texto. "
     ]
    },
    {
     "cell_type": "code",
     "collapsed": false,
     "input": [
      "s = \"Hola mundo\"\n",
      "type(s)"
     ],
     "language": "python",
     "metadata": {},
     "outputs": [
      {
       "metadata": {},
       "output_type": "pyout",
       "prompt_number": 47,
       "text": [
        "str"
       ]
      }
     ],
     "prompt_number": 47
    },
    {
     "cell_type": "code",
     "collapsed": false,
     "input": [
      "# longitud de la cadena: el n\u00famero de caracteres que contiene\n",
      "len(s)"
     ],
     "language": "python",
     "metadata": {},
     "outputs": [
      {
       "metadata": {},
       "output_type": "pyout",
       "prompt_number": 48,
       "text": [
        "10"
       ]
      }
     ],
     "prompt_number": 48
    },
    {
     "cell_type": "code",
     "collapsed": false,
     "input": [
      "# reemplaza una subcadena de una cadena por cadena\n",
      "s2 = s.replace(\"mundo\", \"universo\")\n",
      "print(s2)"
     ],
     "language": "python",
     "metadata": {},
     "outputs": [
      {
       "output_type": "stream",
       "stream": "stdout",
       "text": [
        "Hola universo\n"
       ]
      }
     ],
     "prompt_number": 49
    },
    {
     "cell_type": "markdown",
     "metadata": {},
     "source": [
      "Podemos aislar un car\u00e1cter en una cadena usando `[]`:"
     ]
    },
    {
     "cell_type": "code",
     "collapsed": false,
     "input": [
      "s[0]"
     ],
     "language": "python",
     "metadata": {},
     "outputs": [
      {
       "metadata": {},
       "output_type": "pyout",
       "prompt_number": 50,
       "text": [
        "'H'"
       ]
      }
     ],
     "prompt_number": 50
    },
    {
     "cell_type": "markdown",
     "metadata": {},
     "source": [
      "**Atenci\u00f3n usuarios de MATLAB:** el indexado comienza en 0!\n",
      "\n",
      "Podemos extraer una parte de una cadena usando la sintaxis `[desde:hasta]`, que extrae caracteres entre los \u00edndices  `desde` y `hasta`:"
     ]
    },
    {
     "cell_type": "code",
     "collapsed": false,
     "input": [
      "s[0:5]"
     ],
     "language": "python",
     "metadata": {},
     "outputs": [
      {
       "metadata": {},
       "output_type": "pyout",
       "prompt_number": 51,
       "text": [
        "'Hola '"
       ]
      }
     ],
     "prompt_number": 51
    },
    {
     "cell_type": "markdown",
     "metadata": {},
     "source": [
      "Si omitimos `desde` o bien `hasta` de `[desde:hasta]`, por defecto se entiende que se refiere al comienzo y/o al fin de la cadena, respectivamente:"
     ]
    },
    {
     "cell_type": "code",
     "collapsed": false,
     "input": [
      "s[:5]"
     ],
     "language": "python",
     "metadata": {},
     "outputs": [
      {
       "metadata": {},
       "output_type": "pyout",
       "prompt_number": 52,
       "text": [
        "'Hola '"
       ]
      }
     ],
     "prompt_number": 52
    },
    {
     "cell_type": "code",
     "collapsed": false,
     "input": [
      "s[6:]"
     ],
     "language": "python",
     "metadata": {},
     "outputs": [
      {
       "metadata": {},
       "output_type": "pyout",
       "prompt_number": 53,
       "text": [
        "'undo'"
       ]
      }
     ],
     "prompt_number": 53
    },
    {
     "cell_type": "code",
     "collapsed": false,
     "input": [
      "s[:]"
     ],
     "language": "python",
     "metadata": {},
     "outputs": [
      {
       "metadata": {},
       "output_type": "pyout",
       "prompt_number": 54,
       "text": [
        "'Hola mundo'"
       ]
      }
     ],
     "prompt_number": 54
    },
    {
     "cell_type": "markdown",
     "metadata": {},
     "source": [
      "Podemos tambi\u00e9n definir el tama\u00f1o del paso usando la sintaxis `[desde:hasta:paso]` (el valor por defecto de `paso` es 1, como ya vismo):"
     ]
    },
    {
     "cell_type": "code",
     "collapsed": false,
     "input": [
      "s[::1]"
     ],
     "language": "python",
     "metadata": {},
     "outputs": [
      {
       "metadata": {},
       "output_type": "pyout",
       "prompt_number": 55,
       "text": [
        "'Hola mundo'"
       ]
      }
     ],
     "prompt_number": 55
    },
    {
     "cell_type": "code",
     "collapsed": false,
     "input": [
      "s[::2]"
     ],
     "language": "python",
     "metadata": {},
     "outputs": [
      {
       "metadata": {},
       "output_type": "pyout",
       "prompt_number": 56,
       "text": [
        "'Hl ud'"
       ]
      }
     ],
     "prompt_number": 56
    },
    {
     "cell_type": "markdown",
     "metadata": {},
     "source": [
      "Esta t\u00e9cnica es llamada *slicing* (\"rebanado\"). Puede leer m\u00e1s sobre la sintaxis aqu\u00ed [http://pyspanishdoc.sourceforge.net/lib/built-in-funcs.html](http://pyspanishdoc.sourceforge.net/lib/built-in-funcs.html) y aqu\u00ed (en ingl\u00e9s) [http://docs.python.org/release/2.7.3/library/functions.html?highlight=slice#slice](http://docs.python.org/release/2.7.3/library/functions.html?highlight=slice#slice)"
     ]
    },
    {
     "cell_type": "markdown",
     "metadata": {},
     "source": [
      "Python tiene un rico conjunto de funciones para procesar texto. Ver por ejemplo [http://docs.python.org/2/library/string.html](http://docs.python.org/2/library/string.html) (en ingl\u00e9s) para m\u00e1s informaci\u00f3n."
     ]
    },
    {
     "cell_type": "markdown",
     "metadata": {},
     "source": [
      "#### Ejemplos de formateo de cadenas"
     ]
    },
    {
     "cell_type": "code",
     "collapsed": false,
     "input": [
      "print(\"uno\", \"dos\", \"tres\")  # El comando print puede desplegar varias cadenas"
     ],
     "language": "python",
     "metadata": {},
     "outputs": [
      {
       "output_type": "stream",
       "stream": "stdout",
       "text": [
        "('uno', 'dos', 'tres')\n"
       ]
      }
     ],
     "prompt_number": 57
    },
    {
     "cell_type": "code",
     "collapsed": false,
     "input": [
      "print(\"uno\", 1.0, False, -1j)  # El comendo print convierte todos los argumentos a cadenas"
     ],
     "language": "python",
     "metadata": {},
     "outputs": [
      {
       "output_type": "stream",
       "stream": "stdout",
       "text": [
        "('uno', 1.0, False, -1j)\n"
       ]
      }
     ],
     "prompt_number": 58
    },
    {
     "cell_type": "code",
     "collapsed": false,
     "input": [
      "print(\"uno\" + \"dos\" + \"tres\") # cadenas \"sumadas\" con + son contatenadas sin espacio entre ellas"
     ],
     "language": "python",
     "metadata": {},
     "outputs": [
      {
       "output_type": "stream",
       "stream": "stdout",
       "text": [
        "unodostres\n"
       ]
      }
     ],
     "prompt_number": 59
    },
    {
     "cell_type": "code",
     "collapsed": false,
     "input": [
      "print(\"valor = %f\" % 1.0)       # podemos usar formateo de cadenas en el estilo del lenguaje C"
     ],
     "language": "python",
     "metadata": {},
     "outputs": [
      {
       "output_type": "stream",
       "stream": "stdout",
       "text": [
        "valor = 1.000000\n"
       ]
      }
     ],
     "prompt_number": 60
    },
    {
     "cell_type": "code",
     "collapsed": false,
     "input": [
      "# este formateo crea una cadena\n",
      "s2 = \"valor1 = %.2f. valor2 = %d\" % (3.1415, 1.5)\n",
      "\n",
      "print(s2)"
     ],
     "language": "python",
     "metadata": {},
     "outputs": [
      {
       "output_type": "stream",
       "stream": "stdout",
       "text": [
        "valor1 = 3.14. valor2 = 1\n"
       ]
      }
     ],
     "prompt_number": 61
    },
    {
     "cell_type": "code",
     "collapsed": false,
     "input": [
      "# forma alternativa, m\u00e1s intuitiva para formatear una cadena\n",
      "s3 = 'valor1 = {0}, valor2 = {1}'.format(3.1415, 1.5)\n",
      "\n",
      "print(s3)"
     ],
     "language": "python",
     "metadata": {},
     "outputs": [
      {
       "output_type": "stream",
       "stream": "stdout",
       "text": [
        "valor1 = 3.1415, valor2 = 1.5\n"
       ]
      }
     ],
     "prompt_number": 62
    },
    {
     "cell_type": "markdown",
     "metadata": {},
     "source": [
      "### Listas\n",
      "\n",
      "Listas son muy similares a las cadenas, excepto que cada elemento puede ser de un tipo diferente.\n",
      "\n",
      "La sintaxis para crear listas en Python es `[..., ..., ...]`:"
     ]
    },
    {
     "cell_type": "code",
     "collapsed": false,
     "input": [
      "l = [1,2,3,4]\n",
      "\n",
      "print(type(l))\n",
      "print(l)"
     ],
     "language": "python",
     "metadata": {},
     "outputs": [
      {
       "output_type": "stream",
       "stream": "stdout",
       "text": [
        "<type 'list'>\n",
        "[1, 2, 3, 4]\n"
       ]
      }
     ],
     "prompt_number": 63
    },
    {
     "cell_type": "markdown",
     "metadata": {},
     "source": [
      "Podemos usar las mismas t\u00e9cnicas de \"rebanado\" que usamos en el caso de cadenas para manipular listas:"
     ]
    },
    {
     "cell_type": "code",
     "collapsed": false,
     "input": [
      "print(l)\n",
      "\n",
      "print(l[1:3])\n",
      "\n",
      "print(l[::2])"
     ],
     "language": "python",
     "metadata": {},
     "outputs": [
      {
       "output_type": "stream",
       "stream": "stdout",
       "text": [
        "[1, 2, 3, 4]\n",
        "[2, 3]\n",
        "[1, 3]\n"
       ]
      }
     ],
     "prompt_number": 64
    },
    {
     "cell_type": "markdown",
     "metadata": {},
     "source": [
      "**Atenci\u00f3n usuarios de MATLAB:** el indexado comienza en 0!"
     ]
    },
    {
     "cell_type": "code",
     "collapsed": false,
     "input": [
      "l[0]"
     ],
     "language": "python",
     "metadata": {},
     "outputs": [
      {
       "metadata": {},
       "output_type": "pyout",
       "prompt_number": 65,
       "text": [
        "1"
       ]
      }
     ],
     "prompt_number": 65
    },
    {
     "cell_type": "markdown",
     "metadata": {},
     "source": [
      "Los elementos en una lista no requieren ser del mismo tipo:"
     ]
    },
    {
     "cell_type": "code",
     "collapsed": false,
     "input": [
      "l = [1, 'a', 1.0, 1-1j]\n",
      "\n",
      "print(l)"
     ],
     "language": "python",
     "metadata": {},
     "outputs": [
      {
       "output_type": "stream",
       "stream": "stdout",
       "text": [
        "[1, 'a', 1.0, (1-1j)]\n"
       ]
      }
     ],
     "prompt_number": 66
    },
    {
     "cell_type": "markdown",
     "metadata": {},
     "source": [
      "Las listas en Python pueden ser inhomog\u00e9neas y arbitrariamente anidadas:"
     ]
    },
    {
     "cell_type": "code",
     "collapsed": false,
     "input": [
      "lista_anidada = [1, [2, [3, [4, [5]]]]]\n",
      "\n",
      "lista_anidada"
     ],
     "language": "python",
     "metadata": {},
     "outputs": [
      {
       "metadata": {},
       "output_type": "pyout",
       "prompt_number": 67,
       "text": [
        "[1, [2, [3, [4, [5]]]]]"
       ]
      }
     ],
     "prompt_number": 67
    },
    {
     "cell_type": "markdown",
     "metadata": {},
     "source": [
      "Las listas juegan un rol muy importante en Python y son, por ejemplo, usadas en bucles y otras estructuras de control de flujo (discutidas m\u00e1s abajo). Existan muchas funciones convenientes para generar listas de varios tipos, por ejemplo la funci\u00f3n `range`:"
     ]
    },
    {
     "cell_type": "code",
     "collapsed": false,
     "input": [
      "desde = 10\n",
      "hasta = 30\n",
      "paso = 2\n",
      "\n",
      "range(desde, hasta, paso)"
     ],
     "language": "python",
     "metadata": {},
     "outputs": [
      {
       "metadata": {},
       "output_type": "pyout",
       "prompt_number": 68,
       "text": [
        "[10, 12, 14, 16, 18, 20, 22, 24, 26, 28]"
       ]
      }
     ],
     "prompt_number": 68
    },
    {
     "cell_type": "code",
     "collapsed": false,
     "input": [
      "# en Python 3 range genera un interador, que puede ser convertido a una lista usando 'list(...)'. Esto no tiene efecto en Python 2\n",
      "list(range(desde, hasta, paso))"
     ],
     "language": "python",
     "metadata": {},
     "outputs": [
      {
       "metadata": {},
       "output_type": "pyout",
       "prompt_number": 69,
       "text": [
        "[10, 12, 14, 16, 18, 20, 22, 24, 26, 28]"
       ]
      }
     ],
     "prompt_number": 69
    },
    {
     "cell_type": "code",
     "collapsed": false,
     "input": [
      "list(range(-10, 10))"
     ],
     "language": "python",
     "metadata": {},
     "outputs": [
      {
       "metadata": {},
       "output_type": "pyout",
       "prompt_number": 70,
       "text": [
        "[-10, -9, -8, -7, -6, -5, -4, -3, -2, -1, 0, 1, 2, 3, 4, 5, 6, 7, 8, 9]"
       ]
      }
     ],
     "prompt_number": 70
    },
    {
     "cell_type": "code",
     "collapsed": false,
     "input": [
      "s"
     ],
     "language": "python",
     "metadata": {},
     "outputs": [
      {
       "metadata": {},
       "output_type": "pyout",
       "prompt_number": 71,
       "text": [
        "'Hola mundo'"
       ]
      }
     ],
     "prompt_number": 71
    },
    {
     "cell_type": "code",
     "collapsed": false,
     "input": [
      "# convierte una cadena a una lista, por conversi\u00f3n de tipo:\n",
      "\n",
      "s2 = list(s)\n",
      "\n",
      "s2"
     ],
     "language": "python",
     "metadata": {},
     "outputs": [
      {
       "metadata": {},
       "output_type": "pyout",
       "prompt_number": 72,
       "text": [
        "['H', 'o', 'l', 'a', ' ', 'm', 'u', 'n', 'd', 'o']"
       ]
      }
     ],
     "prompt_number": 72
    },
    {
     "cell_type": "code",
     "collapsed": false,
     "input": [
      "# ordenando listas\n",
      "s2.sort()\n",
      "\n",
      "print(s2)"
     ],
     "language": "python",
     "metadata": {},
     "outputs": [
      {
       "output_type": "stream",
       "stream": "stdout",
       "text": [
        "[' ', 'H', 'a', 'd', 'l', 'm', 'n', 'o', 'o', 'u']\n"
       ]
      }
     ],
     "prompt_number": 73
    },
    {
     "cell_type": "markdown",
     "metadata": {},
     "source": [
      "#### Agregando, insertando, modificando, y removiendo elementos de listas"
     ]
    },
    {
     "cell_type": "code",
     "collapsed": false,
     "input": [
      "# crea una nueva lista vac\u00eda\n",
      "l = []\n",
      "\n",
      "# agrega un elemento usando `append`\n",
      "l.append(\"A\")\n",
      "l.append(\"d\")\n",
      "l.append(\"d\")\n",
      "\n",
      "print(l)"
     ],
     "language": "python",
     "metadata": {},
     "outputs": [
      {
       "output_type": "stream",
       "stream": "stdout",
       "text": [
        "['A', 'd', 'd']\n"
       ]
      }
     ],
     "prompt_number": 74
    },
    {
     "cell_type": "markdown",
     "metadata": {},
     "source": [
      "Podemos modificar listas asignando nuevos valores a los elementos de la lista. En lenguaje t\u00e9cnico se dice que la lista es *mutable*."
     ]
    },
    {
     "cell_type": "code",
     "collapsed": false,
     "input": [
      "l[1] = \"p\"\n",
      "l[2] = \"p\"\n",
      "\n",
      "print(l)"
     ],
     "language": "python",
     "metadata": {},
     "outputs": [
      {
       "output_type": "stream",
       "stream": "stdout",
       "text": [
        "['A', 'p', 'p']\n"
       ]
      }
     ],
     "prompt_number": 75
    },
    {
     "cell_type": "code",
     "collapsed": false,
     "input": [
      "l[1:3] = [\"d\", \"d\"]\n",
      "\n",
      "print(l)"
     ],
     "language": "python",
     "metadata": {},
     "outputs": [
      {
       "output_type": "stream",
       "stream": "stdout",
       "text": [
        "['A', 'd', 'd']\n"
       ]
      }
     ],
     "prompt_number": 76
    },
    {
     "cell_type": "markdown",
     "metadata": {},
     "source": [
      "Insertar un elemento en una posici\u00f3n espec\u00edfica `insert`"
     ]
    },
    {
     "cell_type": "code",
     "collapsed": false,
     "input": [
      "l.insert(0, \"i\")\n",
      "l.insert(1, \"n\")\n",
      "l.insert(2, \"s\")\n",
      "l.insert(3, \"e\")\n",
      "l.insert(4, \"r\")\n",
      "l.insert(5, \"t\")\n",
      "\n",
      "print(l)"
     ],
     "language": "python",
     "metadata": {},
     "outputs": [
      {
       "output_type": "stream",
       "stream": "stdout",
       "text": [
        "['i', 'n', 's', 'e', 'r', 't', 'A', 'd', 'd']\n"
       ]
      }
     ],
     "prompt_number": 77
    },
    {
     "cell_type": "markdown",
     "metadata": {},
     "source": [
      "Eliminar el primer elemento con un valor espec\u00edfico usando 'remove'"
     ]
    },
    {
     "cell_type": "code",
     "collapsed": false,
     "input": [
      "l.remove(\"A\")\n",
      "\n",
      "print(l)"
     ],
     "language": "python",
     "metadata": {},
     "outputs": [
      {
       "output_type": "stream",
       "stream": "stdout",
       "text": [
        "['i', 'n', 's', 'e', 'r', 't', 'd', 'd']\n"
       ]
      }
     ],
     "prompt_number": 78
    },
    {
     "cell_type": "markdown",
     "metadata": {},
     "source": [
      "Eliminar un elemento en una posici\u00f3n espec\u00edfica usando `del`:"
     ]
    },
    {
     "cell_type": "code",
     "collapsed": false,
     "input": [
      "del l[7]\n",
      "del l[6]\n",
      "\n",
      "print(l)"
     ],
     "language": "python",
     "metadata": {},
     "outputs": [
      {
       "output_type": "stream",
       "stream": "stdout",
       "text": [
        "['i', 'n', 's', 'e', 'r', 't']\n"
       ]
      }
     ],
     "prompt_number": 79
    },
    {
     "cell_type": "markdown",
     "metadata": {},
     "source": [
      "Puede introducir `help(list)` para m\u00e1s detalles, o leer la documentaci\u00f3n en la red"
     ]
    },
    {
     "cell_type": "markdown",
     "metadata": {},
     "source": [
      "### Tuplas\n",
      "\n",
      "Tuplas son similares a las listas, excepto que ellas no pueden ser modificadas una vez creadas, es decir, son *inmutables*. \n",
      "\n",
      "En Python, las tuplas son creadas usando la sintaxis `(..., ..., ...)`, o incluso `..., ...`:"
     ]
    },
    {
     "cell_type": "code",
     "collapsed": false,
     "input": [
      "punto = (10, 20)\n",
      "\n",
      "print(punto, type(punto))"
     ],
     "language": "python",
     "metadata": {},
     "outputs": [
      {
       "output_type": "stream",
       "stream": "stdout",
       "text": [
        "((10, 20), <type 'tuple'>)\n"
       ]
      }
     ],
     "prompt_number": 80
    },
    {
     "cell_type": "code",
     "collapsed": false,
     "input": [
      "punto = 10, 20\n",
      "\n",
      "print(punto, type(punto))"
     ],
     "language": "python",
     "metadata": {},
     "outputs": [
      {
       "output_type": "stream",
       "stream": "stdout",
       "text": [
        "((10, 20), <type 'tuple'>)\n"
       ]
      }
     ],
     "prompt_number": 81
    },
    {
     "cell_type": "markdown",
     "metadata": {},
     "source": [
      "Podemos separar una tupla asignandola a una lista de variables separadas por coma:"
     ]
    },
    {
     "cell_type": "code",
     "collapsed": false,
     "input": [
      "x, y = punto\n",
      "\n",
      "print(\"x =\", x)\n",
      "print(\"y =\", y)"
     ],
     "language": "python",
     "metadata": {},
     "outputs": [
      {
       "output_type": "stream",
       "stream": "stdout",
       "text": [
        "('x =', 10)\n",
        "('y =', 20)\n"
       ]
      }
     ],
     "prompt_number": 82
    },
    {
     "cell_type": "markdown",
     "metadata": {},
     "source": [
      "Si intentamos asignar un nuevo valor a un elemento de una tupla obtenemos un error:"
     ]
    },
    {
     "cell_type": "code",
     "collapsed": false,
     "input": [
      "punto[0] = 20"
     ],
     "language": "python",
     "metadata": {},
     "outputs": [
      {
       "ename": "TypeError",
       "evalue": "'tuple' object does not support item assignment",
       "output_type": "pyerr",
       "traceback": [
        "\u001b[1;31m---------------------------------------------------------------------------\u001b[0m\n\u001b[1;31mTypeError\u001b[0m                                 Traceback (most recent call last)",
        "\u001b[1;32m<ipython-input-83-4e812ab96337>\u001b[0m in \u001b[0;36m<module>\u001b[1;34m()\u001b[0m\n\u001b[1;32m----> 1\u001b[1;33m \u001b[0mpunto\u001b[0m\u001b[1;33m[\u001b[0m\u001b[1;36m0\u001b[0m\u001b[1;33m]\u001b[0m \u001b[1;33m=\u001b[0m \u001b[1;36m20\u001b[0m\u001b[1;33m\u001b[0m\u001b[0m\n\u001b[0m",
        "\u001b[1;31mTypeError\u001b[0m: 'tuple' object does not support item assignment"
       ]
      }
     ],
     "prompt_number": 83
    },
    {
     "cell_type": "markdown",
     "metadata": {},
     "source": [
      "### Dictionarios\n",
      "\n",
      "Dictionarios son tambi\u00e9n como listas, excepto que cada elemento es un par clave-valor. La sintaxsis de los diccionarios es `{clave1 : valor1, ...}`:"
     ]
    },
    {
     "cell_type": "code",
     "collapsed": false,
     "input": [
      "parametros = {\"parametro1\" : 1.0,\n",
      "          \"parametro2\" : 2.0,\n",
      "          \"parametro3\" : 3.0,}\n",
      "\n",
      "print(type(parametros))\n",
      "print(parametros)"
     ],
     "language": "python",
     "metadata": {},
     "outputs": [
      {
       "output_type": "stream",
       "stream": "stdout",
       "text": [
        "<type 'dict'>\n",
        "{'parametro1': 1.0, 'parametro3': 3.0, 'parametro2': 2.0}\n"
       ]
      }
     ],
     "prompt_number": 84
    },
    {
     "cell_type": "code",
     "collapsed": false,
     "input": [
      "print(\"parametro1 = \" + str(parametros[\"parametro1\"]))\n",
      "print(\"parametro2 = \" + str(parametros[\"parametro2\"]))\n",
      "print(\"parametro3 = \" + str(parametros[\"parametro3\"]))"
     ],
     "language": "python",
     "metadata": {},
     "outputs": [
      {
       "output_type": "stream",
       "stream": "stdout",
       "text": [
        "parametro1 = 1.0\n",
        "parametro2 = 2.0\n",
        "parametro3 = 3.0\n"
       ]
      }
     ],
     "prompt_number": 85
    },
    {
     "cell_type": "code",
     "collapsed": false,
     "input": [
      "parametros[\"parametro1\"] = \"A\"\n",
      "parametros[\"parametro2\"] = \"B\"\n",
      "\n",
      "# agrega una nueva entrada\n",
      "parametros[\"parametro4\"] = \"D\"\n",
      "\n",
      "print(\"parametro1 = \" + str(parametros[\"parametro1\"]))\n",
      "print(\"parametro2 = \" + str(parametros[\"parametro2\"]))\n",
      "print(\"parametro3 = \" + str(parametros[\"parametro3\"]))\n",
      "print(\"parametro4 = \" + str(parametros[\"parametro4\"]))"
     ],
     "language": "python",
     "metadata": {},
     "outputs": [
      {
       "output_type": "stream",
       "stream": "stdout",
       "text": [
        "parametro1 = A\n",
        "parametro2 = B\n",
        "parametro3 = 3.0\n",
        "parametro4 = D\n"
       ]
      }
     ],
     "prompt_number": 86
    },
    {
     "cell_type": "markdown",
     "metadata": {},
     "source": [
      "## Control de flujo"
     ]
    },
    {
     "cell_type": "markdown",
     "metadata": {},
     "source": [
      "### Sentencias condicionales: if, elif, else\n",
      "\n",
      "La sintaxis Python para la ejecuci\u00f3n condicional de c\u00f3digo usa las palabras clave `if`, `elif` (else if), `else`:"
     ]
    },
    {
     "cell_type": "code",
     "collapsed": false,
     "input": [
      "afirmacion1 = False\n",
      "afirmacion2 = False\n",
      "\n",
      "if afirmacion1:\n",
      "    print(\"afirmacion1 es verdadera\")\n",
      "    \n",
      "elif afirmacion2:\n",
      "    print(\"afirmacion2 es verdadera\")\n",
      "    \n",
      "else:\n",
      "    print(\"afirmacion1 y afirmacion2 son falsas\")"
     ],
     "language": "python",
     "metadata": {},
     "outputs": [
      {
       "output_type": "stream",
       "stream": "stdout",
       "text": [
        "afirmacion1 y afirmacion2 son falsas\n"
       ]
      }
     ],
     "prompt_number": 87
    },
    {
     "cell_type": "markdown",
     "metadata": {},
     "source": [
      "Aqu\u00ed encontramos por primera un aspecto pecular e inusual del lenguaje Python: Los bloques del programa son definidos por su nivel de indentaci\u00f3n (la cantidad de espacio antes de cada linea). \n",
      "\n",
      "Compare con el c\u00f3digo equivalente en C:\n",
      "\n",
      "    if (afirmacion1)\n",
      "    {\n",
      "        printf(\"afirmacion1 es verdadera\\n\");\n",
      "    }\n",
      "    else if (afirmacion2)\n",
      "    {\n",
      "        printf(\"afirmacion1 es verdadera\\n\");\n",
      "    }\n",
      "    else\n",
      "    {\n",
      "        printf(\"afirmacion1 y afirmacion2 son falsas\\n\");\n",
      "    }\n",
      "\n",
      "En C los bloques son definidos por los par\u00e9ntesis llaves `{` y `}`. El nivel de indentaci\u00f3n (espacio en blanco antes del c\u00f3digo) no importa (es completamente opcional). \n",
      "\n",
      "En Python, la extensi\u00f3n de un bloque de c\u00f3digo es definido por el nivel de indentaci\u00f3n (usualmente un tab o cuatro espacios en blanco). Esto significa que debemos ser cuidados@s de indentar nuestro c\u00f3digo correctamente, de lo contrario tendremos errores de sintaxis. \n",
      "\n",
      "**Ejemplos:**"
     ]
    },
    {
     "cell_type": "code",
     "collapsed": false,
     "input": [
      "afirmacion1 = afirmacion2 = True\n",
      "\n",
      "if afirmacion1:\n",
      "    if afirmacion2:\n",
      "        print(\"tanto afirmacion1 como afirmacion2 son verdaderas\")"
     ],
     "language": "python",
     "metadata": {},
     "outputs": [
      {
       "output_type": "stream",
       "stream": "stdout",
       "text": [
        "tanto afirmacion1 como afirmacion2 son verdaderas\n"
       ]
      }
     ],
     "prompt_number": 88
    },
    {
     "cell_type": "code",
     "collapsed": false,
     "input": [
      "# Mala indentaci\u00f3n!\n",
      "if afirmacion1:\n",
      "    if afirmacion2:\n",
      "    print(\"tanto afirmacion1 como afirmacion2 son verdaderas\")  # esta l\u00ednea est\u00e1 mal indentada"
     ],
     "language": "python",
     "metadata": {},
     "outputs": [
      {
       "ename": "IndentationError",
       "evalue": "expected an indented block (<ipython-input-89-6f069ee062b2>, line 4)",
       "output_type": "pyerr",
       "traceback": [
        "\u001b[1;36m  File \u001b[1;32m\"<ipython-input-89-6f069ee062b2>\"\u001b[1;36m, line \u001b[1;32m4\u001b[0m\n\u001b[1;33m    print(\"tanto afirmacion1 como afirmacion2 son verdaderas\")  # esta l\u00ednea est\u00e1 mal indentada\u001b[0m\n\u001b[1;37m        ^\u001b[0m\n\u001b[1;31mIndentationError\u001b[0m\u001b[1;31m:\u001b[0m expected an indented block\n"
       ]
      }
     ],
     "prompt_number": 89
    },
    {
     "cell_type": "code",
     "collapsed": false,
     "input": [
      "afirmacion1 = False \n",
      "\n",
      "if afirmacion1:\n",
      "    print(\"afirmacion1 es verdadera\")\n",
      "    \n",
      "    print(\"aun estamos dentro del bloque if\")"
     ],
     "language": "python",
     "metadata": {},
     "outputs": []
    },
    {
     "cell_type": "code",
     "collapsed": false,
     "input": [
      "if afirmacion1:\n",
      "    print(\"afirmacion1 es verdadera\")\n",
      "    \n",
      "print(\"ahora estamos fuera del bloque\")"
     ],
     "language": "python",
     "metadata": {},
     "outputs": []
    },
    {
     "cell_type": "markdown",
     "metadata": {},
     "source": [
      "## Ciclos\n",
      "\n",
      "En Python, los ciclos (loops) puede ser programados de varias maneras diferentes. La forma m\u00e1s com\u00fan es usando un cicle `for`, que se usa junto con objetos iterables, como por ejemplos las listas. La sintaxis b\u00e1sica es:\n",
      "\n",
      "\n",
      "**Ciclos `for`**:"
     ]
    },
    {
     "cell_type": "code",
     "collapsed": false,
     "input": [
      "for x in [1,2,3]:\n",
      "    print(x)"
     ],
     "language": "python",
     "metadata": {},
     "outputs": [
      {
       "output_type": "stream",
       "stream": "stdout",
       "text": [
        "1\n",
        "2\n",
        "3\n"
       ]
      }
     ],
     "prompt_number": 90
    },
    {
     "cell_type": "markdown",
     "metadata": {},
     "source": [
      "El ciclo `for` itera sobre los elementos de la lista suministrada y ejecuta el bloque suministrado una vez para cada elemento. Cualquier tipo de lista puede ser usada para un ciclo `for`. Por ejemplo:"
     ]
    },
    {
     "cell_type": "code",
     "collapsed": false,
     "input": [
      "for x in range(4): # por defecto range comienza con 0\n",
      "    print(x)"
     ],
     "language": "python",
     "metadata": {},
     "outputs": [
      {
       "output_type": "stream",
       "stream": "stdout",
       "text": [
        "0\n",
        "1\n",
        "2\n",
        "3\n"
       ]
      }
     ],
     "prompt_number": 91
    },
    {
     "cell_type": "markdown",
     "metadata": {},
     "source": [
      "Nota: `range(4)` no incluye el 4 !"
     ]
    },
    {
     "cell_type": "code",
     "collapsed": false,
     "input": [
      "for x in range(-3,3):\n",
      "    print(x)"
     ],
     "language": "python",
     "metadata": {},
     "outputs": [
      {
       "output_type": "stream",
       "stream": "stdout",
       "text": [
        "-3\n",
        "-2\n",
        "-1\n",
        "0\n",
        "1\n",
        "2\n"
       ]
      }
     ],
     "prompt_number": 92
    },
    {
     "cell_type": "code",
     "collapsed": false,
     "input": [
      "for palabra in [\"computaci\u00f3n\", \"cient\u00edfica\", \"con\", \"Python\"]:\n",
      "    print(palabra)"
     ],
     "language": "python",
     "metadata": {},
     "outputs": [
      {
       "output_type": "stream",
       "stream": "stdout",
       "text": [
        "computaci\u00f3n\n",
        "cient\u00edfica\n",
        "con\n",
        "Python\n"
       ]
      }
     ],
     "prompt_number": 93
    },
    {
     "cell_type": "markdown",
     "metadata": {},
     "source": [
      "Para iterar sobre pares clave-valor en un diccionario:"
     ]
    },
    {
     "cell_type": "code",
     "collapsed": false,
     "input": [
      "for clave, valor in parametros.items():\n",
      "    print(clave + \" = \" + str(valor))"
     ],
     "language": "python",
     "metadata": {},
     "outputs": [
      {
       "output_type": "stream",
       "stream": "stdout",
       "text": [
        "parametro1 = A\n",
        "parametro3 = 3.0\n",
        "parametro2 = B\n",
        "parametro4 = D\n"
       ]
      }
     ],
     "prompt_number": 94
    },
    {
     "cell_type": "markdown",
     "metadata": {},
     "source": [
      "Algunas veces es \u00fatil tener acceso a los \u00edndices de los valores mientras se itera sobre una lista. Podemos usar la funci\u00f3n `enumerate` para esto:"
     ]
    },
    {
     "cell_type": "code",
     "collapsed": false,
     "input": [
      "for idx, x in enumerate(range(-3,3)):\n",
      "    print(idx, x)"
     ],
     "language": "python",
     "metadata": {},
     "outputs": [
      {
       "output_type": "stream",
       "stream": "stdout",
       "text": [
        "(0, -3)\n",
        "(1, -2)\n",
        "(2, -1)\n",
        "(3, 0)\n",
        "(4, 1)\n",
        "(5, 2)\n"
       ]
      }
     ],
     "prompt_number": 95
    },
    {
     "cell_type": "markdown",
     "metadata": {},
     "source": [
      "** Listas: Creando listas usando ciclos `for`**:\n",
      "\n",
      "Una forma conveniente y compacta de inicializar listas:"
     ]
    },
    {
     "cell_type": "code",
     "collapsed": false,
     "input": [
      "l1 = [x**2 for x in range(0,5)]\n",
      "\n",
      "print(l1)"
     ],
     "language": "python",
     "metadata": {},
     "outputs": [
      {
       "output_type": "stream",
       "stream": "stdout",
       "text": [
        "[0, 1, 4, 9, 16]\n"
       ]
      }
     ],
     "prompt_number": 96
    },
    {
     "cell_type": "markdown",
     "metadata": {},
     "source": [
      "**Ciclos `while`**:"
     ]
    },
    {
     "cell_type": "code",
     "collapsed": false,
     "input": [
      "i = 0\n",
      "\n",
      "while i < 5:\n",
      "    print(i)    \n",
      "    i = i + 1\n",
      "    \n",
      "print(\"listo\")"
     ],
     "language": "python",
     "metadata": {},
     "outputs": [
      {
       "output_type": "stream",
       "stream": "stdout",
       "text": [
        "0\n",
        "1\n",
        "2\n",
        "3\n",
        "4\n",
        "listo\n"
       ]
      }
     ],
     "prompt_number": 97
    },
    {
     "cell_type": "markdown",
     "metadata": {},
     "source": [
      "Note que el comando`print(\"listo\")` no es parte del cuerpo del ciclo `while`, debido a su indentaci\u00f3n."
     ]
    },
    {
     "cell_type": "markdown",
     "metadata": {},
     "source": [
      "## Funciones\n",
      "\n",
      "En Python una funci\u00f3n es definida usando la palabra clave `def`, seguida de un nombre para la funci\u00f3n, una variable entre par\u00e9ntesis `()`, y el s\u00edmbolo de dos puntos `:`. El siguiente c\u00f3digo, con un nivel adicional de indentaci\u00f3n, is el cuerpo de la funci\u00f3n."
     ]
    },
    {
     "cell_type": "code",
     "collapsed": false,
     "input": [
      "def func0():   \n",
      "    print(\"test\")"
     ],
     "language": "python",
     "metadata": {},
     "outputs": [],
     "prompt_number": 98
    },
    {
     "cell_type": "code",
     "collapsed": false,
     "input": [
      "func0()"
     ],
     "language": "python",
     "metadata": {},
     "outputs": [
      {
       "output_type": "stream",
       "stream": "stdout",
       "text": [
        "test\n"
       ]
      }
     ],
     "prompt_number": 99
    },
    {
     "cell_type": "markdown",
     "metadata": {},
     "source": [
      "En forma opcional, pero muy recomendada, podemos definir un \"docstring\", que es una descripci\u00f3n del prop\u00f3sito y comportamiento de la funci\u00f3n. El docstring deber\u00eda ser incluido directamente despu\u00e9s de la definici\u00f3n de la funci\u00f3n, antes del c\u00f3digo en el cuerpo de la funci\u00f3n."
     ]
    },
    {
     "cell_type": "code",
     "collapsed": false,
     "input": [
      "def func1(s):\n",
      "    \"\"\"\n",
      "    Imprime la cadena 's' y dice cu\u00e1ntos caracteres tiene\n",
      "    \"\"\"\n",
      "    \n",
      "    print(s + \" tiene \" + str(len(s)) + \" caracteres\")"
     ],
     "language": "python",
     "metadata": {},
     "outputs": [],
     "prompt_number": 100
    },
    {
     "cell_type": "code",
     "collapsed": false,
     "input": [
      "help(func1)"
     ],
     "language": "python",
     "metadata": {},
     "outputs": [
      {
       "output_type": "stream",
       "stream": "stdout",
       "text": [
        "Help on function func1 in module __main__:\n",
        "\n",
        "func1(s)\n",
        "    Imprime la cadena 's' y dice cu\u00e1ntos caracteres tiene\n",
        "\n"
       ]
      }
     ],
     "prompt_number": 101
    },
    {
     "cell_type": "code",
     "collapsed": false,
     "input": [
      "func1(\"test\")"
     ],
     "language": "python",
     "metadata": {},
     "outputs": [
      {
       "output_type": "stream",
       "stream": "stdout",
       "text": [
        "test tiene 4 caracteres\n"
       ]
      }
     ],
     "prompt_number": 102
    },
    {
     "cell_type": "markdown",
     "metadata": {},
     "source": [
      "Funciones que retornan un valor usan la palabra clave `return`:"
     ]
    },
    {
     "cell_type": "code",
     "collapsed": false,
     "input": [
      "def cuadrado(x):\n",
      "    \"\"\"\n",
      "    Calcula el cuadrado de x.\n",
      "    \"\"\"\n",
      "    return x**2"
     ],
     "language": "python",
     "metadata": {},
     "outputs": [],
     "prompt_number": 103
    },
    {
     "cell_type": "code",
     "collapsed": false,
     "input": [
      "cuadrado(4)"
     ],
     "language": "python",
     "metadata": {},
     "outputs": [
      {
       "metadata": {},
       "output_type": "pyout",
       "prompt_number": 104,
       "text": [
        "16"
       ]
      }
     ],
     "prompt_number": 104
    },
    {
     "cell_type": "markdown",
     "metadata": {},
     "source": [
      "Podemos retornar m\u00faltiples valores desde una funci\u00f3n usando las tuplas (ver m\u00e1s arriba):"
     ]
    },
    {
     "cell_type": "code",
     "collapsed": false,
     "input": [
      "def potencias(x):\n",
      "    \"\"\"\n",
      "    Calcula algunas potencias de x.\n",
      "    \"\"\"\n",
      "    return x**2, x**3, x**4"
     ],
     "language": "python",
     "metadata": {},
     "outputs": [],
     "prompt_number": 105
    },
    {
     "cell_type": "code",
     "collapsed": false,
     "input": [
      "potencias(3)"
     ],
     "language": "python",
     "metadata": {},
     "outputs": [
      {
       "metadata": {},
       "output_type": "pyout",
       "prompt_number": 106,
       "text": [
        "(9, 27, 81)"
       ]
      }
     ],
     "prompt_number": 106
    },
    {
     "cell_type": "code",
     "collapsed": false,
     "input": [
      "x2, x3, x4 = potencias(3)\n",
      "\n",
      "print(x3)"
     ],
     "language": "python",
     "metadata": {},
     "outputs": [
      {
       "output_type": "stream",
       "stream": "stdout",
       "text": [
        "27\n"
       ]
      }
     ],
     "prompt_number": 107
    },
    {
     "cell_type": "markdown",
     "metadata": {},
     "source": [
      "### Argumentos por defecto y argumentos de palabra clave\n",
      "\n",
      "En la definici\u00f3n de una funci\u00f3n, podemos asignar valores por defecto a los argumentos de la funci\u00f3n:"
     ]
    },
    {
     "cell_type": "code",
     "collapsed": false,
     "input": [
      "def mifunc(x, p=2, debug=False):\n",
      "    if debug:\n",
      "        print(\"evaluando mifunc para x = \" + str(x) + \" usando el exponente p = \" + str(p))\n",
      "    return x**p"
     ],
     "language": "python",
     "metadata": {},
     "outputs": [],
     "prompt_number": 108
    },
    {
     "cell_type": "markdown",
     "metadata": {},
     "source": [
      "Si no suministramos un valor para el argumento `debug` al llamar a la funci\u00f3n `mifunc` se considera el valor definido por defecto:"
     ]
    },
    {
     "cell_type": "code",
     "collapsed": false,
     "input": [
      "mifunc(5)"
     ],
     "language": "python",
     "metadata": {},
     "outputs": [
      {
       "metadata": {},
       "output_type": "pyout",
       "prompt_number": 109,
       "text": [
        "25"
       ]
      }
     ],
     "prompt_number": 109
    },
    {
     "cell_type": "code",
     "collapsed": false,
     "input": [
      "mifunc(5, debug=True)"
     ],
     "language": "python",
     "metadata": {},
     "outputs": [
      {
       "output_type": "stream",
       "stream": "stdout",
       "text": [
        "evaluando mifunc para x = 5 usando el exponente p = 2\n"
       ]
      },
      {
       "metadata": {},
       "output_type": "pyout",
       "prompt_number": 110,
       "text": [
        "25"
       ]
      }
     ],
     "prompt_number": 110
    },
    {
     "cell_type": "markdown",
     "metadata": {},
     "source": [
      "Si listamos expl\u00edcitamente el nombre de los argumentos al llamar una funci\u00f3n, ellos no necesitan estar en el mismo orden usando en la definici\u00f3n de la funci\u00f3n. Esto es llamado argumentos *de palabra clave* (keyword), y son a menudo muy \u00fatiles en funciones que requieren muchos argumentos opcionales."
     ]
    },
    {
     "cell_type": "code",
     "collapsed": false,
     "input": [
      "mifunc(p=3, debug=True, x=7)"
     ],
     "language": "python",
     "metadata": {},
     "outputs": [
      {
       "output_type": "stream",
       "stream": "stdout",
       "text": [
        "evaluando mifunc para x = 7 usando el exponente p = 3\n"
       ]
      },
      {
       "metadata": {},
       "output_type": "pyout",
       "prompt_number": 111,
       "text": [
        "343"
       ]
      }
     ],
     "prompt_number": 111
    },
    {
     "cell_type": "markdown",
     "metadata": {},
     "source": [
      "### Funciones sin nombre (funciones lambda)\n",
      "\n",
      "En Python podemos tambi\u00e9n crear funciones sin nombre, usando la palabra clave `lambda`:"
     ]
    },
    {
     "cell_type": "code",
     "collapsed": false,
     "input": [
      "f1 = lambda x: x**2\n",
      "    \n",
      "# es equivalente a \n",
      "\n",
      "def f2(x):\n",
      "    return x**2"
     ],
     "language": "python",
     "metadata": {},
     "outputs": [],
     "prompt_number": 112
    },
    {
     "cell_type": "code",
     "collapsed": false,
     "input": [
      "f1(2), f2(2)"
     ],
     "language": "python",
     "metadata": {},
     "outputs": [
      {
       "metadata": {},
       "output_type": "pyout",
       "prompt_number": 113,
       "text": [
        "(4, 4)"
       ]
      }
     ],
     "prompt_number": 113
    },
    {
     "cell_type": "markdown",
     "metadata": {},
     "source": [
      "Esta t\u00e9cnica es \u00fatil, por ejemplo, cuando queremos pasar una funci\u00f3n simple como argumento de otra funci\u00f3n, como en este caso:"
     ]
    },
    {
     "cell_type": "code",
     "collapsed": false,
     "input": [
      "# map es una funci\u00f3n predefinida en Python\n",
      "map(lambda x: x**2, range(-3,4))"
     ],
     "language": "python",
     "metadata": {},
     "outputs": [
      {
       "metadata": {},
       "output_type": "pyout",
       "prompt_number": 114,
       "text": [
        "[9, 4, 1, 0, 1, 4, 9]"
       ]
      }
     ],
     "prompt_number": 114
    },
    {
     "cell_type": "code",
     "collapsed": false,
     "input": [
      "# in Python 3 podemos usar `list(...)` para convertir la iteraci\u00f3n a una lista expl\u00edcita\n",
      "list(map(lambda x: x**2, range(-3,4)))"
     ],
     "language": "python",
     "metadata": {},
     "outputs": [
      {
       "metadata": {},
       "output_type": "pyout",
       "prompt_number": 115,
       "text": [
        "[9, 4, 1, 0, 1, 4, 9]"
       ]
      }
     ],
     "prompt_number": 115
    },
    {
     "cell_type": "markdown",
     "metadata": {},
     "source": [
      "## Clases\n",
      "\n",
      "Las clases son una caracter\u00edstica clave de la programaci\u00f3n orientada al objeto. Una clase es una estructura para representar un objeto y las operaciones que pueden ser realizadas sobre el objeto. \n",
      "\n",
      "En Python una clase puede contener *atributos* (variables) y *m\u00e9todos* (funciones).\n",
      "\n",
      "En Python una clase es definida casi como una funci\u00f3n, pero usando la palabra clave `class`, y la definici\u00f3n de la clase usualmente contiene algunas definiciones de m\u00e9todos (una funci\u00f3n en una clase).\n",
      "\n",
      "* Cada m\u00e9todo de una clase deber\u00eda tener un argumento `self` como su primer argumento. Este objeto es una autoreferencia.\n",
      "\n",
      "* Algunos nombres de m\u00e9todos de clases tienen un significado especial, por ejemplo:\n",
      "\n",
      " * `__init__`: El nombre del m\u00e9todo que es invocado cuando el objeto es creado por primera vez.\n",
      " * `__str__` : Un m\u00e9todo que es invocado cuando se necesita una simple representaci\u00f3n de cadena de la clase, como por ejemplo cuando se imprime.\n",
      " * Existen muchas m\u00e1s, ver http://docs.python.org/2/reference/datamodel.html#special-method-names"
     ]
    },
    {
     "cell_type": "code",
     "collapsed": false,
     "input": [
      "class Punto:\n",
      "    \"\"\"\n",
      "    Clase simple para representar un punto en un sistema de coordenadas cartesiano.\n",
      "    \"\"\"\n",
      "    \n",
      "    def __init__(self, x, y):\n",
      "        \"\"\"\n",
      "        Crea un nuevo punto en x, y.\n",
      "        \"\"\"\n",
      "        self.x = x\n",
      "        self.y = y\n",
      "        \n",
      "    def traslada(self, dx, dy):\n",
      "        \"\"\"\n",
      "        Traslada el punto en dx y dy en las direcciones x e y respectivamente.\n",
      "        \"\"\"\n",
      "        self.x += dx\n",
      "        self.y += dy\n",
      "        \n",
      "    def __str__(self):\n",
      "        return(\"Punto en [%f, %f]\" % (self.x, self.y))"
     ],
     "language": "python",
     "metadata": {},
     "outputs": [],
     "prompt_number": 116
    },
    {
     "cell_type": "markdown",
     "metadata": {},
     "source": [
      "Para crear una nuva instancia de una clase:"
     ]
    },
    {
     "cell_type": "code",
     "collapsed": false,
     "input": [
      "p1 = Punto(0, 0) # eso invoca el m\u00e9todo __init__ en la cl\u00e1se Punto\n",
      "\n",
      "print(p1)         # esto invoca el m\u00e9todo __str__ "
     ],
     "language": "python",
     "metadata": {},
     "outputs": [
      {
       "output_type": "stream",
       "stream": "stdout",
       "text": [
        "Punto en [0.000000, 0.000000]\n"
       ]
      }
     ],
     "prompt_number": 117
    },
    {
     "cell_type": "markdown",
     "metadata": {},
     "source": [
      "Para invocar un m\u00e9todo en la instancia de clase `p`:"
     ]
    },
    {
     "cell_type": "code",
     "collapsed": false,
     "input": [
      "p2 = Punto(1, 1)\n",
      "\n",
      "p1.traslada(0.25, 1.5)\n",
      "\n",
      "print(p1)\n",
      "print(p2)"
     ],
     "language": "python",
     "metadata": {},
     "outputs": [
      {
       "output_type": "stream",
       "stream": "stdout",
       "text": [
        "Punto en [0.250000, 1.500000]\n",
        "Punto en [1.000000, 1.000000]\n"
       ]
      }
     ],
     "prompt_number": 118
    },
    {
     "cell_type": "markdown",
     "metadata": {},
     "source": [
      "Note que llamar a m\u00e9todos de clases puede modificar el estado de esa instancia de clase particular, pero no afecta otras instancias de la clase o alguna otra variable global.\n",
      "\n",
      "Esto es una de las cosas buenas de un dise\u00f1o orientado al objeto: c\u00f3digo como las funciones y variables relacionadas son agrupadas en entidades separadas e independientes. "
     ]
    },
    {
     "cell_type": "heading",
     "level": 2,
     "metadata": {},
     "source": [
      "M\u00f3dulos"
     ]
    },
    {
     "cell_type": "markdown",
     "metadata": {},
     "source": [
      "La mayor\u00eda de la funcionalidad en Python es provista por *m\u00f3dulos*. La Librer\u00eda Est\u00e1ndar de Python es una gran colecci\u00f3n de  m\u00f3dulos que proveen implementaciones *multiplataforma* de recursos tales como el acceso al sistema operativo, entrada/salido de archivos (file I/O), manejo de cadenas, comunicaci\u00f3n en redes, y mucho m\u00e1s.\n",
      "\n",
      "Para usar un m\u00f3dulo en un programa Python \u00e9ste debe primero ser **importado**. Un m\u00f3dulo puede ser importado usando el comando `import`. Por ejemplo, para importar el m\u00f3dulo `math`, que contiene muchas funciones matem\u00e1ticas est\u00e1ndar, podemos usar:"
     ]
    },
    {
     "cell_type": "code",
     "collapsed": false,
     "input": [
      "import math"
     ],
     "language": "python",
     "metadata": {},
     "outputs": [],
     "prompt_number": 6
    },
    {
     "cell_type": "markdown",
     "metadata": {},
     "source": [
      "Esto incluye el m\u00f3dulo completo y lo deja disponible para su uso en el programa. Por ejemplo, podemos escribir:"
     ]
    },
    {
     "cell_type": "code",
     "collapsed": false,
     "input": [
      "import math\n",
      "\n",
      "x = math.cos(2 * math.pi)\n",
      "\n",
      "print(x)"
     ],
     "language": "python",
     "metadata": {},
     "outputs": [
      {
       "output_type": "stream",
       "stream": "stdout",
       "text": [
        "1.0\n"
       ]
      }
     ],
     "prompt_number": 7
    },
    {
     "cell_type": "markdown",
     "metadata": {},
     "source": [
      "Alternativamente, podemos elegir importar todos los s\u00edmbolos (funciones y variables) en un m\u00f3dulo al espacio de nombres (namespace) actual (de modo que no necesitemos usar el prefijo \"`math.`\" cada vez que usemos algo del m\u00f3dulo `math`:"
     ]
    },
    {
     "cell_type": "code",
     "collapsed": false,
     "input": [
      "from math import *\n",
      "\n",
      "x = cos(2 * pi)\n",
      "\n",
      "print(x)"
     ],
     "language": "python",
     "metadata": {},
     "outputs": [
      {
       "output_type": "stream",
       "stream": "stdout",
       "text": [
        "1.0\n"
       ]
      }
     ],
     "prompt_number": 8
    },
    {
     "cell_type": "markdown",
     "metadata": {},
     "source": [
      "Esta forma de proceder puede ser muy conveniente, pero en programas largos que incluyen muchos m\u00f3dulos es a menudo una buena idea mantener los s\u00edmbolos de cada m\u00f3dulo en sus propios espacios de nombres, usando `import math`. Esto elimina potenciales confusiones con eventuales colisiones de nombres.\n",
      "\n",
      "Como una tercera alternativa, podemos importar s\u00f3lo algunos s\u00edmbolos seleccionados desde un m\u00f3dulo listando expl\u00edcitamente aquellos s\u00edmbolos que deseamos importar, en lugar de usar el car\u00e1cter comod\u00edn `*`:"
     ]
    },
    {
     "cell_type": "code",
     "collapsed": false,
     "input": [
      "from math import cos, pi\n",
      "\n",
      "x = cos(2 * pi)\n",
      "\n",
      "print(x)"
     ],
     "language": "python",
     "metadata": {},
     "outputs": [
      {
       "output_type": "stream",
       "stream": "stdout",
       "text": [
        "1.0\n"
       ]
      }
     ],
     "prompt_number": 9
    },
    {
     "cell_type": "heading",
     "level": 3,
     "metadata": {},
     "source": [
      " Mirando qu\u00e9 contiene un m\u00f3dulo, y su documentaci\u00f3n"
     ]
    },
    {
     "cell_type": "markdown",
     "metadata": {},
     "source": [
      "Luego que se ha cargado un m\u00f3dulo, podemos listar los s\u00edmbolos que \u00e9ste provee usando la funci\u00f3n `dir`:"
     ]
    },
    {
     "cell_type": "code",
     "collapsed": false,
     "input": [
      "import math\n",
      "\n",
      "dir(math)"
     ],
     "language": "python",
     "metadata": {},
     "outputs": [
      {
       "metadata": {},
       "output_type": "pyout",
       "prompt_number": 10,
       "text": [
        "['__doc__',\n",
        " '__name__',\n",
        " '__package__',\n",
        " 'acos',\n",
        " 'acosh',\n",
        " 'asin',\n",
        " 'asinh',\n",
        " 'atan',\n",
        " 'atan2',\n",
        " 'atanh',\n",
        " 'ceil',\n",
        " 'copysign',\n",
        " 'cos',\n",
        " 'cosh',\n",
        " 'degrees',\n",
        " 'e',\n",
        " 'erf',\n",
        " 'erfc',\n",
        " 'exp',\n",
        " 'expm1',\n",
        " 'fabs',\n",
        " 'factorial',\n",
        " 'floor',\n",
        " 'fmod',\n",
        " 'frexp',\n",
        " 'fsum',\n",
        " 'gamma',\n",
        " 'hypot',\n",
        " 'isinf',\n",
        " 'isnan',\n",
        " 'ldexp',\n",
        " 'lgamma',\n",
        " 'log',\n",
        " 'log10',\n",
        " 'log1p',\n",
        " 'modf',\n",
        " 'pi',\n",
        " 'pow',\n",
        " 'radians',\n",
        " 'sin',\n",
        " 'sinh',\n",
        " 'sqrt',\n",
        " 'tan',\n",
        " 'tanh',\n",
        " 'trunc']"
       ]
      }
     ],
     "prompt_number": 10
    },
    {
     "cell_type": "markdown",
     "metadata": {},
     "source": [
      "Usando la funci\u00f3n `help` podemos obtener una descripci\u00f3n de cada funci\u00f3n (casi... no todas las funciones tienen *docstrings*, como se les llama t\u00e9cnicamente. Sin embargo, la mayor\u00eda de las funciones est\u00e1n documentadas de esta forma). "
     ]
    },
    {
     "cell_type": "code",
     "collapsed": false,
     "input": [
      "help(math.log)"
     ],
     "language": "python",
     "metadata": {},
     "outputs": [
      {
       "output_type": "stream",
       "stream": "stdout",
       "text": [
        "Help on built-in function log in module math:\n",
        "\n",
        "log(...)\n",
        "    log(x[, base])\n",
        "    \n",
        "    Return the logarithm of x to the given base.\n",
        "    If the base not specified, returns the natural logarithm (base e) of x.\n",
        "\n"
       ]
      }
     ],
     "prompt_number": 11
    },
    {
     "cell_type": "code",
     "collapsed": false,
     "input": [
      "log(10) # calcula el logaritmo de 10 en base e"
     ],
     "language": "python",
     "metadata": {},
     "outputs": [
      {
       "metadata": {},
       "output_type": "pyout",
       "prompt_number": 132,
       "text": [
        "2.302585092994046"
       ]
      }
     ],
     "prompt_number": 132
    },
    {
     "cell_type": "code",
     "collapsed": false,
     "input": [
      "log(10, 2) # calcula el logaritmo de 10 en base 2"
     ],
     "language": "python",
     "metadata": {},
     "outputs": [
      {
       "metadata": {},
       "output_type": "pyout",
       "prompt_number": 13,
       "text": [
        "3.3219280948873626"
       ]
      }
     ],
     "prompt_number": 13
    },
    {
     "cell_type": "markdown",
     "metadata": {},
     "source": [
      "Tambi\u00e9n podemos usar la funci\u00f3n `help` directamente sobre los m\u00f3dulos: \n",
      "\n",
      "    help(math) \n",
      "\n",
      "Algunos m\u00f3dulos muy \u00fatiles de la librer\u00eda est\u00e1ndar de Python son `os` (interfaz con el sistema operativo), `sys` (Par\u00e1metros y funciones espec\u00edficas del sistema), `math` (funciones matem'aticas), `shutil` (operaciones con archivos), `subprocess`, `multiprocessing`, `threading`. \n",
      "\n",
      "Una lista completa de los m\u00f3dulos est\u00e1ndar para Python 2 y Python 3 est\u00e1 disponible (en ingl\u00e9s) en [http://docs.python.org/2/library/](http://docs.python.org/2/library/) y [http://docs.python.org/3/library/](http://docs.python.org/3/library/), respectivamente. Una versi\u00f3n en espa\u00f1ol est\u00e1 disponible en [http://pyspanishdoc.sourceforge.net/lib/lib.html](http://pyspanishdoc.sourceforge.net/lib/lib.html)."
     ]
    },
    {
     "cell_type": "heading",
     "level": 2,
     "metadata": {},
     "source": [
      "Creaci\u00f3n de M\u00f3dulos"
     ]
    },
    {
     "cell_type": "markdown",
     "metadata": {},
     "source": [
      "Uno de los conceptos m\u00e1s importantes en programaci\u00f3n es el de reusar c\u00f3digo para evitar repeticiones.\n",
      "\n",
      "La idea es escribir funciones y clases con un prop\u00f3sito y extensi\u00f3n bien definidos, y reusarlas en lugar de repetir c\u00f3digo similar en diferentes partes del programa (programaci\u00f3n modular). Usualmente el resultado es que se mejora ostensiblemente la facilidad de lectura y de mantenci\u00f3n de un programa. En la pr\u00e1ctica, esto significa que nuestro programa tendr\u00e1 menos errores, y ser\u00e1n m\u00e1s f\u00e1ciles de extender y corregir. \n",
      "\n",
      "Python permite programaci\u00f3n modular en diferentes niveles. Las funciones y las clases son ejemplos de herramientas para programaci\u00f3n modular de bajo nivel. Los m\u00f3dulos Python son construcciones de programaci\u00f3n modular de m\u00e1s alto nivel, donde podemos colectar variables relacionadas, funciones y clases. Un m\u00f3dulo Python es definido en un archivo Python (con extensi\u00f3n `.py`), y puede ser accequible a otros m\u00f3dulos Python y a programas usando el comendo `import`. \n",
      "\n",
      "Considere el siguiente ejemplo: el archivo `mimodulo.py` contiene una implementaci\u00f3n simple de una variable, una funci\u00f3n y una clase:"
     ]
    },
    {
     "cell_type": "code",
     "collapsed": false,
     "input": [
      "%more mimodulo.py"
     ],
     "language": "python",
     "metadata": {},
     "outputs": [],
     "prompt_number": 119
    },
    {
     "cell_type": "markdown",
     "metadata": {},
     "source": [
      "Podemos importar el m\u00f3dulo `mimodulo` a un programa Python usando `import`:"
     ]
    },
    {
     "cell_type": "code",
     "collapsed": false,
     "input": [
      "import mimodulo"
     ],
     "language": "python",
     "metadata": {},
     "outputs": [],
     "prompt_number": 120
    },
    {
     "cell_type": "markdown",
     "metadata": {},
     "source": [
      "Use `help(module)` para obtener un resumen de lo que suministra el m\u00f3dulo:"
     ]
    },
    {
     "cell_type": "code",
     "collapsed": false,
     "input": [
      "help(mimodulo)"
     ],
     "language": "python",
     "metadata": {},
     "outputs": [
      {
       "output_type": "stream",
       "stream": "stdout",
       "text": [
        "Help on module mimodulo:\n",
        "\n",
        "NAME\n",
        "    mimodulo\n",
        "\n",
        "FILE\n",
        "    /home/gr/Dropbox/Git/clases-python-cientifico/mimodulo.py\n",
        "\n",
        "DESCRIPTION\n",
        "    Ejemplo de un m\u00f3dulo Python. Contiene una variable llamada mi_variable,\n",
        "    una funci\u00f3n llamada mi_function, y una clase llamada MiClase.\n",
        "\n",
        "CLASSES\n",
        "    MiClase\n",
        "    \n",
        "    class MiClase\n",
        "     |  Clase ejemplo.\n",
        "     |  \n",
        "     |  Methods defined here:\n",
        "     |  \n",
        "     |  __init__(self)\n",
        "     |  \n",
        "     |  get_variable(self)\n",
        "     |  \n",
        "     |  set_variable(self, nuevo_valor)\n",
        "     |      Asigna self.variable a un nuevo valor\n",
        "\n",
        "FUNCTIONS\n",
        "    mi_function()\n",
        "        Funci\u00f3n ejemplo\n",
        "\n",
        "DATA\n",
        "    mi_variable = 0\n",
        "\n",
        "\n"
       ]
      }
     ],
     "prompt_number": 121
    },
    {
     "cell_type": "code",
     "collapsed": false,
     "input": [
      "mimodulo.mi_variable"
     ],
     "language": "python",
     "metadata": {},
     "outputs": [
      {
       "metadata": {},
       "output_type": "pyout",
       "prompt_number": 122,
       "text": [
        "0"
       ]
      }
     ],
     "prompt_number": 122
    },
    {
     "cell_type": "code",
     "collapsed": false,
     "input": [
      "mimodulo.mi_function() "
     ],
     "language": "python",
     "metadata": {},
     "outputs": [
      {
       "metadata": {},
       "output_type": "pyout",
       "prompt_number": 123,
       "text": [
        "0"
       ]
      }
     ],
     "prompt_number": 123
    },
    {
     "cell_type": "code",
     "collapsed": false,
     "input": [
      "mi_clase = mimodulo.MiClase() \n",
      "mi_clase.set_variable(10)\n",
      "mi_clase.get_variable()"
     ],
     "language": "python",
     "metadata": {},
     "outputs": [
      {
       "metadata": {},
       "output_type": "pyout",
       "prompt_number": 124,
       "text": [
        "10"
       ]
      }
     ],
     "prompt_number": 124
    },
    {
     "cell_type": "markdown",
     "metadata": {},
     "source": [
      "Si hacemos cambios en el c\u00f3digo de `mimodulo.py`, necesitamos recargaro usando `reload`:"
     ]
    },
    {
     "cell_type": "code",
     "collapsed": false,
     "input": [
      "reload(mimodulo)  # s\u00f3lo funciona en Python 2"
     ],
     "language": "python",
     "metadata": {},
     "outputs": [
      {
       "metadata": {},
       "output_type": "pyout",
       "prompt_number": 125,
       "text": [
        "<module 'mimodulo' from 'mimodulo.pyc'>"
       ]
      }
     ],
     "prompt_number": 125
    },
    {
     "cell_type": "markdown",
     "metadata": {},
     "source": [
      "## Excepciones\n",
      "\n",
      "En Python los errores son manejados con una construcci\u00f3n especial de lenguaje llamada \"Exceptions\" (excepciones). Cuando ocurre un error, una excepci\u00f3n puede ser hecha, que interrumpe el flujo normal del programa y retorna a alg\u00fan otro lugar del c\u00f3digo donde se definan los comandos try-except m\u00e1s cercanos.\n"
     ]
    },
    {
     "cell_type": "markdown",
     "metadata": {},
     "source": [
      "Para generar una excepci\u00f3n podemos usar el comando `raise`, que toma un argumento que debe ser una instancia de la clase  `BaseExpection` o una clase derivada de ella. "
     ]
    },
    {
     "cell_type": "code",
     "collapsed": false,
     "input": [
      "raise Exception(\"descripci\u00f3n del error\")"
     ],
     "language": "python",
     "metadata": {},
     "outputs": [
      {
       "ename": "Exception",
       "evalue": "descripci\u00f3n del error",
       "output_type": "pyerr",
       "traceback": [
        "\u001b[1;31m---------------------------------------------------------------------------\u001b[0m\n\u001b[1;31mException\u001b[0m                                 Traceback (most recent call last)",
        "\u001b[1;32m<ipython-input-126-ae92a99eabb1>\u001b[0m in \u001b[0;36m<module>\u001b[1;34m()\u001b[0m\n\u001b[1;32m----> 1\u001b[1;33m \u001b[1;32mraise\u001b[0m \u001b[0mException\u001b[0m\u001b[1;33m(\u001b[0m\u001b[1;34m\"descripci\u00f3n del error\"\u001b[0m\u001b[1;33m)\u001b[0m\u001b[1;33m\u001b[0m\u001b[0m\n\u001b[0m",
        "\u001b[1;31mException\u001b[0m: descripci\u00f3n del error"
       ]
      }
     ],
     "prompt_number": 126
    },
    {
     "cell_type": "markdown",
     "metadata": {},
     "source": [
      "Un \u00faso t\u00edpico de las excepciones es para abortar funciones cuando ocurre alg\u00fan error, por ejemplo:\n",
      "\n",
      "    def mi_funcion(argumentos):\n",
      "    \n",
      "        if not verify(argumentos):\n",
      "            raise Expection(\"Argumentos invalidos\")\n",
      "        \n",
      "        # el resto del c\u00f3digo sigue aqu\u00ed"
     ]
    },
    {
     "cell_type": "markdown",
     "metadata": {},
     "source": [
      "Para capturar los errores que son generados por funciones y m\u00e9todos de clases, o por el mismo int\u00e9rprete Python, use los comandos `try` y `except`:\n",
      "\n",
      "    try:\n",
      "        # aqu\u00ed va el c\u00f3digo normal\n",
      "    except:\n",
      "        # el c\u00f3digo para manejar el error va aqu\u00ed\n",
      "        # Este c\u00f3digo no se ejecuta a menos que \n",
      "        # el c\u00f3digo de arriba genere un error\n",
      "\n",
      "Por ejemplo:"
     ]
    },
    {
     "cell_type": "code",
     "collapsed": false,
     "input": [
      "try:\n",
      "    print(\"test\")\n",
      "    # genera un error: ya que la variable test no est\u00e1 definida\n",
      "    print(test)\n",
      "except:\n",
      "    print(\"Encontr\u00e9 una excepci\u00f3n\")"
     ],
     "language": "python",
     "metadata": {},
     "outputs": [
      {
       "output_type": "stream",
       "stream": "stdout",
       "text": [
        "test\n",
        "Encontr\u00e9 una excepci\u00f3n\n"
       ]
      }
     ],
     "prompt_number": 127
    },
    {
     "cell_type": "markdown",
     "metadata": {},
     "source": [
      "Para obtener informaci\u00f3n sobre un error, podemos accesar la instancia de clase `Exception` que describe la excepci\u00f3n usando por ejemplo:\n",
      "\n",
      "    except Exception as e:"
     ]
    },
    {
     "cell_type": "code",
     "collapsed": false,
     "input": [
      "try:\n",
      "    print(\"test\")\n",
      "    # genera un error: ya que la variable test no est\u00e1 definida\n",
      "    print(test)\n",
      "except Exception as e:\n",
      "    print(\"Encontr\u00e9 una excepci\u00f3n:\" + str(e))"
     ],
     "language": "python",
     "metadata": {},
     "outputs": [
      {
       "output_type": "stream",
       "stream": "stdout",
       "text": [
        "test\n",
        "Encontr\u00e9 una excepci\u00f3n:name 'test' is not defined\n"
       ]
      }
     ],
     "prompt_number": 128
    },
    {
     "cell_type": "markdown",
     "metadata": {},
     "source": [
      "## Lectura adicional\n",
      "\n",
      "* [http://www.python.org](http://www.python.org) - The official web page of the Python programming language.\n",
      "* [http://www.python.org/dev/peps/pep-0008](http://www.python.org/dev/peps/pep-0008) - Gu\u00eda de estilo para la programaci\u00f3n en Python. Altamente recomendada (en ingl\u00e9s).\n",
      "* [http://www.greenteapress.com/thinkpython/](http://www.greenteapress.com/thinkpython/) - Un libro gratuito sobre Python.\n",
      "* [Python Essential Reference](http://www.amazon.com/Python-Essential-Reference-4th-Edition/dp/0672329786) - Un buen libro de referencia sobre programaci\u00f3n en Python."
     ]
    },
    {
     "cell_type": "markdown",
     "metadata": {},
     "source": [
      "### Versiones"
     ]
    },
    {
     "cell_type": "code",
     "collapsed": false,
     "input": [
      "import sys\n",
      "import IPython"
     ],
     "language": "python",
     "metadata": {},
     "outputs": [],
     "prompt_number": 129
    },
    {
     "cell_type": "code",
     "collapsed": false,
     "input": [
      "print(\"Este notebook fue evaluado con: Python %s y IPython %s.\" % (sys.version, IPython.__version__))"
     ],
     "language": "python",
     "metadata": {},
     "outputs": [
      {
       "output_type": "stream",
       "stream": "stdout",
       "text": [
        "Este notebook fue evaluado con: Python 2.7.6 (default, Mar 22 2014, 22:59:56) \n",
        "[GCC 4.8.2] y IPython 2.1.0.\n"
       ]
      }
     ],
     "prompt_number": 130
    }
   ],
   "metadata": {}
  }
 ]
}